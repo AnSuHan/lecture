{
 "cells": [
  {
   "cell_type": "markdown",
   "id": "a316bb6e",
   "metadata": {},
   "source": [
    "\n",
    "# [실습] 파이썬 기본 문법 실습 노트북\n",
    "\n",
    "목표: **for, while, if-else, 내장함수, 메서드, 모듈, 인덱싱, 딕셔너리, 슬라이싱** 핵심을 실습으로 빠르게 익히기"
   ]
  },
  {
   "cell_type": "markdown",
   "id": "80e01934",
   "metadata": {},
   "source": [
    "\n",
    "## 1) `for` 문\n",
    "- 시퀀스(리스트, 문자열 등)를 순회하면서 반복 실행\n",
    "- `for x in iterable:` 형태\n"
   ]
  },
  {
   "cell_type": "markdown",
   "id": "6ab24841",
   "metadata": {},
   "source": [
    "### 연습 문제\n",
    "문제: 1부터 100까지의 정수 중 짝수의 합을 for문으로 구해 변수 even_sum에 저장하고 출력하세요."
   ]
  },
  {
   "cell_type": "code",
   "execution_count": 29,
   "id": "bb1fdd26",
   "metadata": {},
   "outputs": [
    {
     "name": "stdout",
     "output_type": "stream",
     "text": [
      "5050\n"
     ]
    }
   ],
   "source": [
    "even_sum = 0\n",
    "\n",
    "for i in range(1, 101):\n",
    "    even_sum += i\n",
    "print(even_sum)"
   ]
  },
  {
   "cell_type": "markdown",
   "id": "04ccfc1d",
   "metadata": {},
   "source": [
    "\n",
    "## 2) `while` 문\n",
    "- 조건이 참인 동안 반복\n",
    "- 무한루프 방지를 위해 **탈출 조건**을 명확히!\n"
   ]
  },
  {
   "cell_type": "markdown",
   "id": "fa4f0a6f",
   "metadata": {},
   "source": [
    "### 연습 문제\n",
    "문제: 3의 배수의 합이 1000을 넘어설 때까지 누적합을 구하고 마지막으로 더한 값(last)을 함께 출력하세요."
   ]
  },
  {
   "cell_type": "code",
   "execution_count": 30,
   "id": "b1757772",
   "metadata": {},
   "outputs": [
    {
     "name": "stdout",
     "output_type": "stream",
     "text": [
      "1053 79\n"
     ]
    }
   ],
   "source": [
    "sum_value = 0\n",
    "last = 0\n",
    "\n",
    "# 여기에 while문을 작성하세요\n",
    "while sum_value <= 1000:\n",
    "    if last % 3 == 0:\n",
    "        sum_value += last\n",
    "    \n",
    "    last += 1\n",
    "\n",
    "print(sum_value, last)"
   ]
  },
  {
   "cell_type": "markdown",
   "id": "d953fd52",
   "metadata": {},
   "source": [
    "\n",
    "## 3) `if - elif - else`\n",
    "- 분기 처리의 기본\n",
    "- `if 조건: ... elif 조건: ... else: ...`\n"
   ]
  },
  {
   "cell_type": "markdown",
   "id": "dbb398bc",
   "metadata": {},
   "source": [
    "### 연습 문제\n",
    "문제: 점수(score)에 따라 등급을 출력하세요. 90 이상 A, 80 이상 B, 70 이상 C, 나머지 D"
   ]
  },
  {
   "cell_type": "code",
   "execution_count": 31,
   "id": "7a6057d3",
   "metadata": {},
   "outputs": [
    {
     "name": "stdout",
     "output_type": "stream",
     "text": [
      "B\n"
     ]
    }
   ],
   "source": [
    "score = 86\n",
    "\n",
    "\n",
    "# 여기에 if-elif-else를 작성하세요\n",
    "if score >= 90:\n",
    "    grade = \"A\"\n",
    "elif score >= 80:\n",
    "    grade = \"B\"\n",
    "elif score >= 70:\n",
    "    grade = \"C\"\n",
    "else:\n",
    "    grade = \"D\"\n",
    "\n",
    "print(grade)"
   ]
  },
  {
   "cell_type": "markdown",
   "id": "9f597a35",
   "metadata": {},
   "source": [
    "\n",
    "## 4) 내장함수 (built-ins)\n",
    "- 자주 쓰는 예: `len`, `sum`, `min`, `max`, `sorted`, `range`, `enumerate`, `zip`, `map`\n"
   ]
  },
  {
   "cell_type": "markdown",
   "id": "90a59f7a",
   "metadata": {},
   "source": [
    "### 연습 문제\n",
    "문제: 리스트 nums에서 길이(len), 합(sum), 최댓값(max), 오름차순 정렬(sorted)을 구해 각각 출력하세요."
   ]
  },
  {
   "cell_type": "code",
   "execution_count": 32,
   "id": "80247931",
   "metadata": {},
   "outputs": [
    {
     "name": "stdout",
     "output_type": "stream",
     "text": [
      "len: 6, sum: 69, max: 21, sort: [3, 7, 7, 12, 19, 21]\n"
     ]
    }
   ],
   "source": [
    "nums = [12, 7, 19, 7, 3, 21]\n",
    "\n",
    "\n",
    "# 여기에 작성하세요\n",
    "value_len = len(nums)\n",
    "value_sum = sum(nums)\n",
    "value_max = max(nums)\n",
    "nums.sort()\n",
    "\n",
    "print(f\"len: {value_len}, sum: {value_sum}, max: {value_max}, sort: {nums}\")"
   ]
  },
  {
   "cell_type": "markdown",
   "id": "6df31180",
   "metadata": {},
   "source": [
    "\n",
    "## 5) 메서드 (methods)\n",
    "- 객체가 가진 함수. 예: 문자열(str)의 `.split()`, 리스트(list)의 `.append()`, 딕셔너리(dict)의 `.get()` 등\n"
   ]
  },
  {
   "cell_type": "markdown",
   "id": "392ee236",
   "metadata": {},
   "source": [
    "### 연습 문제\n",
    "문제: 주어진 텍스트에서 단어 수를 세어보세요. \n",
    "1) 문자열을 공백 기준으로 분리 (split)\n",
    "2) 총 단어 개수 출력"
   ]
  },
  {
   "cell_type": "code",
   "execution_count": 39,
   "id": "28358918",
   "metadata": {},
   "outputs": [
    {
     "name": "stdout",
     "output_type": "stream",
     "text": [
      "word count: 9 / word: ['Python', 'is', 'simple', 'but', 'powerful.', 'Python', 'makes', 'you', 'productive.']\n"
     ]
    }
   ],
   "source": [
    "text = \"Python is simple but powerful. Python makes you productive.\"\n",
    "\n",
    "# 여기에 작성하세요\n",
    "tokens = text.split(\" \")\n",
    "print(f\"word count: {len(tokens)} / word: {tokens}\")"
   ]
  },
  {
   "cell_type": "markdown",
   "id": "502626ba",
   "metadata": {},
   "source": [
    "\n",
    "## 6) 함수 (function)\n",
    "\n"
   ]
  },
  {
   "cell_type": "markdown",
   "id": "76328c9e",
   "metadata": {},
   "source": [
    "## 연습문제\n",
    "문제: 숫자 리스트 분석 함수 만들기\n",
    "\n",
    "함수명: analyze_numbers(nums)  \n",
    "\n",
    "입력: 정수 리스트 nums\n",
    "\n",
    "동작:\n",
    "1. 짝수의 합(even_sum)과 홀수의 합(odd_sum)을 반복문과 if로 계산\n",
    "2. 최댓값(max)과 최솟값(min)은 내장함수로 계산\n",
    "3. 평균(avg)은 소수점 둘째 자리에서 반올림(round(x, 2))\n",
    "4. 빈 리스트가 들어오면 None을 반환"
   ]
  },
  {
   "cell_type": "code",
   "execution_count": 34,
   "id": "0c7c894f",
   "metadata": {},
   "outputs": [
    {
     "name": "stdout",
     "output_type": "stream",
     "text": [
      "{'even_sum': 12, 'odd_sum': 57, 'max': 21, 'min': 3, 'avg': 11.5}\n"
     ]
    },
    {
     "ename": "ValueError",
     "evalue": "max() iterable argument is empty",
     "output_type": "error",
     "traceback": [
      "\u001b[31m---------------------------------------------------------------------------\u001b[39m",
      "\u001b[31mValueError\u001b[39m                                Traceback (most recent call last)",
      "\u001b[36mCell\u001b[39m\u001b[36m \u001b[39m\u001b[32mIn[34]\u001b[39m\u001b[32m, line 42\u001b[39m\n\u001b[32m     39\u001b[39m \u001b[38;5;28;01massert\u001b[39;00m result[\u001b[33m\"\u001b[39m\u001b[33mavg\u001b[39m\u001b[33m\"\u001b[39m] == \u001b[32m11.5\u001b[39m\n\u001b[32m     41\u001b[39m \u001b[38;5;66;03m# 빈 리스트 케이스\u001b[39;00m\n\u001b[32m---> \u001b[39m\u001b[32m42\u001b[39m \u001b[38;5;28;01massert\u001b[39;00m \u001b[43manalyze_numbers\u001b[49m\u001b[43m(\u001b[49m\u001b[43m[\u001b[49m\u001b[43m]\u001b[49m\u001b[43m)\u001b[49m \u001b[38;5;129;01mis\u001b[39;00m \u001b[38;5;28;01mNone\u001b[39;00m\n",
      "\u001b[36mCell\u001b[39m\u001b[36m \u001b[39m\u001b[32mIn[34]\u001b[39m\u001b[32m, line 23\u001b[39m, in \u001b[36manalyze_numbers\u001b[39m\u001b[34m(nums)\u001b[39m\n\u001b[32m     20\u001b[39m     \u001b[38;5;28;01melse\u001b[39;00m:\n\u001b[32m     21\u001b[39m         odd_sum += num\n\u001b[32m---> \u001b[39m\u001b[32m23\u001b[39m mx = \u001b[38;5;28;43mmax\u001b[39;49m\u001b[43m(\u001b[49m\u001b[43mnums\u001b[49m\u001b[43m)\u001b[49m\n\u001b[32m     24\u001b[39m mn = \u001b[38;5;28mmin\u001b[39m(nums)\n\u001b[32m     25\u001b[39m avg = \u001b[38;5;28mround\u001b[39m(\u001b[38;5;28msum\u001b[39m(nums) / \u001b[38;5;28mlen\u001b[39m(nums), \u001b[32m2\u001b[39m)\n",
      "\u001b[31mValueError\u001b[39m: max() iterable argument is empty"
     ]
    }
   ],
   "source": [
    "def analyze_numbers(nums):\n",
    "    \"\"\"\n",
    "    nums: 정수 리스트\n",
    "    빈 리스트면 None 반환\n",
    "    반환 형식:\n",
    "    {\n",
    "        \"even_sum\": int,\n",
    "        \"odd_sum\": int,\n",
    "        \"max\": int,\n",
    "        \"min\": int,\n",
    "        \"avg\": float  # 둘째 자리 반올림\n",
    "    }\n",
    "    \"\"\"\n",
    "    # 여기에 코드를 작성하세요\n",
    "    even_sum, odd_sum = 0, 0\n",
    "    \n",
    "    for num in nums:\n",
    "        if num % 2 == 0:\n",
    "            even_sum += num\n",
    "        else:\n",
    "            odd_sum += num\n",
    "            \n",
    "    mx = max(nums)\n",
    "    mn = min(nums)\n",
    "    avg = round(sum(nums) / len(nums), 2)\n",
    "\n",
    "    return {\"even_sum\": even_sum, \"odd_sum\": odd_sum, \"max\": mx, \"min\": mn, \"avg\": avg}\n",
    "\n",
    "\n",
    "sample = [12, 7, 19, 7, 3, 21]\n",
    "result = analyze_numbers(sample)\n",
    "print(result)\n",
    "\n",
    "# 간단한 검증(테스트)\n",
    "assert result[\"even_sum\"] == 12\n",
    "assert result[\"odd_sum\"] == 57\n",
    "assert result[\"max\"] == 21\n",
    "assert result[\"min\"] == 3\n",
    "assert result[\"avg\"] == 11.5\n",
    "\n",
    "# 빈 리스트 케이스\n",
    "assert analyze_numbers([]) is None"
   ]
  },
  {
   "cell_type": "markdown",
   "id": "b4058afa",
   "metadata": {},
   "source": [
    "\n",
    "## 7) 모듈 (modules)\n",
    "- 표준 라이브러리 불러오기: `import math`, `import random as rd`, `from statistics import mean`\n"
   ]
  },
  {
   "cell_type": "markdown",
   "id": "0730e2d1",
   "metadata": {},
   "source": [
    "### 연습 문제\n",
    "\n",
    "문제: random 모듈을 사용해 1~45 사이 정수 6개(중복 없이) 로또 번호를 생성해 오름차순으로 출력하세요.  \n",
    "힌트: random.sample, sorted  \n",
    "(외부 패키지 설치 금지, 표준 라이브러리만 사용)"
   ]
  },
  {
   "cell_type": "code",
   "execution_count": 35,
   "id": "7f778fe6",
   "metadata": {},
   "outputs": [
    {
     "name": "stdout",
     "output_type": "stream",
     "text": [
      "selected: [8, 18, 25, 26, 35, 43]\n"
     ]
    }
   ],
   "source": [
    "# 여기에 작성하세요\n",
    "import math\n",
    "import random as rd\n",
    "from statistics import mean\n",
    "\n",
    "selected = []\n",
    "while True:\n",
    "    if len(selected) == 6:\n",
    "        break\n",
    "    randNum = rd.randint(1, 45)\n",
    "    if randNum not in selected:\n",
    "        selected.append(randNum)\n",
    "        \n",
    "selected.sort()\n",
    "\n",
    "print(f\"selected: {selected}\")\n",
    "    "
   ]
  },
  {
   "cell_type": "markdown",
   "id": "e0691ea8",
   "metadata": {},
   "source": [
    "\n",
    "## 8) 인덱싱 (indexing)\n",
    "- 시퀀스의 특정 위치 요소 접근: `s[0]`, `s[-1]`\n"
   ]
  },
  {
   "cell_type": "markdown",
   "id": "b0562e72",
   "metadata": {},
   "source": [
    "### 연습 문제\n",
    "문제: 문자열 s에서 첫 글자, 마지막 글자, 세 번째 글자(인덱스 2)를 뽑아 각각 변수 a, b, c에 저장하고 출력하세요."
   ]
  },
  {
   "cell_type": "code",
   "execution_count": 36,
   "id": "8a7d0718",
   "metadata": {},
   "outputs": [
    {
     "name": "stdout",
     "output_type": "stream",
     "text": [
      "i g d\n"
     ]
    }
   ],
   "source": [
    "s = \"indexing\"\n",
    "\n",
    "a = None  # 첫 글자\n",
    "b = None  # 마지막 글자\n",
    "c = None  # 세 번째 글자\n",
    "\n",
    "# 여기에 작성하세요\n",
    "a = s[0]\n",
    "b = s[-1]\n",
    "c = s[2]\n",
    "\n",
    "print(a, b, c)"
   ]
  },
  {
   "cell_type": "markdown",
   "id": "ff8f790a",
   "metadata": {},
   "source": [
    "\n",
    "## 9) 슬라이싱 (slicing)\n",
    "- 구간 추출: `s[start:stop:step]` (stop은 **미포함**)\n"
   ]
  },
  {
   "cell_type": "markdown",
   "id": "30b19f01",
   "metadata": {},
   "source": [
    "### 연습 문제\n",
    "\n",
    "문제: 리스트 data에서\n",
    "1) 앞에서 3개\n",
    "2) 뒤에서 3개\n",
    "3) 짝수 인덱스 요소만\n",
    "4) 역순 리스트를 각각 출력하세요.\n"
   ]
  },
  {
   "cell_type": "code",
   "execution_count": 40,
   "id": "acc86173",
   "metadata": {},
   "outputs": [
    {
     "name": "stdout",
     "output_type": "stream",
     "text": [
      "front: [0, 1, 2], back: [7, 8, 9], odd: [0, 2, 4, 6, 8], reversed: [9, 8, 7, 6, 5, 4, 3, 2, 1, 0]\n"
     ]
    }
   ],
   "source": [
    "data = list(range(10))  # [0,1,2,3,4,5,6,7,8,9]\n",
    "\n",
    "# 여기에 작성하세요\n",
    "front = data[:3]\n",
    "back = data[len(data) -3:]\n",
    "odd = data[::2]\n",
    "reversed = data[::-1]\n",
    "\n",
    "print(f\"front: {front}, back: {back}, odd: {odd}, reversed: {reversed}\")"
   ]
  },
  {
   "cell_type": "markdown",
   "id": "c2d04700",
   "metadata": {},
   "source": [
    "\n",
    "## 10) 딕셔너리 (dictionary)\n",
    "- 키-값 매핑 구조: 조회, 추가/수정, 삭제, 안전조회(get)\n"
   ]
  },
  {
   "cell_type": "markdown",
   "id": "6e51311e",
   "metadata": {},
   "source": [
    "### 연습 문제\n",
    "\n",
    "문제: 빈 딕셔너리 scores를 만들고, ('Alice', 88), ('Bob', 92), ('Cara', 75)를 추가한 뒤\n",
    "- 딕셔너리 출력\n",
    "- 'Bob'의 점수를 95로 수정 후 출력\n",
    "- 'Bob'의 점수와 존재하지 않는 'Dan'의 점수를 각각 get으로 조회(기본값 0)\n",
    "- 키 리스트, 값 리스트를 각각 출력\n"
   ]
  },
  {
   "cell_type": "code",
   "execution_count": 41,
   "id": "04bb0666",
   "metadata": {},
   "outputs": [
    {
     "name": "stdout",
     "output_type": "stream",
     "text": [
      "scores: {'Alice': 88, 'Bob': 92, 'Cara': 75}\n",
      "scores: {'Alice': 88, 'Bob': 95, 'Cara': 75}\n",
      "scores: 95, None\n",
      "key: dict_keys(['Alice', 'Bob', 'Cara']), values: dict_values([88, 95, 75])\n"
     ]
    }
   ],
   "source": [
    "scores = {}\n",
    "\n",
    "# 여기에 작성하세요\n",
    "scores['Alice'] = 88\n",
    "scores['Bob'] = 92\n",
    "scores['Cara'] = 75\n",
    "print(f\"scores: {scores}\")\n",
    "\n",
    "scores['Bob'] = 95\n",
    "print(f\"scores: {scores}\")\n",
    "\n",
    "print(f\"scores: {scores.get(\"Bob\")}, {scores.get(\"Dan\")}\")\n",
    "\n",
    "print(f\"key: {scores.keys()}, values: {scores.values()}\")"
   ]
  }
 ],
 "metadata": {
  "kernelspec": {
   "display_name": "3.11.13",
   "language": "python",
   "name": "python3"
  },
  "language_info": {
   "codemirror_mode": {
    "name": "ipython",
    "version": 3
   },
   "file_extension": ".py",
   "mimetype": "text/x-python",
   "name": "python",
   "nbconvert_exporter": "python",
   "pygments_lexer": "ipython3",
   "version": "3.13.0"
  }
 },
 "nbformat": 4,
 "nbformat_minor": 5
}
