{
 "cells": [
  {
   "cell_type": "markdown",
   "id": "32b719f2",
   "metadata": {
    "id": "32b719f2"
   },
   "source": [
    "# LangChain으로 웹에서 정보 수집하기"
   ]
  },
  {
   "cell_type": "code",
   "execution_count": 1,
   "id": "e8fd5435",
   "metadata": {},
   "outputs": [],
   "source": [
    "import warnings\n",
    "\n",
    "warnings.filterwarnings(\"ignore\", category=DeprecationWarning)"
   ]
  },
  {
   "cell_type": "code",
   "execution_count": 2,
   "id": "c2721268",
   "metadata": {
    "colab": {
     "base_uri": "https://localhost:8080/"
    },
    "executionInfo": {
     "elapsed": 5437,
     "status": "ok",
     "timestamp": 1728129986539,
     "user": {
      "displayName": "송유이",
      "userId": "04571971252639592032"
     },
     "user_tz": -540
    },
    "id": "c2721268",
    "outputId": "d4cc2924-903e-45d6-ca18-f0b89295e90b"
   },
   "outputs": [
    {
     "name": "stdout",
     "output_type": "stream",
     "text": [
      "Requirement already satisfied: openai in c:\\python312\\lib\\site-packages (1.108.0)\n",
      "Requirement already satisfied: langchain in c:\\python312\\lib\\site-packages (0.3.27)\n",
      "Collecting youtube-transcript-api\n",
      "  Downloading youtube_transcript_api-1.2.2-py3-none-any.whl.metadata (24 kB)\n",
      "Collecting pytube\n",
      "  Downloading pytube-15.0.0-py3-none-any.whl.metadata (5.0 kB)\n",
      "Collecting finance-datareader\n",
      "  Downloading finance_datareader-0.9.96-py3-none-any.whl.metadata (12 kB)\n",
      "Requirement already satisfied: plotly in c:\\python312\\lib\\site-packages (5.24.1)\n",
      "Requirement already satisfied: tiktoken in c:\\python312\\lib\\site-packages (0.11.0)\n",
      "Requirement already satisfied: beautifulsoup4 in c:\\python312\\lib\\site-packages (4.13.5)\n",
      "Collecting unstructured\n",
      "  Downloading unstructured-0.18.15-py3-none-any.whl.metadata (24 kB)\n",
      "Requirement already satisfied: langchain-community in c:\\python312\\lib\\site-packages (0.3.29)\n",
      "Requirement already satisfied: anyio<5,>=3.5.0 in c:\\python312\\lib\\site-packages (from openai) (4.6.2.post1)\n",
      "Requirement already satisfied: distro<2,>=1.7.0 in c:\\python312\\lib\\site-packages (from openai) (1.9.0)\n",
      "Requirement already satisfied: httpx<1,>=0.23.0 in c:\\python312\\lib\\site-packages (from openai) (0.27.2)\n",
      "Requirement already satisfied: jiter<1,>=0.4.0 in c:\\python312\\lib\\site-packages (from openai) (0.11.0)\n",
      "Requirement already satisfied: pydantic<3,>=1.9.0 in c:\\python312\\lib\\site-packages (from openai) (2.9.2)\n",
      "Requirement already satisfied: sniffio in c:\\python312\\lib\\site-packages (from openai) (1.3.1)\n",
      "Requirement already satisfied: tqdm>4 in c:\\python312\\lib\\site-packages (from openai) (4.67.1)\n",
      "Requirement already satisfied: typing-extensions<5,>=4.11 in c:\\python312\\lib\\site-packages (from openai) (4.12.2)\n",
      "Requirement already satisfied: langchain-core<1.0.0,>=0.3.72 in c:\\python312\\lib\\site-packages (from langchain) (0.3.76)\n",
      "Requirement already satisfied: langchain-text-splitters<1.0.0,>=0.3.9 in c:\\python312\\lib\\site-packages (from langchain) (0.3.11)\n",
      "Requirement already satisfied: langsmith>=0.1.17 in c:\\python312\\lib\\site-packages (from langchain) (0.4.29)\n",
      "Requirement already satisfied: SQLAlchemy<3,>=1.4 in c:\\python312\\lib\\site-packages (from langchain) (2.0.43)\n",
      "Requirement already satisfied: requests<3,>=2 in c:\\python312\\lib\\site-packages (from langchain) (2.32.5)\n",
      "Requirement already satisfied: PyYAML>=5.3 in c:\\python312\\lib\\site-packages (from langchain) (6.0.2)\n",
      "Collecting defusedxml<0.8.0,>=0.7.1 (from youtube-transcript-api)\n",
      "  Downloading defusedxml-0.7.1-py2.py3-none-any.whl.metadata (32 kB)\n",
      "Collecting lxml (from finance-datareader)\n",
      "  Downloading lxml-6.0.1-cp312-cp312-win_amd64.whl.metadata (3.9 kB)\n",
      "Collecting pandas>=1.1.0 (from finance-datareader)\n",
      "  Downloading pandas-2.3.2-cp312-cp312-win_amd64.whl.metadata (19 kB)\n",
      "Collecting requests-file (from finance-datareader)\n",
      "  Downloading requests_file-2.1.0-py2.py3-none-any.whl.metadata (1.7 kB)\n",
      "Requirement already satisfied: tenacity>=6.2.0 in c:\\python312\\lib\\site-packages (from plotly) (9.0.0)\n",
      "Requirement already satisfied: packaging in c:\\python312\\lib\\site-packages (from plotly) (24.1)\n",
      "Requirement already satisfied: regex>=2022.1.18 in c:\\python312\\lib\\site-packages (from tiktoken) (2025.9.18)\n",
      "Requirement already satisfied: soupsieve>1.2 in c:\\python312\\lib\\site-packages (from beautifulsoup4) (2.8)\n",
      "Requirement already satisfied: charset-normalizer in c:\\python312\\lib\\site-packages (from unstructured) (3.4.0)\n",
      "Collecting filetype (from unstructured)\n",
      "  Downloading filetype-1.2.0-py2.py3-none-any.whl.metadata (6.5 kB)\n",
      "Collecting python-magic (from unstructured)\n",
      "  Downloading python_magic-0.4.27-py2.py3-none-any.whl.metadata (5.8 kB)\n",
      "Collecting nltk (from unstructured)\n",
      "  Downloading nltk-3.9.1-py3-none-any.whl.metadata (2.9 kB)\n",
      "Collecting emoji (from unstructured)\n",
      "  Downloading emoji-2.14.1-py3-none-any.whl.metadata (5.7 kB)\n",
      "Requirement already satisfied: dataclasses-json in c:\\python312\\lib\\site-packages (from unstructured) (0.6.7)\n",
      "Collecting python-iso639 (from unstructured)\n",
      "  Downloading python_iso639-2025.2.18-py3-none-any.whl.metadata (14 kB)\n",
      "Collecting langdetect (from unstructured)\n",
      "  Downloading langdetect-1.0.9.tar.gz (981 kB)\n",
      "     ---------------------------------------- 0.0/981.5 kB ? eta -:--:--\n",
      "     ------------------------------------- 981.5/981.5 kB 15.6 MB/s eta 0:00:00\n",
      "  Installing build dependencies: started\n",
      "  Installing build dependencies: finished with status 'done'\n",
      "  Getting requirements to build wheel: started\n",
      "  Getting requirements to build wheel: finished with status 'done'\n",
      "  Preparing metadata (pyproject.toml): started\n",
      "  Preparing metadata (pyproject.toml): finished with status 'done'\n",
      "Requirement already satisfied: numpy in c:\\python312\\lib\\site-packages (from unstructured) (2.3.3)\n",
      "Collecting rapidfuzz (from unstructured)\n",
      "  Downloading rapidfuzz-3.14.1-cp312-cp312-win_amd64.whl.metadata (12 kB)\n",
      "Requirement already satisfied: backoff in c:\\python312\\lib\\site-packages (from unstructured) (2.2.1)\n",
      "Collecting unstructured-client (from unstructured)\n",
      "  Downloading unstructured_client-0.42.3-py3-none-any.whl.metadata (23 kB)\n",
      "Collecting wrapt (from unstructured)\n",
      "  Downloading wrapt-1.17.3-cp312-cp312-win_amd64.whl.metadata (6.5 kB)\n",
      "Requirement already satisfied: psutil in c:\\users\\glory\\appdata\\roaming\\python\\python312\\site-packages (from unstructured) (7.1.0)\n",
      "Collecting python-oxmsg (from unstructured)\n",
      "  Downloading python_oxmsg-0.0.2-py3-none-any.whl.metadata (5.0 kB)\n",
      "Collecting html5lib (from unstructured)\n",
      "  Downloading html5lib-1.1-py2.py3-none-any.whl.metadata (16 kB)\n",
      "Requirement already satisfied: aiohttp<4.0.0,>=3.8.3 in c:\\python312\\lib\\site-packages (from langchain-community) (3.12.15)\n",
      "Requirement already satisfied: pydantic-settings<3.0.0,>=2.10.1 in c:\\python312\\lib\\site-packages (from langchain-community) (2.10.1)\n",
      "Requirement already satisfied: httpx-sse<1.0.0,>=0.4.0 in c:\\python312\\lib\\site-packages (from langchain-community) (0.4.1)\n",
      "Requirement already satisfied: aiohappyeyeballs>=2.5.0 in c:\\python312\\lib\\site-packages (from aiohttp<4.0.0,>=3.8.3->langchain-community) (2.6.1)\n",
      "Requirement already satisfied: aiosignal>=1.4.0 in c:\\python312\\lib\\site-packages (from aiohttp<4.0.0,>=3.8.3->langchain-community) (1.4.0)\n",
      "Requirement already satisfied: attrs>=17.3.0 in c:\\python312\\lib\\site-packages (from aiohttp<4.0.0,>=3.8.3->langchain-community) (25.3.0)\n",
      "Requirement already satisfied: frozenlist>=1.1.1 in c:\\python312\\lib\\site-packages (from aiohttp<4.0.0,>=3.8.3->langchain-community) (1.7.0)\n",
      "Requirement already satisfied: multidict<7.0,>=4.5 in c:\\python312\\lib\\site-packages (from aiohttp<4.0.0,>=3.8.3->langchain-community) (6.6.4)\n",
      "Requirement already satisfied: propcache>=0.2.0 in c:\\python312\\lib\\site-packages (from aiohttp<4.0.0,>=3.8.3->langchain-community) (0.3.2)\n",
      "Requirement already satisfied: yarl<2.0,>=1.17.0 in c:\\python312\\lib\\site-packages (from aiohttp<4.0.0,>=3.8.3->langchain-community) (1.20.1)\n",
      "Requirement already satisfied: idna>=2.8 in c:\\python312\\lib\\site-packages (from anyio<5,>=3.5.0->openai) (3.10)\n",
      "Requirement already satisfied: marshmallow<4.0.0,>=3.18.0 in c:\\python312\\lib\\site-packages (from dataclasses-json->unstructured) (3.26.1)\n",
      "Requirement already satisfied: typing-inspect<1,>=0.4.0 in c:\\python312\\lib\\site-packages (from dataclasses-json->unstructured) (0.9.0)\n",
      "Requirement already satisfied: certifi in c:\\python312\\lib\\site-packages (from httpx<1,>=0.23.0->openai) (2024.8.30)\n",
      "Requirement already satisfied: httpcore==1.* in c:\\python312\\lib\\site-packages (from httpx<1,>=0.23.0->openai) (1.0.6)\n",
      "Requirement already satisfied: h11<0.15,>=0.13 in c:\\python312\\lib\\site-packages (from httpcore==1.*->httpx<1,>=0.23.0->openai) (0.14.0)\n",
      "Requirement already satisfied: jsonpatch<2.0,>=1.33 in c:\\python312\\lib\\site-packages (from langchain-core<1.0.0,>=0.3.72->langchain) (1.33)\n",
      "Requirement already satisfied: orjson>=3.9.14 in c:\\python312\\lib\\site-packages (from langsmith>=0.1.17->langchain) (3.11.3)\n",
      "Requirement already satisfied: requests-toolbelt>=1.0.0 in c:\\python312\\lib\\site-packages (from langsmith>=0.1.17->langchain) (1.0.0)\n",
      "Requirement already satisfied: zstandard>=0.23.0 in c:\\python312\\lib\\site-packages (from langsmith>=0.1.17->langchain) (0.25.0)\n",
      "Requirement already satisfied: python-dateutil>=2.8.2 in c:\\python312\\lib\\site-packages (from pandas>=1.1.0->finance-datareader) (2.9.0.post0)\n",
      "Collecting pytz>=2020.1 (from pandas>=1.1.0->finance-datareader)\n",
      "  Using cached pytz-2025.2-py2.py3-none-any.whl.metadata (22 kB)\n",
      "Collecting tzdata>=2022.7 (from pandas>=1.1.0->finance-datareader)\n",
      "  Using cached tzdata-2025.2-py2.py3-none-any.whl.metadata (1.4 kB)\n",
      "Requirement already satisfied: annotated-types>=0.6.0 in c:\\python312\\lib\\site-packages (from pydantic<3,>=1.9.0->openai) (0.7.0)\n",
      "Requirement already satisfied: pydantic-core==2.23.4 in c:\\python312\\lib\\site-packages (from pydantic<3,>=1.9.0->openai) (2.23.4)\n",
      "Requirement already satisfied: python-dotenv>=0.21.0 in c:\\python312\\lib\\site-packages (from pydantic-settings<3.0.0,>=2.10.1->langchain-community) (1.0.1)\n",
      "Requirement already satisfied: typing-inspection>=0.4.0 in c:\\python312\\lib\\site-packages (from pydantic-settings<3.0.0,>=2.10.1->langchain-community) (0.4.1)\n",
      "Requirement already satisfied: urllib3<3,>=1.21.1 in c:\\python312\\lib\\site-packages (from requests<3,>=2->langchain) (2.2.3)\n",
      "Requirement already satisfied: greenlet>=1 in c:\\python312\\lib\\site-packages (from SQLAlchemy<3,>=1.4->langchain) (3.2.4)\n",
      "Requirement already satisfied: colorama in c:\\python312\\lib\\site-packages (from tqdm>4->openai) (0.4.6)\n",
      "Requirement already satisfied: six>=1.9 in c:\\python312\\lib\\site-packages (from html5lib->unstructured) (1.16.0)\n",
      "Collecting webencodings (from html5lib->unstructured)\n",
      "  Downloading webencodings-0.5.1-py2.py3-none-any.whl.metadata (2.1 kB)\n",
      "Requirement already satisfied: click in c:\\python312\\lib\\site-packages (from nltk->unstructured) (8.1.7)\n",
      "Requirement already satisfied: joblib in c:\\python312\\lib\\site-packages (from nltk->unstructured) (1.5.2)\n",
      "Collecting olefile (from python-oxmsg->unstructured)\n",
      "  Downloading olefile-0.47-py2.py3-none-any.whl.metadata (9.7 kB)\n",
      "Collecting aiofiles>=24.1.0 (from unstructured-client->unstructured)\n",
      "  Downloading aiofiles-24.1.0-py3-none-any.whl.metadata (10 kB)\n",
      "Collecting cryptography>=3.1 (from unstructured-client->unstructured)\n",
      "  Downloading cryptography-46.0.1-cp311-abi3-win_amd64.whl.metadata (5.7 kB)\n",
      "Collecting httpcore==1.* (from httpx<1,>=0.23.0->openai)\n",
      "  Downloading httpcore-1.0.9-py3-none-any.whl.metadata (21 kB)\n",
      "Collecting pydantic<3,>=1.9.0 (from openai)\n",
      "  Downloading pydantic-2.11.9-py3-none-any.whl.metadata (68 kB)\n",
      "Collecting pypdf>=4.0 (from unstructured-client->unstructured)\n",
      "  Downloading pypdf-6.0.0-py3-none-any.whl.metadata (7.1 kB)\n",
      "Collecting h11>=0.16 (from httpcore==1.*->httpx<1,>=0.23.0->openai)\n",
      "  Downloading h11-0.16.0-py3-none-any.whl.metadata (8.3 kB)\n",
      "Collecting pydantic-core==2.33.2 (from pydantic<3,>=1.9.0->openai)\n",
      "  Downloading pydantic_core-2.33.2-cp312-cp312-win_amd64.whl.metadata (6.9 kB)\n",
      "Collecting cffi>=2.0.0 (from cryptography>=3.1->unstructured-client->unstructured)\n",
      "  Downloading cffi-2.0.0-cp312-cp312-win_amd64.whl.metadata (2.6 kB)\n",
      "Requirement already satisfied: jsonpointer>=1.9 in c:\\python312\\lib\\site-packages (from jsonpatch<2.0,>=1.33->langchain-core<1.0.0,>=0.3.72->langchain) (3.0.0)\n",
      "Requirement already satisfied: mypy-extensions>=0.3.0 in c:\\python312\\lib\\site-packages (from typing-inspect<1,>=0.4.0->dataclasses-json->unstructured) (1.1.0)\n",
      "Collecting pycparser (from cffi>=2.0.0->cryptography>=3.1->unstructured-client->unstructured)\n",
      "  Downloading pycparser-2.23-py3-none-any.whl.metadata (993 bytes)\n",
      "Downloading youtube_transcript_api-1.2.2-py3-none-any.whl (485 kB)\n",
      "Downloading pytube-15.0.0-py3-none-any.whl (57 kB)\n",
      "Downloading finance_datareader-0.9.96-py3-none-any.whl (48 kB)\n",
      "Downloading unstructured-0.18.15-py3-none-any.whl (1.8 MB)\n",
      "   ---------------------------------------- 0.0/1.8 MB ? eta -:--:--\n",
      "   ---------------------------------------- 1.8/1.8 MB 16.1 MB/s eta 0:00:00\n",
      "Downloading defusedxml-0.7.1-py2.py3-none-any.whl (25 kB)\n",
      "Downloading pandas-2.3.2-cp312-cp312-win_amd64.whl (11.0 MB)\n",
      "   ---------------------------------------- 0.0/11.0 MB ? eta -:--:--\n",
      "   ---------- ----------------------------- 2.9/11.0 MB 14.0 MB/s eta 0:00:01\n",
      "   ---------------------- ----------------- 6.3/11.0 MB 14.9 MB/s eta 0:00:01\n",
      "   ---------------------------------- ----- 9.4/11.0 MB 14.7 MB/s eta 0:00:01\n",
      "   ---------------------------------------- 11.0/11.0 MB 13.7 MB/s eta 0:00:00\n",
      "Downloading emoji-2.14.1-py3-none-any.whl (590 kB)\n",
      "   ---------------------------------------- 0.0/590.6 kB ? eta -:--:--\n",
      "   --------------------------------------- 590.6/590.6 kB 10.3 MB/s eta 0:00:00\n",
      "Downloading filetype-1.2.0-py2.py3-none-any.whl (19 kB)\n",
      "Downloading html5lib-1.1-py2.py3-none-any.whl (112 kB)\n",
      "Downloading lxml-6.0.1-cp312-cp312-win_amd64.whl (4.0 MB)\n",
      "   ---------------------------------------- 0.0/4.0 MB ? eta -:--:--\n",
      "   --------------------------------- ------ 3.4/4.0 MB 16.7 MB/s eta 0:00:01\n",
      "   ---------------------------------------- 4.0/4.0 MB 15.0 MB/s eta 0:00:00\n",
      "Downloading nltk-3.9.1-py3-none-any.whl (1.5 MB)\n",
      "   ---------------------------------------- 0.0/1.5 MB ? eta -:--:--\n",
      "   ---------------------------------------- 1.5/1.5 MB 11.4 MB/s eta 0:00:00\n",
      "Downloading python_iso639-2025.2.18-py3-none-any.whl (167 kB)\n",
      "Downloading python_magic-0.4.27-py2.py3-none-any.whl (13 kB)\n",
      "Downloading python_oxmsg-0.0.2-py3-none-any.whl (31 kB)\n",
      "Downloading rapidfuzz-3.14.1-cp312-cp312-win_amd64.whl (1.5 MB)\n",
      "   ---------------------------------------- 0.0/1.5 MB ? eta -:--:--\n",
      "   ---------------------------------------- 1.5/1.5 MB 16.4 MB/s eta 0:00:00\n",
      "Downloading requests_file-2.1.0-py2.py3-none-any.whl (4.2 kB)\n",
      "Downloading unstructured_client-0.42.3-py3-none-any.whl (207 kB)\n",
      "Downloading httpcore-1.0.9-py3-none-any.whl (78 kB)\n",
      "Downloading pydantic-2.11.9-py3-none-any.whl (444 kB)\n",
      "Downloading pydantic_core-2.33.2-cp312-cp312-win_amd64.whl (2.0 MB)\n",
      "   ---------------------------------------- 0.0/2.0 MB ? eta -:--:--\n",
      "   ---------------------------------------- 2.0/2.0 MB 18.0 MB/s eta 0:00:00\n",
      "Downloading wrapt-1.17.3-cp312-cp312-win_amd64.whl (38 kB)\n",
      "Downloading aiofiles-24.1.0-py3-none-any.whl (15 kB)\n",
      "Downloading cryptography-46.0.1-cp311-abi3-win_amd64.whl (3.5 MB)\n",
      "   ---------------------------------------- 0.0/3.5 MB ? eta -:--:--\n",
      "   -------------------------------------- - 3.4/3.5 MB 18.4 MB/s eta 0:00:01\n",
      "   ---------------------------------------- 3.5/3.5 MB 16.1 MB/s eta 0:00:00\n",
      "Downloading pypdf-6.0.0-py3-none-any.whl (310 kB)\n",
      "Using cached pytz-2025.2-py2.py3-none-any.whl (509 kB)\n",
      "Using cached tzdata-2025.2-py2.py3-none-any.whl (347 kB)\n",
      "Downloading olefile-0.47-py2.py3-none-any.whl (114 kB)\n",
      "Downloading webencodings-0.5.1-py2.py3-none-any.whl (11 kB)\n",
      "Downloading cffi-2.0.0-cp312-cp312-win_amd64.whl (183 kB)\n",
      "Downloading h11-0.16.0-py3-none-any.whl (37 kB)\n",
      "Downloading pycparser-2.23-py3-none-any.whl (118 kB)\n",
      "Building wheels for collected packages: langdetect\n",
      "  Building wheel for langdetect (pyproject.toml): started\n",
      "  Building wheel for langdetect (pyproject.toml): finished with status 'done'\n",
      "  Created wheel for langdetect: filename=langdetect-1.0.9-py3-none-any.whl size=993363 sha256=6c9f14af29a829d0a787bb42192c725fb535f63241fbf3926bc0b5b26c784509\n",
      "  Stored in directory: c:\\users\\glory\\appdata\\local\\pip\\cache\\wheels\\c1\\67\\88\\e844b5b022812e15a52e4eaa38a1e709e99f06f6639d7e3ba7\n",
      "Successfully built langdetect\n",
      "Installing collected packages: webencodings, pytz, filetype, wrapt, tzdata, rapidfuzz, pytube, python-magic, python-iso639, pypdf, pydantic-core, pycparser, olefile, lxml, langdetect, html5lib, h11, emoji, defusedxml, aiofiles, youtube-transcript-api, requests-file, python-oxmsg, pydantic, pandas, nltk, httpcore, cffi, finance-datareader, cryptography, unstructured-client, unstructured\n",
      "  Attempting uninstall: pydantic-core\n",
      "    Found existing installation: pydantic_core 2.23.4\n",
      "    Uninstalling pydantic_core-2.23.4:\n",
      "      Successfully uninstalled pydantic_core-2.23.4\n",
      "  Attempting uninstall: h11\n",
      "    Found existing installation: h11 0.14.0\n",
      "    Uninstalling h11-0.14.0:\n",
      "      Successfully uninstalled h11-0.14.0\n",
      "  Attempting uninstall: pydantic\n",
      "    Found existing installation: pydantic 2.9.2\n",
      "    Uninstalling pydantic-2.9.2:\n",
      "      Successfully uninstalled pydantic-2.9.2\n",
      "  Attempting uninstall: httpcore\n",
      "    Found existing installation: httpcore 1.0.6\n",
      "    Uninstalling httpcore-1.0.6:\n",
      "      Successfully uninstalled httpcore-1.0.6\n",
      "Successfully installed aiofiles-24.1.0 cffi-2.0.0 cryptography-46.0.1 defusedxml-0.7.1 emoji-2.14.1 filetype-1.2.0 finance-datareader-0.9.96 h11-0.16.0 html5lib-1.1 httpcore-1.0.9 langdetect-1.0.9 lxml-6.0.1 nltk-3.9.1 olefile-0.47 pandas-2.3.2 pycparser-2.23 pydantic-2.11.9 pydantic-core-2.33.2 pypdf-6.0.0 python-iso639-2025.2.18 python-magic-0.4.27 python-oxmsg-0.0.2 pytube-15.0.0 pytz-2025.2 rapidfuzz-3.14.1 requests-file-2.1.0 tzdata-2025.2 unstructured-0.18.15 unstructured-client-0.42.3 webencodings-0.5.1 wrapt-1.17.3 youtube-transcript-api-1.2.2\n"
     ]
    },
    {
     "name": "stderr",
     "output_type": "stream",
     "text": [
      "WARNING: Ignoring invalid distribution ~ip (C:\\Python312\\Lib\\site-packages)\n",
      "WARNING: Ignoring invalid distribution ~ip (C:\\Python312\\Lib\\site-packages)\n",
      "  WARNING: Failed to remove contents in a temporary directory 'C:\\Python312\\Lib\\site-packages\\~ydantic_core'.\n",
      "  You can safely remove it manually.\n",
      "WARNING: Ignoring invalid distribution ~ip (C:\\Python312\\Lib\\site-packages)\n",
      "\n",
      "[notice] A new release of pip is available: 24.2 -> 25.2\n",
      "[notice] To update, run: python.exe -m pip install --upgrade pip\n"
     ]
    }
   ],
   "source": [
    "!pip install openai langchain youtube-transcript-api pytube finance-datareader plotly tiktoken beautifulsoup4 unstructured langchain-community"
   ]
  },
  {
   "cell_type": "code",
   "execution_count": 3,
   "id": "db5f7fec",
   "metadata": {
    "executionInfo": {
     "elapsed": 329,
     "status": "ok",
     "timestamp": 1728129990502,
     "user": {
      "displayName": "송유이",
      "userId": "04571971252639592032"
     },
     "user_tz": -540
    },
    "id": "db5f7fec"
   },
   "outputs": [],
   "source": [
    "import os\n",
    "\n",
    "os.environ[\"OPENAI_API_KEY\"] = \"sk-gRqhsT2_U1YFOGYerzzIoOu1gpw0JmMnrXQosCx_4IT3BlbkFJRTMSFduGtHsnUrIP0Bsf3gfjjk4ucCPXv4Fw3lxXoA\""
   ]
  },
  {
   "cell_type": "markdown",
   "id": "2587eda2",
   "metadata": {
    "id": "2587eda2"
   },
   "source": [
    "## URL 내의 텍스트 데이터를 불러옵니다.\n",
    "- TIP! URL 링크를 2개 이상 작성하면 여러 개의 링크로부터 텍스트 데이터를 모두 가져올 수 있습니다."
   ]
  },
  {
   "cell_type": "code",
   "execution_count": 4,
   "id": "480e28b4",
   "metadata": {
    "id": "480e28b4"
   },
   "outputs": [],
   "source": [
    "from langchain.document_loaders import UnstructuredURLLoader\n",
    "\n",
    "urls = [\n",
    "    \"https://ko.wikipedia.org/wiki/%EB%A9%94%ED%83%80_%ED%94%8C%EB%9E%AB%ED%8F%BC%EC%8A%A4\",\n",
    "    \"https://n.news.naver.com/article/030/0003352227?cds=news_media_pc&type=editn\"\n",
    "    \n",
    "]\n",
    "\n",
    "loader = UnstructuredURLLoader(urls=urls)\n",
    "data = loader.load()"
   ]
  },
  {
   "cell_type": "code",
   "execution_count": 5,
   "id": "A8DlClcx0P6O",
   "metadata": {
    "id": "A8DlClcx0P6O"
   },
   "outputs": [
    {
     "data": {
      "text/plain": [
       "[Document(metadata={'source': 'https://ko.wikipedia.org/wiki/%EB%A9%94%ED%83%80_%ED%94%8C%EB%9E%AB%ED%8F%BC%EC%8A%A4'}, page_content='Please set a user-agent and respect our robot policy https://w.wiki/4wJS. See also T400119.'),\n",
       " Document(metadata={'source': 'https://n.news.naver.com/article/030/0003352227?cds=news_media_pc&type=editn'}, page_content='본문 바로가기\\n\\n이전 페이지\\n\\n전자신문\\n\\n전자신문\\n\\n메인 뉴스판에서 전자신문 주요뉴스를 볼 수 있습니다. 보러가기\\n\\n전자신문 언론사 구독 해지되었습니다.\\n\\n주요뉴스\\n\\n이슈\\n\\n클립\\n\\n정치\\n\\n경제\\n\\n사회\\n\\n생활\\n\\n세계\\n\\nIT\\n\\n사설/칼럼\\n\\n신문보기\\n\\n랭킹\\n\\n전자신문\\n\\n전자신문\\n\\n전자신문\\n\\n전자신문\\n\\n언론사가 주요기사로 선정한 기사입니다. 언론사별 바로가기\\n\\nNASA, 국제우주정거장에 화물 5톤 수송... 성공 주역은 한국계 \\'조니 김\\'\\n\\n입력2025.09.19. 오전 10:17\\n\\n수정2025.09.19. 오전 10:57\\n\\n기사원문\\n\\n서희원 기자\\n\\n서희원 기자\\n\\n서희원 기자\\n\\n서희원 기자\\n\\n서희원 기자\\n\\n더보기\\n\\n추천\\n\\n쏠쏠정보 0\\n\\n흥미진진 0\\n\\n공감백배 0\\n\\n분석탁월 0\\n\\n후속강추 0\\n\\n댓글\\n\\n본문 요약봇\\n\\n본문 요약봇도움말 자동 추출 기술로 요약된 내용입니다. 요약 기술의 특성상 본문의 주요 내용이 제외될 수 있어, 전체 맥락을 이해하기 위해서는 기사 본문 전체보기를 권장합니다. 닫기\\n\\n성별\\n\\n말하기 속도\\n\\n이동 통신망을 이용하여 음성을 재생하면 별도의 데이터 통화료가 부과될 수 있습니다.\\n\\n글자 크기 변경하기\\n\\n가1단계 작게\\n\\n가2단계 보통\\n\\n가3단계 크게\\n\\n가4단계 아주크게\\n\\n가5단계 최대크게\\n\\nSNS 보내기\\n\\n인쇄하기\\n\\n오는 12월 초까지 ISS서 임무 수행 예정\\n\\n미 항공우주국(NASA) 우주비행사 조니 김. 사진=NASA\\n\\n미 항공우주국(NASA) 우주비행사 조니 김. 사진=NASA 한국계 미국인 우주비행사 조니 김(41)이 국제우주정거장(ISS) 화물 수송 임무에서 핵심 역할을 맡아 성공적으로 수행했다. 18일(현지시간) 미 항공우주국(NASA)은 공식 블로그를 통해 미국 동부시간으로 이날 오전 7시 24분 ISS에 체류 중인 조니 김이 캐나다 제작 로봇 팔 \\'캐나담2(Canadarm2)\\'를 조종해 \\'시그너스 XL\\' 화물선을 포획했다고 발표했다. 텍사스 휴스턴에 있는 NASA 존슨 우주 센터 임무 통제실이 이를 이어받아 우주선을 배치하면서, 재보급 임무가 완료됐다.\\n\\n로봇 팔 \\'캐나담2(Canadarm2)로 화물선 \\'시그너스 XL\\'을 포획하는 모습. 사진=NASA\\n\\n로봇 팔 \\'캐나담2(Canadarm2)로 화물선 \\'시그너스 XL\\'을 포획하는 모습. 사진=NASA 시그너스 XL에는 약 5t 규모의 과학 실험 장비와 보급품이 실렸다. 당초 전날 도착할 예정이었지만, 최종 단계에서 엔진 연소가 조기 중단되면서 일정이 하루 지연됐다. 시그너스 XL은 노스럽그러먼이 제작한 대형 화물 우주선으로, 기존 시그너스 우주선보다 훨씬 큰 변형 기종이다. 이번이 첫 번째 비행이다. 2026년 3월까지 ISS에 머물다가 지구 대기권에 재돌입하면서 실려 있던 수천kg의 쓰레기를 처리할 예정이다. 조니 김은 NASA 우주비행사 자격으로 지난 4월 러시아 우주비행사들과 함께 러시아 우주선을 타고 ISS에 도착했다. 현재까지 6개월째 우주에 머물며 각종 과학 실험과 시설 운영 등 임무를 수행 중이다. 오는 12월 초까지 ISS에서 임무를 수행할 예정이다.\\n\\n서희원 shw@etnews.com\\n\\n기자 프로필\\n\\n전자신문\\n\\n전자신문\\n\\n전자신문\\n\\n전자신문\\n\\n서희원 기자\\n\\n서희원 기자\\n\\n서희원 기자\\n\\n구독 구독중\\n\\n구독자 0\\n\\n응원수 0\\n\\n안녕하세요. 서희원 기자입니다.\\n\\n\\'72명 사망\\' 네팔 Z세대 시위... 속옷 차림 장관 마구잡이 폭행\\n\\n\\'머스크와 절연\\' 트랜스젠더 딸, 뉴욕 런웨이로 데뷔… “트럼프 겨냥한 풍자”\\n\\n전자신문의 구독 많은 기자를 구독해보세요!\\n\\n닫기\\n\\nCopyright ⓒ 전자신문. All rights reserved. 무단 전재 및 재배포 금지.\\n\\n이 기사는 언론사에서 세계 섹션으로 분류했습니다.\\n\\n기사 섹션 분류 안내\\n\\n기사의 섹션 정보는 해당 언론사의 분류를 따르고 있습니다. 언론사는 개별 기사를 2개 이상 섹션으로 중복 분류할 수 있습니다.\\n\\n닫기\\n\\n전자신문\\n\\n구독\\n\\n메인에서 바로 보는 언론사 편집 뉴스 지금 바로 구독해보세요!\\n\\n구독중\\n\\n메인에서 바로 보는 언론사 편집 뉴스 지금 바로 확인해보세요!\\n\\n하루 만에 마스터하는 \\'커서AI 실무 워크숍\\' 9월 23일 개최\\n\\n네이버 홈에서 [전자신문] 구독하기\\n\\n전자신문\\n\\n전자신문\\n\\n전자신문\\n\\n전자신문 주요뉴스해당 언론사에서 선정하며 언론사 페이지(아웃링크)로 이동해 볼 수 있습니다.\\n\\n\\'무단 소액결제\\' KT 사태… \"서버도 해킹 당했다\"\\n\\n호세 무뇨스 현대차 사장 \"2030년까지 77조 투자\"…하이브리드 2배 이상 늘려\\n\\n\"코스피 5000 꼭 달성\"…李대통령, ETF 수익률 26.4%\\n\\n피카소 숨은 걸작, 80년 만에 세상에 나온다… \"추정가 131억원\"\\n\\nNASA, 국제우주정거장에 화물 5톤 수송... 성공 주역은 한국계 \\'조니 김\\'\\n\\n이 기사를 추천합니다\\n\\n기사 추천은 24시간 내 50회까지 참여할 수 있습니다.\\n\\n쏠쏠정보 0\\n\\n흥미진진 0\\n\\n공감백배 0\\n\\n분석탁월 0\\n\\n후속강추 0\\n\\n모두에게 보여주고 싶은 기사라면?beta 이 기사를 추천합니다 버튼을 눌러주세요. 집계 기간 동안 추천을 많이 받은 기사는 네이버 자동 기사배열 영역에 추천 요소로 활용됩니다. 레이어 닫기\\n\\n전자신문 언론사가 직접 선정한 이슈\\n\\n이슈 이재명 시대\\n\\n李 대통령 “청년 세대 어려움은 기성세대 잘못...K-컬처·재생에너지에 엄청난 기회 있어”\\n\\n李 대통령 “청년 세대 어려움은 기성세대 잘못...K-컬처·재생에너지에 엄청난 기회 있어”\\n\\n이슈 해킹 파문\\n\\n과기정통부·금융위 “범부처 합동 해킹 피해 최소화 노력, 근본대책 마련할 것”\\n\\n과기정통부·금융위 “범부처 합동 해킹 피해 최소화 노력, 근본대책 마련할 것”\\n\\n이슈 AI 패권 경쟁\\n\\n오픈AI·구글, 세계 대학생과 경시대회 난제 겨뤄…\\'금메달감\\'\\n\\n오픈AI·구글, 세계 대학생과 경시대회 난제 겨뤄…\\'금메달감\\'\\n\\n이슈 불안한 한국경제\\n\\n與, 이달 내 \\'배임죄 폐지·완화\\' 등 경제형벌 완화 1차 과제 발표\\n\\n與, 이달 내 \\'배임죄 폐지·완화\\' 등 경제형벌 완화 1차 과제 발표\\n\\n이슈 1만호 100대 사건\\n\\nIT구루들 “미래 갖춰진 나라 없다, 만들어 가는 것”\\n\\n전자신문 언론사홈 바로가기\\n\\n전자신문 헤드라인\\n\\n\\n\\n李 대통령, 유엔 총회 참석··· 트럼프·이시바와 회담은 없을 듯\\n\\n이재명 대통령이 오는 22일부터 닷새간 유엔총회 참석을 위해 미국 순방길에 오른다. 성사 여부에 관심이 쏠린 도널드 트럼프 미국 대통령과 이시바 시게루 일본 총리와의 정상회담은 갖지 않기로 했다. 위성락 국가안보실장\\n\\n\\n\\nNASA, 국제우주정거장에 화물 5톤 수송... 성공 주역은 한국계 \\'조니 김\\'\\n\\n한국계 미국인 우주비행사 조니 김(41)이 국제우주정거장(ISS) 화물 수송 임무에서 핵심 역할을 맡아 성공적으로 수행했다. 18일(현지시간) 미 항공우주국(NASA)은 공식 블로그를 통해 미국 동부시간으로 이날 오\\n\\n\\n\\n알약 형태 위고비, 임상서 체중 16.6% 감량 효과… “주사과 비슷해”\\n\\n덴마크 제약사 노보 노디스크의 경구용 비만 치료제 \\'위고비(세마글루타이드)\\'가 체중을 평균 16.6% 줄였다는 임상시험 결과가 공개됐다. 178일(현지시간) 노보 노디스크는 경구용 세마글루타이드 25㎎의 효능과 안전\\n\\n\\n\\n“단 4일 만에 기억력 손상”… 뇌 건강 위협하는 정크푸드\\n\\n정크푸드를 단 며칠만 먹어도 기억력이 눈에 띄게 저하되고, 치매나 알츠하이머와 같은 퇴행성 뇌 질환 위험이 높아진다는 연구 결과가 나왔다. 15일(현지시간) 뉴욕포스트에 따르면 미국 노스캐롤라이나대(UNC) 의과대학\\n\\n\\n\\n10km 목표물도 레이저 격추…이스라엘, \\'아이언 빔\\' 실전 배치\\n\\n이스라엘의 차세대 레이저 방공 시스템 \\'아이언 빔 450\\'이 최종 테스트를 성공적으로 마치고 올해 말 실전 배치를 앞두고 있습니다. 이번 테스트에서 아이언 빔은 10km 거리에서 고출력 레이저(100kw)로 목표물을\\n\\n\\n\\n\\'머스크와 절연\\' 트랜스젠더 딸, 뉴욕 런웨이로 데뷔… “트럼프 겨냥한 풍자”\\n\\n일론 머스크 테슬라 최고경영자(CEO)와 절연한 성전환자(트랜스젠더) 딸 비비안 제나 윌슨(21)일 미국 뉴욕에서 열린 패션위크를 통해 런웨이 모델로 데뷔했다. 16일(현지시간) 미국 일간 워싱턴포스트(WP)·NBC\\n\\n댓글\\n\\n전자신문 댓글 정책에 따라 전자신문에서 제공하는 세계섹션 기사의 본문 하단에는 댓글 서비스를 제공하지 않습니다.\\n\\n댓글 보기\\n\\n언론사 댓글로 이동\\n\\n전자신문 헤드라인 더보기\\n\\n李 대통령, 유엔 총회 참석··· 트럼프·이시바와 회담은 없을 듯\\n\\n2시간전\\n\\n\\n\\nNASA, 국제우주정거장에 화물 5톤 수송... 성공 주역은 한국계 \\'조니 김\\'\\n\\n7시간전\\n\\n\\n\\n알약 형태 위고비, 임상서 체중 16.6% 감량 효과… “주사과 비슷해”\\n\\n3시간전\\n\\n\\n\\n“단 4일 만에 기억력 손상”… 뇌 건강 위협하는 정크푸드\\n\\n7시간전\\n\\n\\n\\n10km 목표물도 레이저 격추…이스라엘, \\'아이언 빔\\' 실전 배치\\n\\n11시간전\\n\\n\\n\\n\\'머스크와 절연\\' 트랜스젠더 딸, 뉴욕 런웨이로 데뷔… “트럼프 겨냥한 풍자”\\n\\n19시간전\\n\\n\\n\\n\\n\\n네이버 AI 뉴스 알고리즘\\n\\n뉴스 추천 알고리즘이 궁금하다면?\\n\\n전자신문 랭킹 뉴스 오후 4시~5시까지 집계한 결과입니다. 오후 2시~5시까지 집계한 결과입니다. 더보기 더보기\\n\\n많이 본\\n\\n댓글 많은\\n\\n“단 4일 만에 기억력 손상”… 뇌 건강 위협하는 정크푸드\\n\\n7시간전\\n\\n\\n\\n더보기\\n\\n10km 목표물도 레이저 격추…이스라엘, \\'아이언 빔\\' 실전 배치\\n\\n11시간전\\n\\n\\n\\n더보기\\n\\n\\'머스크와 절연\\' 트랜스젠더 딸, 뉴욕 런웨이로 데뷔… “트럼프 겨냥한 풍자”\\n\\n19시간전\\n\\n\\n\\n더보기\\n\\n알약 형태 위고비, 임상서 체중 16.6% 감량 효과… “주사과 비슷해”\\n\\n3시간전\\n\\n\\n\\n더보기\\n\\nNASA, 국제우주정거장에 화물 5톤 수송... 성공 주역은 한국계 \\'조니 김\\'\\n\\n7시간전\\n\\n\\n\\n더보기\\n\\n“단 4일 만에 기억력 손상”… 뇌 건강 위협하는 정크푸드\\n\\n7시간전\\n\\n\\n\\n더보기\\n\\n인도 해변서 10대 여성 집단 성폭행…남자 친구 앞에서 벌어진 참극\\n\\n9시간전\\n\\n\\n\\n더보기\\n\\n李 대통령, 유엔 총회 참석··· 트럼프·이시바와 회담은 없을 듯\\n\\n2시간전\\n\\n\\n\\n더보기\\n\\n\\'머스크와 절연\\' 트랜스젠더 딸, 뉴욕 런웨이로 데뷔… “트럼프 겨냥한 풍자”\\n\\n19시간전\\n\\n\\n\\n더보기\\n\\n알약 형태 위고비, 임상서 체중 16.6% 감량 효과… “주사과 비슷해”\\n\\n3시간전\\n\\n\\n\\n더보기\\n\\n함께 볼만한 뉴스\\n\\n이 기사를 본 이용자들이 함께 많이 본 기사, 해당 기사와 유사한 기사, 관심 기사 등을 자동 추천합니다\\n\\n\\n\\n[속보] 강릉시, 아파트 등 대수용가 시간제 제한급수 전면 해제\\n\\n강릉시가 아파트 등을 대상으로 실시하던 시간제 제한급수를 전면 해제하기로 했다. 강릉시는 저수조 용량 100t 이상인 아파트 113곳을 대상으로 하루 2회씩 실시했던 시간제 제한급수를 이날 오후 6시부터 전면 해제한\\n\\n\\n\\n\"많은 사람들 목숨 끊어, 내 얼굴 싫었다\"…이영애가 충격받은 \\'신용카드 대란\\' 어땠길래 [이슈, 풀어주리]\\n\\n출근길에서도, 퇴근길에서도. 온·오프라인에서 화제가 되고 있는 다양한 이슈를 풀어드립니다. 사실 전달을 넘어 경제적 가치와 사회적인 의미도 함께 담아냅니다. 세상의 모든 이슈, 풀어주리! <편집자주> 배우 이영애가\\n\\n\\n\\n잠든 사이 사라진 ‘68억’ 현금뭉치…30대 돈주인 입건, 왜?\\n\\n작년 송파구 무인창고 68억 현금 절도 사건 도난 피해자, 범죄 수익 은닉 피의자로 입건 지난해 서울 송파구의 무인 창고에서 수십억원의 현금이 도난당한 사건 관련 경찰이 자금 출처가 범죄에 연루됐을 가능성을 수사 중\\n\\n\\n\\n12살 여아 차에 태워 성범죄 저지른 20대, 檢 실형 구형\\n\\n검찰이 온라인 채팅으로 만난 미성년자를 간음한 20대 남성에게 실형을 구형했다. 19일 법조계 등에 따르면 제주지법 형사2부(부장판사 임재남)는 전날 미성년자의제유사강간 등의 혐의로 불구속 기소된 A씨에 대한 결심공\\n\\n\\n\\n900만원에 팔린 생명들… 유튜버 영상이 폭로한 ‘낙태 공장’의 실체\\n\\n서울 시내 한 산부인과에서 벌어진 충격적인 불법 낙태 사건의 전모가 법정에서 공개됐다. 임신 말기 산모를 상대로 한 극단적인 방법의 낙태 시술이 조직적으로 이뤄졌다는 사실이 확인된 것이다. 서울중앙지법에서 18일 열\\n\\n\\n\\n“93세 맞아?”…외신도 놀란 이길여 총장의 ‘60대 몸’ 비결\\n\\n올해로 93세가 된 이길여 가천대학교 총장의 놀라운 젊음이 다시 한번 화제의 중심에 섰다. 이길여 총장은 지난 3일 문을 연 가천대학교 ‘천원매점’에 등장해 일일 점원으로 나선 김동연(68) 경기도지사와 인사를 나눴\\n\\n\\n\\n추석 성묘 후 고열…감기몸살인가 했더니 \\'치명률 18.5%\\' 이 병\\n\\n본격적인 추석 연휴를 앞두고 진드기 매개 감염병 경고등이 켜졌다. 보건당국은 9~11월 가을철에 환자 발생이 집중되는 만큼, 성묘·벌초 등 야외활동 시 물리지 않도록 조심해 달라고 당부했다. 질병관리청에 따르면, 국\\n\\n\\n\\n“지드래곤 덕봤다” 6개월 만에 1260억 매출 올린 회사\\n\\n인공지능(AI) 엔터테크 기업 갤럭시코퍼레이션이 올해 상반기 매출 1260억원, 영업이익 120억원, 당기순이익 130억원을 기록하며 흑자 전환을 달성했다고 19일 밝혔다. 갤럭시코퍼레이션은 가수 지드래곤의 소속사다\\n\\n\\n\\n판사는 울었다…생활고에 두 아들 생명 뺏은 40대 무기징역 선고\\n\\n생활고를 이유로 부인 자살을 방조하고 두 아들 생명을 빼앗은 40대 가장이 1심에서 무기징역을 받았다. 광주지법 형사12부(재판장 박재성)는 19일 ㄱ(49)씨의 살인·자살방조 사건 선고공판을 열어 ㄱ씨에게 무기징역\\n\\n\\n\\n재생하기 재생시간02:29\\n\\n이 대통령 \\'청년 신입 채용 확대\\' 요청에…삼성·SK·한화·포스코 \\'응답\\'\\n\\n이재명 대통령은 지난 16일 세종시에서 열린 국무회의에서 청년 일자리를 강조했습니다. \"미래 성장 동력 확충과 관련해서 청년 일자리를 확대하는 방향으로 정책사업을 세심하게 추진해 주시기 바랍니다.\" 각 부처에 정책을\\n\\n\\n\\n온몸 돌며 암세포 폭발시킨다…“숙취 해소” 이 음료의 배신\\n\\n‘단 걸 먹으면 살찐다’는 경고는 구식이다. 이젠 더 무섭게 진화했다. ‘단 걸 먹으면 암세포가 폭발적으로 성장한다.’ 최근 과학자들이 내놓은 충격적 결론이다. 암세포를 키우는 범인은 바로 포도당과 과당. 우리가 매\\n\\n\\n\\n곡성군, 신입공무원 성폭행 보호 외면…재차 성폭행 피해 발생\\n\\n감사원 감사결과, 피해자 1명이 3명에게서 3차례 성폭행·성폭력 시달려 \"조용히 처리해\" 유근기 전 군수 수사 의뢰·공무원 중징계 요구 전남 곡성군의 신입 공무원이 성폭행 피해를 봤으나, 지자체가 이를 은폐하고 피해\\n\\n\\n\\n[속보]수면제 먹인 뒤 바다로 돌진···아내·두 아들 살해한 40대 무기징역\\n\\n아내와 두 아들을 수면제로 재운 뒤 차량에 태워 바다로 돌진해 숨지게 한 40대에게 법원이 무기징역을 선고했다. 광주지법 형사12부(재판장 박재성)는 19일 살인 등 혐의로 기소된 A씨(49)에게 무기징역을 선고했다\\n\\n\\n\\n[단독] 포병부대 병사, 훈련 마치고 사망…장관 지시에도 또 반복\\n\\n현역 육군 병사가 훈련을 마치고 부대로 복귀해 의식을 잃고 쓰러져 후송됐으나 사망했다. 군 당국이 사고 예방을 위해 전군 정밀 진단을 시행한 지 이틀 만에 훈련 뒤 사망사고가 발생한 것이어서 대책 실효성에 의문이 제\\n\\n\\n\\n임신 알고 잠적한 남친, 성공해 호화생활…25년 양육비 청구 가능할까\\n\\n25년 전 연락이 끊긴 아들의 친부에게 양육비를 청구하고 싶다는 여성의 사연이 소개됐다. 19일 YTN라디오 \\'조인섭 변호사의 상담소\\'에선 20대 초반 홀로 아이를 낳아 기른 A씨의 사연이 다뤄졌다. A씨는 대학생\\n\\n\\n\\n“51kg 유지 비결?” 신애라, 첫 끼는 무조건 ‘이렇게’…식단 살펴보니\\n\\n배우 신애라(56)가 건강한 아침 식단을 공개했다. 신애라는 최근 자신의 소셜미디어에 남편인 배우 차인표와 산책 중인 사진을 게재했다. 신애라는 \"밥 먹고 산책하기 딱 좋은 날씨네요\"라며 \"식사하셨나요?\"라고 물었다\\n\\n\\n\\n“소비쿠폰 안 받겠다” 갖다 줘도 거부한 56만명, 대체 왜?\\n\\n연합뉴스 2차 민생회복 소비쿠폰 신청일이 오는 22일로 다가온 가운데, 지난 1차 소비쿠폰 신청률이 98.9%를 기록한 것으로 알려졌다. 9월 12일 오후 6시까지 신청을 마감한 결과 신청자는 총 5007만8938명\\n\\n\\n\\n서버까지 뚫린 KT, 인증에도 뚫린 롯데카드…정부 대응엔 의문(종합)\\n\\nKT 지난 15일 서버 침해사실 확인…늑장 대응 도마 고객 정보 유출 가능성에도…당국 소극 대응 지적도 정부 \"보안 체계 원점 재검토…과태료·징벌적 과징금 검토\" (서울=연합뉴스) KT 무단\\n\\n\\n\\n문형배 \"\\'헌법 한번 읽어보시라\\' 李대통령께 드린 말씀 아냐\"\\n\\n문형배 전 헌법재판소장 권한대행은 \\'선출 권력 우위론\\'과 관련한 자신의 \"대한민국 헌법을 한번 읽어보시라\"는 발언이 이재명 대통령을 겨냥한 것이 아니라고 해명했다. 해당 발언이 이 대통령의 주장\\n\\n\\n\\n재생하기 재생시간02:34\\n\\n\\'통일교 추정\\' 12만 뜨자 당혹‥국힘 \"자연스러운데 왜!\"\\n\\n\\'김건희 국정농단\\' 특검이 국민의힘 당원 명부를 압수수색한 결과 당원 중 12만 명이 통일교 신도로 추정된다는 소식이 알려지자, 국민의힘에서는 되레 \"당연히 그럴 수 있다\"며 \\'뭐가 문제냐\\'는 식의 반응이 나오고 있\\n\\n\\n\\n재생하기 재생시간01:23\\n\\n한강버스 첫날 \\'변기 역류?\\' 어질…\"다음 역에서 무조건 내린다\"\\n\\n장애인 화장실 문이 청색 테이프로 봉쇄돼 있습니다. 문틈과 바닥 사이로는 헝겊이 일렬로 나열돼 있습니다. 서울시가 추진한 첫 수상 대중교통 한강버스의 운항 첫날인 어제 한 온라인 커뮤니티에 올라온 게시물입니다. 작성\\n\\n\\n\\n韓기업 수출품에 8000억 관세 폭탄 던졌던 인도...세계관세기구는 ‘한국 손’ 들어줘\\n\\n우리 기업이 인도에 수출한 휴대전화 기지국 장비에 대해 인도 정부가 잘못된 품목 분류로 8000억원대 관세를 부과한 것과 관련, 세계관세기구(WCO)가 한국 입장을 지지하는 최종 결정을 내렸다. 기획재정부와 관세청,\\n\\n\\n\\n\"10시간 비행 내내 우는 아기…민폐 부모 여행객에 분노\"\\n\\n장거리 비행 여객기 안에서 계속 우는 아기들 때문에 힘들었다는 한 누리꾼의 사연이 공감을 얻고 있다. 18일 온라인 커뮤니티 네이트판에는 \\'갓난아기 데리고 해외여행 안 가면 안 돼요?\\'라는 제목의 게시글이 올라왔다.\\n\\n\\n\\n\\'계엄 공모\\' 이상민 측 첫 재판 모든 혐의 부인‥특검 \"신속 재판 진행\"\\n\\n윤석열 전 대통령의 12·3 비상계엄 선포를 공모하고 언론사 단전·단수 지시를 내린 혐의 등으로 구속기소 된 이상민 전 행정안전부 장관 측이 첫 재판에서 혐의를 모두 부인했습니다. 서울중앙지법 형사합의32부는 오늘\\n\\n\\n\\n“이거 그냥 김광석 노래잖아”…일본 밴드 신곡 표절 논란\\n\\n일본의 인디 밴드 ‘슈퍼등산부’의 신곡 ‘산보’가 김광석의 대표곡 ‘바람이 불어오는 곳’을 표절했다는 지적을 받고 있다. 슈퍼등산부는 “제작 당시 몰랐던 노래”라며 표절 의혹을 부인했다. 슈퍼등산부가 지난 10일 신\\n\\n\\n\\n“바닥에 놔서 기분 나빠”…7만원어치 주문 취소에 자영업자 분통\\n\\n배달 음식을 바닥에 두고 갔다는 이유로 주문을 취소당한 자영업자의 사연이 전해져 시민들의 공분을 사고 있다. 경기 시흥시에서 식당을 운영하는 자영업자 A씨는 지난 17일 자영업자 커뮤니티 ‘아프니까 사장이다’에 글을\\n\\n\\n\\n“1천만원 넣었으면 지금 3억 됐다” 다들 설마했는데…결국 터질 게 터졌다?\\n\\n오준호(오른쪽) 레인보우로보틱스 설립자가 로봇과 함께 등장한 모습. “무려 30배 올랐다” 정부가 주 4.5일 근무제 도입을 위한 실노동시간 단축 입법을 연내 추진하기로 하자 로봇주가 다시 들썩이고 있다. 대장주가\\n\\n\\n\\n“과자처럼 매일 먹었더니”… ‘이 식품’, 콜레스테롤 낮추고 허리둘레 줄였다\\n\\n간식을 아예 안 먹고 살긴 어렵다. 수시로 배가 고파 고민이라면, 간식을 끊으려다 스트레스를 받지 말고 차라리 건강한 음식으로 배를 채우자. 미국 오리건주립대 연구팀은 매일 아몬드 2온스(약 45알)를 먹는 것이 혈\\n\\n\\n\\n재생하기 재생시간05:10\\n\\n\"민주당이 \\'짓거리\\' 한다\"…국힘 \"조희대 녹취 공작\" 공세 [현장영상]\\n\\n오늘(19일) 국민의힘 나경원 의원을 포함한 국민의힘 법사위 의원들이 기자회견을 열고 더불어민주당 서영교, 부승찬 의원을 직격했습니다. +++ [나경원/국민의힘 의원 : 서영교·부승찬 제보 조작과 대선 흔들기를 보면\\n\\n\\n\\n\"혼자 살겠다고\" 눈물 쏟은 판사...처자식 살해 40대 무기징역\\n\\n아내와 고등학생 아들 2명을 살해한 40대 가장이 무기징역을 선고받았다. 아내와 두 아들을 태운 차량을 몰고 바다로 돌진, 살해한 40대 남성 지모 씨가 지난 6월 4일 오전 광주 동구 광주지법에서 열리는 구속 전\\n\\n함께 볼만한 프리미엄 유료\\n\\n프리미엄콘텐츠는 네이버가 인터넷뉴스 서비스사업자로서 제공, 매개하는 기사가 아니고, 해당 콘텐츠 제공자가 프리미엄 회원을 대상으로 별도로 발행·제공하는 콘텐츠입니다.\\n\\n246. 인생을 조각내기로 했다.\\n\\n\\n\\n윤설 작가\\n\\n\\n\\n기간한정무료 \\'부상 병동\\' 구창모.. \\'강화유리\\' 에이스로 변신할까?!\\n\\n\\n\\n스포츠카툰 공작소\\n\\n\\n\\n기간한정무료 [현장을 가다] 디지털 시대, 지방 활성화에 마음 한켠을 담다\\n\\n\\n\\nAGENDA & ISSUE NEWS\\n\\n\\n\\n[2025년 09월 19일 장중 시황브리핑]\\n\\n\\n\\n주식장인\\n\\n\\n\\n예비신랑 김종국 씨의 집은?\\n\\n\\n\\n청약전문가 베니아\\n\\n\\n\\n사법 쿠데타 vs 허무맹랑한 소설, 대법원장 의혹의 모든 것\\n\\n\\n\\n미스터동\\n\\n\\n\\n코스피 3400P 돌파-9/15(월) [마감시황]\\n\\n\\n\\n쿠키맨의 주식과 시황\\n\\n\\n\\n기간한정무료 넷플릭스(Netflix)가 오리지널 영화보다 판권 영화를 선호하는 이유\\n\\n\\n\\n밸류터치\\n\\n\\n\\n유대인 교육의 본질: 세대를 이어가는 지혜의 힘\\n\\n\\n\\n코리안탈무드\\n\\n\\n\\n젊은 팬들을 가지고 있는 스포츠 취향 산업은 얼마나 매력적인가?\\n\\n\\n\\n부자원칙연구소\\n\\n\\n\\n[9/16]오늘의 투자액션(비중조절)\\n\\n\\n\\n벤자민의 공시포착\\n\\n\\n\\n‘AI 도플갱어’가 내 업무를 도와줄 수 있을까?\\n\\n\\n\\nMIT 테크놀로지 리뷰\\n\\n\\n\\n구독\\n\\n본문 듣기를 종료하였습니다.\\n\\n이 기사를 추천했습니다.\\n\\n추천을 취소했습니다.\\n\\n로그인 전체서비스 서비스안내 오류신고 고객센터 기사배열 책임자 : 김수향 청소년 보호 책임자 : 이정규 각 언론사가 직접 콘텐츠를 편집합니다. ⓒ 전자신문 이 콘텐츠의 저작권은 저작권자 또는 제공처에 있으며, 이를 무단 이용하는 경우 저작권법 등에 따라 법적 책임을 질 수 있습니다. NAVER\\n\\n맨위로\\n\\n예 아니오')]"
      ]
     },
     "execution_count": 5,
     "metadata": {},
     "output_type": "execute_result"
    }
   ],
   "source": [
    "data"
   ]
  },
  {
   "cell_type": "code",
   "execution_count": 6,
   "id": "bIBJiFEf0IhG",
   "metadata": {
    "id": "bIBJiFEf0IhG"
   },
   "outputs": [
    {
     "name": "stderr",
     "output_type": "stream",
     "text": [
      "c:\\Python312\\Lib\\site-packages\\urllib3\\connectionpool.py:1099: InsecureRequestWarning: Unverified HTTPS request is being made to host 'namu.wiki'. Adding certificate verification is strongly advised. See: https://urllib3.readthedocs.io/en/latest/advanced-usage.html#tls-warnings\n",
      "  warnings.warn(\n"
     ]
    }
   ],
   "source": [
    "url = \"https://namu.wiki/w/OpenAI\"\n",
    "loader = UnstructuredURLLoader(\n",
    "    urls=[url],\n",
    "    ssl_verify=False,\n",
    "    headers={\n",
    "        \"User-Agent\": \"Mozilla/5.0 (Macintosh; Intel Mac OS X 13_5_1) AppleWebKit/537.36 (KHTML, like Gecko) Chrome/116.0.0.0 Safari/537.36\"\n",
    "    },\n",
    ")\n",
    "data = loader.load()"
   ]
  },
  {
   "cell_type": "code",
   "execution_count": 7,
   "id": "D9BlrkTS0Tyu",
   "metadata": {
    "id": "D9BlrkTS0Tyu"
   },
   "outputs": [
    {
     "name": "stdout",
     "output_type": "stream",
     "text": [
      "[Document(metadata={'source': 'https://namu.wiki/w/OpenAI'}, page_content='최근 변경최근 토론\\n\\n특수 기능\\n\\n\\n\\nOpenAI\\n\\n최근 수정 시각: 2025-09-17 17:23:16\\n\\n77\\n\\n편집 요청\\n\\n편집 권한이 부족합니다. 로그인된 사용자(이)여야 합니다. 해당 문서의 ACL 탭을 확인하시기 바랍니다.\\n\\n편집 권한이 부족한 경우 아래의 \\'편집 요청\\' 버튼으로 편집 요청을 생성할 수 있습니다. [편집 요청 도움말]\\n\\n편집 요청\\n\\n토론역사\\n\\n분류\\n\\nOpenAI\\n\\n미국의 IT 관련 기업\\n\\n인공지능 관련 기업\\n\\n샌프란시스코의 기업\\n\\n2015년 설립\\n\\n인공신경망\\n\\n일론 머스크\\n\\n[ 펼치기 · 접기 ] 제품군 서비스 ChatGPT · OpenAI(인공지능) · Operator · Codex 모델 GPT GPT-1 · GPT-2 · GPT-3 · GPT-4 · gpt-oss · GPT-5 추론형 o1 · o3 · o4-mini DALL·E · Codex · CLIP · Whisper · Voice Engine · Sora · SearchGPT · CUA 관련 인물 일론 머스크 · 샘 올트먼 · 미라 무라티 · 일리야 수츠케버 · 안드레 카파시 · 그렉 브록만 · 다리오 아모데이\\n\\nOpenAI Inc.  설립일 2015년 12월 8일 (9년차) 국가 미국 설립자 샘 올트먼 , 일론 머스크 , 그렉 브록만 등 [1] 경영진 CEO 샘 올트먼 (2015년~) [2] CFO 세라 프라이어 (2024년~) COO 브래드 라이트캡 [3] (2022년~) CPO 케빈 웨일 (2024년~) 사장 그렉 브록만 (2015년~) [4] 수석 과학자 제이컵 파호츠키 (2024년~) 이사회 의장 브렛 테일러 (2023년~) 법인형태 비영리 단체 (501(c)(3)) 산업 IT 상장 비상장 기업 기업가치 3,000억달러 (2025년 4월) 연환산매출 120억달러 [5] (2025년 8월) 고용 인원 약 3,500명 (2024년) 지사 12곳 [6] [7] (2025년 9월) 주소 미국 캘리포니아 샌프란시스코 파이오니어 빌딩\\n\\n1. 개요2. 역사3. 사업\\n\\n3.1. 인공지능 모델\\n\\n3.1.1. GPT 모델\\n\\n3.1.1.1. GPT-13.1.1.2. GPT-23.1.1.3. GPT-33.1.1.4. GPT-43.1.1.5. GPT-5\\n\\n3.1.2. 추론형 모델\\n\\n3.1.2.1. o13.1.2.2. o33.1.2.3. o4\\n\\n3.1.3. Whisper3.1.4. Codex3.1.5. 프로메테우스3.1.6. CUA\\n\\n3.2. 응용 소프트웨어\\n\\n3.2.1. ChatGPT: 텍스트 인공지능3.2.2. DALL·E: 그림 생성 인공지능3.2.3. Voice Engine: 음성 생성 인공지능3.2.4. Sora: 영상 생성 인공지능3.2.5. SearchGPT: 인공지능 검색 엔진3.2.6. OpenAI(인공지능)3.2.7. Operator: 인공지능 에이전트\\n\\n3.3. GPT 스토어\\n\\n4. 지배구조5. 이사회6. 로고7. 논란 및 사건사고\\n\\n7.1. 2023년 경영진 축출 사태7.2. 소송전\\n\\n7.2.1. 저작권 관련7.2.2. 일론 머스크의 소송\\n\\n7.3. 퇴사 계약 관련 논란7.4. 안정성 관련 논란7.5. 스칼렛 요한슨 목소리 무단 사용 해프닝7.6. 2024년 내부고발자 사망 관련 음모론\\n\\n8. 기타\\n\\n1. 개요[편집]\\n\\n미국의 비영리 단체. 인공지능을 개발하며 안전한 AGI 개발을 추구한다. 대형 언어 모델 (LLM)과 이를 기반으로 하는 ChatGPT 등의 소프트웨어를 제공한다.\\n\\n2. 역사[편집]\\n\\n2015년 샘 올트먼, 일론 머스크, 그렉 브록만이 폐쇄형 인공지능의 대표주자인 구글에 대항하기 위하여 아이디어를 구체화하고 비영리로 사업을 시작했다.[8][9] 초기 올트먼은 Y Combinator 공동 창업자인 제시카 리빙스턴과 YC Reseach의 기부 서명을 이끌어냈다. 머스크도 상당한 금액[10]을 출자했으며, 연줄로 페이팔 마피아 출신의 리드 호프먼과 피터 틸의 기부 서명을 이끌어냈다. 그 외 아마존 웹 서비스, 인포시스 등이 출자하여 OpenAI 설립 당시 모금에 서명한 기부금은 도합 10억 달러에 달했다고 한다.# 이렇게 2015년 비영리 단체로 시작했다.[11] 한편 머스크와 올트먼은 본업이 있었기 때문에 이들이 연줄을 통해 외연 확장을 노리는 동안 브록만이 풀타임으로 근무하며 일리야 수츠케버와 다리오 아모데이, 안드레 카파시 등 초창기 핵심 멤버에 해당되는 인공지능 분야 전문가 채용 및 전반적인 사내운영을 담당했다. 2018년 2월 Jed McCaleb, 게이브 뉴웰, 리드 호프먼, Michael Seibel, Jaan Tallinn, Ashton Eaton, Brianne Theisen-Eaton 등의 개인 투자가들이 신규 기부를 약속했다.# 반면 일론 머스크는 이사회에서 사임했다.[12][13] 2019년 샘 올트먼이 Y Cominator에서 퇴사한 뒤 전업으로 OpenAI에 집중하게 되었으며, 3월 외부 투자자로부터 최대 100배 수준으로 제한된 수익률을 조건으로 투자를 받으며, 산하에 영리 법인을 신설했다고 밝히며 본격적인 전환에 나섰다.# 막대한 클라우드 컴퓨팅 사용료 감당과 새로운 인재 영입을 위해 불가피했던 선택이었다고 한다.[14][15] 2019년 7월 마이크로소프트가 펀딩 라운드에 10억 달러를 투자했다고 밝혔다. 계약의 일환으로 Microsoft Azure의 컴퓨팅 환경을 제공받았으며, Azure AI라는 슈퍼컴퓨터를 공동으로 개발할 예정이라고 한다.# 알렉 래드퍼드를 비롯하여 다리오 아모데이와 일리야 수츠케버 등의 핵심 연구원이 공동저자로 등장한 논문이 가능성을 보여주며 투자 유치에 큰 역할을 한 것으로 알려져 있다. 2021과 2023년에는 마이크로소프트로부터 각각 20억 달러와 100억 달러 규모의 추가 투자를 받았다. 이를 통해 마이크로소프트는 GPT-4를 비롯하여 지적재산권 라이센스와 기타 제품 상용화 독점계약을 얻었다.[16] 세 번의 투자를 통해 마이크로소프트는 OpenAI LLC의 지분 49%를 확보했으나, 사측에서 영향력 행사를 방지하기 위해 이사회에 마이크로소프트 측 인사를 채워 넣을 수 없으며 의결권도 부여하지 않았다. 또한 투자 원금의 약 100배가 될 때까지 OpenAI LLC의 수익의 75%를 배분받지만[17], OpenAI Inc.의 이사회가 AGI에 도래했다고 판단할 경우 해당 분야에서는 상용화 계약의 효력이 먹히지 않는다. 이로 인해 높은 지분을 보유하고 있음에도 자회사 혹은 관계회사로 분류하기 힘들다.[18] 2023년 4월 세콰이어캐피탈, 앤드리슨 호로위츠 등의 투자자로부터 최대 290억 달러 기업가치를 평가받으며 3억 달러를 조달했다는 소식이 알려졌다.# 앞선 마이크로소프트의 투자와는 별개의 펀딩이다. 2023년 6월 16일부터 MBUX 인포테인먼트 시스템이 탑재된 메르세데스-벤츠 차량에서 ChatGPT베타 서비스가 시작된다. 우선 미국 한정이며, Azure를 통해 벤츠 보이스 컨트롤과 결합될 예정이다. GM과의 협업 루머도 있다. 2024년 1월 6일 마이크로소프트의 기술, 연구협업, 운영 부문 부사장인 디 템플턴이 투표권 없는 참관인으로 OpenAI 이사진에 합류했다는 소식이 전해졌다.# 2024년 2월 800억 달러의 기업가치를 평가받으며 자금을 조달했다는 소식이 알려졌다.# 바이트댄스와 스페이스X에 이어서 평가액 기준 3위 수준의 유니콘 기업이 되었다. 3월 8일 올트먼을 비롯해서 네 명의 새로운 이사를 선임했다.# 2024년 5월 15일부로 수석과학자인 일리야 수츠케버가 OpenAI 퇴사를 알렸다.# 후임으로는 제이컵 파호츠키 (Jakub Pachocki)가 지명되었다. 2024년 6월 10일 WWDC24에서 Siri의 ChatGPT 전환 기능 지원이 알려지며 Apple과의 협업이 알려졌으며, 자사 블로그를 통해 넥스트도어 전직 CEO인 세라 프라이어와 트위터 수석부사장 출신의 케빈 웨일을 각각 CFO와 CPO로 임명했다는 소식도 알렸다.# 2024년 7월 10일, 마이크로소프트와 애플 둘 다 이사회 참관인 자격을 포기했다는 보도가 나왔다.[19] 규제 당국의 빅테크 반독점법 조사를 우려한 조치인 것으로 보인다. 2024년 9월 25일 미라 무라티 CTO의 퇴사 발표 이후 CRO인 밥 맥그루, 부사장인 베럿 조프 등의 핵심 인력이 줄줄이 퇴사하며 지난 5월 수츠케버 퇴사 당시에 이어 2차 엑소더스가 발생했다. 2024년 10월 2일 1,570억 달러 기업가치를 평가받으며 66억 달러를 조달했다는 소식을 알렸다.# 스라이브와 마이크로소프트가 각 10억 달러 내외를 투자하며 라운드를 주했고, 지금까지 OpenAI의 누적 펀딩 금액은 179억 달러에 이른다. 다만 해당 펀딩은 2년 내에 비영리 이사회의 통제에서 벗어나 영리 기업으로 구조를 변경하고 투자자의 수익률 상한선을 없애는 조건이 이행되지 않을 경우 자금을 회수하거나 기업가치를 재협상할 수 있는 전환사채 방식으로 진행되었다는 루머가 존재한다.[20] 2025년 1월 21일 도널드 트럼프 미국 대통령 취임식을 맞아 인공지능 인프라 관련 업체인 스타게이트의 공동설립을 밝혔다. 다만 직후 중국발 딥시크 쇼크가 벌어지면서 OpenAI도 긴장할 필요가 생겼다. 2025년 2월 10일 일론 머스크가 이끄는 컨소기엄으로부터 974억 달러의 인수 제안서를 받았다는 소식이 알려졌다. 머스크 측은 OpenAI가 이젠 오픈소스와 안정성에 중점을 둔 선한 영향력으로 돌아갈 때라고 제안서에 덧붙였다. 다만 OpenAI의 현재 기업가치가 1,570억 달러[21] 수준으로 평가받으며 머스크와 샘 올트먼 사이의 계속된 언쟁 등을 고려해봤을 때 장난에 가까운 제안이다. 올트먼도 머스크의 X를 그의 제안액 1/10 수준인 97억 4,000만 달러에 살 의향이 있다며 거절 의사를 밝혔다. 2025년 3월 AI 클라우드 서버 전용 업체인 코어위브와 5년 119억 달러 규모 계약을 맺으며 오라클에 이어 비마이크로소프트 인프라를 탑재하는 두 번째 사례가 되었다. 2025년 3월 31일 기업가치 3,000억 달러를 평가받으며 신규 라운드에서 400억 달러를 조달하는 데 합의되었다는 소식이 알려졌다. 1차 투자는 4월 중순에 소프트뱅크그룹이 75억 달러를, 마이크로소프트 등 나머지 컨소시엄이 25억 달러를, 2차 투자는 12월 소프트뱅크그룹이 225억 달러를, 나머지 컨소시엄이 75억 달러를 출자하며 진행된다. 다만 2차 투자는 OpenAI가 영리법인으로 전환하는 건이 조건으로 달려있다. 4월, 인공지능 모델 평가 및 분석 스타트업인 컨텍스트AI를 인수했다. 5월 21일, 조너선 아이브의 인공지능 개발 스타트업인 io를 창사 이래 최대 금액인 65억달러에 인수한다는 소식이 전해졌다. 6월, 전자상거래 분야 인공지능 추천 시스템 개발사인 크로싱마인즈의 팀 전체를 영입했다. 9월 2일에는 제품 테스팅 소프트웨어 개발사인 스탯시그를 11억달러에 인수하고 CEO인 비자이 라지를 애플리케이션 부문 CTO로 임명했다. OpenAI는 최근 인공지능 스타트업 인수합병 및 벤처투자를 활발하게 진행하고 있는데, 자사 API를 기반으로 수직적인 스택 생태계를 구축하려는 야심이 부각되고 있다는 평가를 받고 있다. 9월 10일, 오라클과 2027년부터 2031년에 걸쳐 3,000억달러 규모의 클라우드 공급 계약을 맺었다는 소식이 전해졌다.\\n\\n3. 사업[편집]\\n\\n3.1. 인공지능 모델[편집]\\n\\n자사 응용 소프트웨어의 기반이 되는 모델과 서비스이며, 유료 API를 통해 서드파티 기업에도 서비스를 제공하고 GPTs 지원을 통하어 자사 GPT만의 생태계를 만들어 나가고 있다. 즉 오픈AI의 알파이자 오메가인 분야이다. 공급이 한정적인 소수의 컴퓨터 과학자 인력을 채용해야되고 막대한 데이터를 필요로 하기 때문에 클라우드 컴퓨팅 비용이 상당하여 언어 모델을 개발하는 기업은 극히 드물다. 따라서 대부분의 AI 스타트업들은 API를 통해 구글, 오픈AI, 메타 등의 모델을 활용하여 자사 서비스에 탑재하는 방식으로 참여한다. 향후 ChatGPT 이상의 프로그램을 낼 예정은 현재로서는 없으며, 유료 API 기반 생태계 확장에 힘을 쏟겠다고 한다. 이하 유의해야 할 점으로는 ChatGPT-4o 와 같은 이름들은 서비스명이지 모델 그 자체를 의미하는 것이 아니기 때문에 버전에 따라 크게 차이가 나는 응답을 받을 수도 있다. 만약 이런 현상에 영향을 받는다면 API를 이용하여 gpt-4o-2024-11-20 와 같이 스냅샷을 명시하여 응답을 얻어내야 한다.\\n\\n3.1.1. GPT 모델[편집]\\n\\n3.1.1.1. GPT-1[편집]\\n\\n\\n\\n상세 내용 아이콘\\n\\n자세한 내용은 GPT-1 문서를 참고하십시오.\\n\\n3.1.1.2. GPT-2[편집]\\n\\n\\n\\n상세 내용 아이콘\\n\\n자세한 내용은 GPT-2 문서를 참고하십시오.\\n\\n3.1.1.3. GPT-3[편집]\\n\\n\\n\\n상세 내용 아이콘\\n\\n자세한 내용은 GPT-3 문서를 참고하십시오.\\n\\n3.1.1.4. GPT-4[편집]\\n\\n\\n\\n상세 내용 아이콘\\n\\n자세한 내용은 GPT-4 문서를 참고하십시오.\\n\\n3.1.1.5. GPT-5[편집]\\n\\n\\n\\n상세 내용 아이콘\\n\\n자세한 내용은 GPT-5 문서를 참고하십시오.\\n\\n3.1.2. 추론형 모델[편집]\\n\\n3.1.2.1. o1[편집]\\n\\n\\n\\n상세 내용 아이콘\\n\\nOpenAI o1에 대한 자세한 내용은 OpenAI o1 문서를 참고하십시오.\\n\\n3.1.2.2. o3[편집]\\n\\n\\n\\n상세 내용 아이콘\\n\\n자세한 내용은 o3 문서를 참고하십시오.\\n\\n3.1.2.3. o4[편집]\\n\\n\\n\\n상세 내용 아이콘\\n\\nOpenAI o4에 대한 자세한 내용은 OpenAI o4 문서를 참고하십시오.\\n\\n3.1.3. Whisper[편집]\\n\\n\\n\\n상세 내용 아이콘\\n\\n자세한 내용은 Whisper(AI) 문서를 참고하십시오.\\n\\n3.1.4. Codex[편집]\\n\\n\\n\\n다른 뜻 아이콘\\n\\n이 모델을 사용한 서비스에 대한 내용은 Codex 문서를 참고하십시오.\\n\\nAPI 개발을 자동화해주는 인공지능이다. 2021년 8월 11일 공개된 업그레이드를 통해, 영어로 된 자연어 문장이나 이미지 데이터 등을 입력함으로써 손쉽게 프로그램을 코딩할 수 있게 되었다. GPT-3을 기반으로 하고 있다. GitHub가 공개한 코파일럿이 Codex를 기반으로 하고있다. 그리고 2025년 5월 17일, Codex의 대규모 업데이트가 발표되었다.# OpenAI o3를 기반으로 했으며, 모델의 이름은 Codex-1 으로 명명되었다. SWE-Bench 결과 기존 o3-high 대비 5% 성능이 향상되었으며, 가장 큰 번경점은 o3는 작업시 주석을 끼워넣으며 지저분하게 생성했으나, codex를 통해 작업시 주석이 없는 깔끔한 코딩, 즉 사람이 바로 사용하기 편한 결과물을 생성한다. GPT-5-Codex 소개 추후, GPT-5 발표로 Codex에서 사용가능한 모델들이 모두 GPT-5 시리즈로 교체되었는데, 이중 GPT-5-high 모델이 기존 Codex-1 모델을 대체하는 성능을 보여줬으나 주석 작성같은 자잘한 부분에서 약한모습을 보여줘 몇일 안돼어 9월 10일부터 LMArena에 \\'gpt-5-high-new-system-prompt\\' 라는 모델을 테스트 하기 시작, 9월 16일부로 GPT-5-Codex 로 명칭을 변경해 Codex-1 모델의 후속 버전임을 발표했다. Codex-1이 o3모델보다 미세하게 코드를 잘 작성하고, 깔끔한 주석을 생성했던것처럼, GPT-5-Codex 모델도 기존 GPT-5-High 모델보다 코드를 더 잘 작성하고, 깔끔한 주석을 생성하도록 향상되었다.\\n\\n3.1.5. 프로메테우스[편집]\\n\\nAI SEO에 특화된 언어 모델. 2023년 2월 7일 Microsoft 인공지능 언론 발표회에서 최초 공개되었다. Microsoft Bing과 Microsoft Edge에 적용된다. GPT-4에서 검색 기능을 특화시켜 만든 모델이다.\\n\\n3.1.6. CUA[편집]\\n\\n\\n\\n상세 내용 아이콘\\n\\n자세한 내용은 CUA 문서를 참고하십시오.\\n\\n3.2. 응용 소프트웨어[편집]\\n\\n언어 모델을 기반으로 한다.\\n\\n3.2.1. ChatGPT: 텍스트 인공지능[편집]\\n\\n\\n\\n상세 내용 아이콘\\n\\n자세한 내용은 ChatGPT 문서를 참고하십시오.\\n\\n3.2.2. DALL·E: 그림 생성 인공지능[편집]\\n\\n\\n\\n상세 내용 아이콘\\n\\n자세한 내용은 DALL·E 문서를 참고하십시오.\\n\\n3.2.3. Voice Engine: 음성 생성 인공지능[편집]\\n\\n\\n\\n상세 내용 아이콘\\n\\n자세한 내용은 Voice Engine 문서를 참고하십시오.\\n\\n3.2.4. Sora: 영상 생성 인공지능[편집]\\n\\n\\n\\n상세 내용 아이콘\\n\\n자세한 내용은 Sora 문서를 참고하십시오.\\n\\n3.2.5. SearchGPT: 인공지능 검색 엔진[편집]\\n\\n\\n\\n상세 내용 아이콘\\n\\n자세한 내용은 SearchGPT 문서를 참고하십시오.\\n\\n3.2.6. OpenAI(인공지능)[편집]\\n\\n\\n\\n상세 내용 아이콘\\n\\n자세한 내용은 OpenAI(인공지능) 문서를 참고하십시오.\\n\\n3.2.7. Operator: 인공지능 에이전트[편집]\\n\\n\\n\\n상세 내용 아이콘\\n\\n자세한 내용은 Operator(OpenAI) 문서를 참고하십시오.\\n\\n3.3. GPT 스토어[편집]\\n\\n2023년 11월에 열린 첫 번째 데브데이 컨퍼런스에서 출시를 예고했다.# 개인화된 GPT 에이전트를 거래할 수 있는데, 스토어에 올라오는 GPT 중에서 인기와 활용도가 높은 GPT들에겐 일부 수익 공유를 하겠다고 언급했다. 모바일 생태계를 넓힌 App Store와 Play Store처럼 인공지능 소프트웨어 유통 창구를 직접 담당하겠다는 뜻이다. 기존에는 ChatGPT의 성공 이후 생성형 인공지능 분야에서 여러 유니콘 기업들이 우후죽순 쏟아졌으나, 투입되는 비용 대비 서비스의 수익성이 매우 빈약하기 때문에 외부 투자금 없이는 재정적인 자립이 힘들었다는 단점이 있었다. GPT 스토어 출시 이후에는 코딩 없이 자연어만으로도 맞춤형 서비스를 구축하는 게 가능해졌기 때문에 대중성이 보다 높아질 것으로 예상될 뿐더러 개발자의 수익 창출 루트가 새롭게 생긴 것이다. 하지만 올트먼 축출 사태의 여파 때문인지 출시를 연기한 이후 2024년 1월 10일 출시를 발표했다.\\n\\n4. 지배구조[편집]\\n\\n지배구조\\n\\n지분율에 상관 없이 사외이사[22]가 50% 이상으로 채워진 비영리 단체 OpenAI Inc.의 이사회에 전권이 부여된 구조다. OpenAI 글로벌 LLC의 지분 49%를 쥐고 있는 마이크로소프트의 경우에도 이사회가 AGI에 도달했다고 판단한 경우, 해당 분야에서는 기존에 맺은 상용 계약[23]의 효력이 사라질 정도다.[24] 자사 홈페이지에서도 투자자의 이익보다 안전한 방식의 AGI 구현이 우선 순위에 있다는 점을 명시하고 있다.# 이러한 구조 속에 비영리 단체 OpenAI Inc.는 수익률이 제한된 영리기업인 OpenAI Global LLC를 지배하고 있다. 마이크로소프트 외에 코슬라벤처스, 리드 호프먼, 세콰이어캐피탈 등이 주요 투자자로 참여하고 있다. 하지만 심각한 적자와 현금 고갈 문제를 해결하고자 펀딩 과정에서 기업공개를 조건으로 투자를 받으며, 영리법인으로의 전환은 숙명이 되었다. 이후 2024년 12월 27일에는 자사 블로그에 기업의 구조를 변화시켜야 되는 이유를 담은 기고문을 게시했다.# AGI 개발이라는 목표를 수행하기 위해 상상 이상의 자본이 필요하며, 이로 인해 기존의 영리와 비영리가 혼재된 구조를 벗어나 앞으로는 델라웨어 공공목적법인(PBC)으로 전환하려고 한다고 밝혔다. 이 과정에서 OpenAI의 새로운 돈줄은 기존의 마이크로소프트가 아니라 더 스타게이트 프로젝트를 합작으로 진행하고 대규모 신규 펀딩에 참여할 소프트뱅크 그룹으로 바뀌게 되었다.[25][26] 이에 일론 머스크와 메타 플랫폼즈 등은 영리 전환이 이율배반적이며 기업 윤리에 악영향을 줄 수 있다며 각각 소송전과 조치 서한을 보내기도 하며 험난한 길을 걷게 되었다.[27] 제프리 힌튼도 그동안 비영리 단체로서 세금 혜택을 받아왔으며 다양한 안전 관련 약속을 해왔는데, 이를 바꾸려한다면 AI 산업의 조직과 기업에 매우 부정적인 영향을 줄 것이라고 비판했다. 결국 2025년 5월 5일 캘리포니아와 델라웨어주 법무장관들과 협의한 끝에 영리법인 전환 철회를 결정했다는 소식을 알렸다. 대신 비영리법인인 OpenAI Inc.가 OpenAI PBC를 지배하는 구조로 전환한다.[28]\\n\\n5. 이사회[편집]\\n\\n이름 재직 기간 주요 이력 비고 현직 이사회 구성원 애덤 디엔젤로 2018년 4월~ Quora (CEO) [29] 로렌스 서머스 2023년 11월~ 하버드 대학교 (종신교수) 브렛 테일러 세일즈포스 (전임 CEO) [의장] 샘 올트먼 2024년 3월~ OpenAI (CEO) 수 데스몬드-헬만 게이츠 재단 (전임 CEO) 니콜 셀리그먼 소니 (전임 총괄부사장) 피지 시모 인스타카트 (CEO) 폴 나카소네 2024년 6월~ 미국 국가안보국 (국장) 지코 콜터 2024년 8월~ 카네기 멜런 대학교 (교수) [31] 전직 이사회 구성원 일론 머스크 2015~2018년 테슬라 (CEO) [32] 샘 올트먼 2015~2023년 OpenAI (CEO) [33] 그렉 브록만 2015~2023년 OpenAI (사장) [34] 일리야 수츠케버 2015~2023년 OpenAI (수석과학자) [35] 홀든 카노프스키 2017~2021년 오픈필란트로피 (디렉터) [36] 리드 호프먼 2018~2023년 Inflection AI (이사) [37] 시본 질리스 2019~2023년 뉴럴링크 (디렉터) [38] 타샤 매카울리 2019~2023년 지오심시스템 (CEO) [39] 윌 허드 2021~2023년 텍사스 23구 (연방하원의원) [40] 헬렌 토너 2021~2023년 CSET (디렉터) [41]\\n\\n6. 로고[편집]\\n\\n2015~2017년 2017~2023년 2023~2025년 2025년~\\n\\n7. 논란 및 사건사고[편집]\\n\\n7.1. 2023년 경영진 축출 사태[편집]\\n\\n2023년 11월 17일 금요일, OpenAI 이사회는 갑자기 느닷없는 발표를 했다. 창업자 중 한 명인 샘 올트먼이 CEO에서 물러나고 이사회를 떠나며 그의 자리는 기존 CTO 미라 무라티가 임시 CEO로 임명된다는 것이다.# OpenAI의 입장 발표에 따르면, 샘 올트먼의 해고는 이사회의 심의 과정을 거쳐 이루어졌으며, 이사회와의 소통에서 일관되게 솔직하지 못해 이사회의 책임 행사 능력을 저해한다는 결론을 내렸고 이사회는 더 이상 오픈을 계속 이끌 수 있는 그의 능력이 부족하다고 판단하여 해고했다고 한다. 또한, 새로운 이사회를 구성하며 이런 변화의 일환으로 창업자 그렉 브록만 역시 이사회 의장직에서 물러난다고 밝혔다. 이러한 갑작스러운 해고 방식으로 이례적으로 불명예스러운 퇴진이 되었다.[42] 이후 그렉 브록만의 X 포스트를 통해 구체적인 전말이 밝혀졌는데, 수석과학자인 일리야 수츠케버를 비롯한 이사회 주도로 해고 당일에 화상회의를 통해 일방적인 통보를 받았다고 알렸다.# 가장 실권자라고 여겨졌던 의장과 대표이사가 하룻밤만에 돌연 해고된 점으로 인해 OpenAI 내부적으로 뭐가 어떻게 돌아가는건지 수많은 추측과 의문이 난무했으며, 블룸버그 뉴스는 AI의 안정성 문제와 샘 올트먼이 계속해서 영리성을 추구하는 문제와 관련하여 내부적인 갈등이 있었다고 추정했다.[43] 샘 올트먼과 그렉 브록만는 퇴사를 결심했고 그들을 따라 선임 연구원 세 명이 퇴직을 신청했다. 2023년 11월 20일 사티아 나델라의 포스트를 통해 퇴사한 샘 올트먼, 그렉 브록만과 일부 OpenAI 연구원도 모두 함께 마이크로소프트의 신설 인공지능 리서치팀에 이미 합류했음이 밝혀졌다. 사내 임직원들은 물론 투자자들의 극심한 반발로 인해 주말동안 협상에 들어가며 올트먼이 다시 복귀하는 듯 했으나, 마이크로소프트로 이직이 확정되면서 이렇게 사건이 일단락되는 듯 보였다. 2023년 11월 20일 마이크로소프트 CEO 사티아 나텔라는 X 를 통해 해당 건과는 별개로 마이크로소프트와의 협력 관계는 유지된다고 밝혔다.# 무라티 대신 새로운 임시 CEO는 트위치 공동창업자 에밋 쉬어로 결정되었다.[44] OpenAI는 해당 건의 처리 방식으로 인해 투자자들을 비롯, 업계 관계자들의 신뢰를 잃었으며[45] 나델라의 포스트가 올라온지 얼마 되지 않아 \\'OpenAI is nothing without its people\\'이라는 문구를 임직원들이 공유함과 동시에 쿠데타를 주도한 일리야 수츠케버가 반성의 내용이 담긴 포스트를 올렸다.#[46] 2023년 11월 20일 임직원 770명 중 700명이 서명한 탄원서가 올라왔다. 갑작스러운 해고로 인해 회사가 심각한 위기[47]를 맞게 되었으며, 퇴사한 그들의 복귀를 요청하는 내용이 담겼다.[48] 또한 현 이사회가 사임하고 샘 올트먼을 복직시키지 않을 경우 모두 퇴사를 한 뒤 마이크로소프트의 신설된 팀으로 이적하겠다는 협박성 내용도 존재한다.[49] 해당 탄원서에는 우습게도 해고를 주도한 일리야 수츠케버를 비롯한 임원진 전체가 서명했다.##[50] 2023년 11월 21일 이사회가 Anthropic과 합병하기 위해 접촉했다는 보도가 올라왔다. Anthropic의 창업자 세 명 전원이 올트먼 체제의 OpenAI가 상업화되는 행보로 인해 퇴사 후 새로 창업한 기업이기 때문에 막연하게 가능성이 없는 것은 아니었으며, 현재 OpenAI 이사회의 성향과 매우 비슷하기 때문이다.[51] 해고 5일만인 2023년 11월 22일에 애덤 디엔젤로가 이사회를 대표하여 에밋 쉬어 임시CEO와 협상에 성공하여 올트먼과 브록만의 복귀가 확정되고 새로운 이사회가 꾸려지면서 사건이 일단락되었다.# 이번 사건을 통해 올트먼에 대한 사내 임직원들의 열렬한 지지가 확인되었으며, 아무리 독립적인 이사회와 비영리기업 구조일지라도 대형 투자를 유치한 이상 설립 취지만을 고집할 수는 없다는 문제점이 드러났다. 또한, OpenAI 가 본격적으로 영리를 추구하는 발단이 되었으며, 장기적으로는 마이크로소프트의 영향력이 더욱 높아질 것으로 예측되었다.[52][53] 2023년 11월 29일 샘 올트먼은 OpenAI 공식 공지를 통해 다시 복귀하기 되어 매우 기쁘며, 새로운 이사회를 구성할 것이고 의결권이 없는 MS 측 참관인(옵져버)을 이사회에 포함시킬 것이라고 말했다.# 샘 올트먼 해고를 주도했던 일리야 수츠케버를 비롯해 헬렌 토너, 타샤 맥컬리는 이사회에서 해임되었다. 다만, 애덤 디엔젤로는 그의 과거 화려한 경력[54]과 협상 노력 때문인지 이사회에서 혼자 살아남았다. 2023년 12월 8일 마이크로소프트 대변인 프랭크 쇼는 자사가 단순 수익 배분을 통해 수익을 얻을 뿐, OpenAI에 대한 어떠한 지배권도 행사하지 않는다고 밝히면서 반독점에 대한 우려를 일축시켰다.# 2024년 3월 8일 기자회견을 통해 올트먼 축출 사태는 그와 이사회 간의 신뢰 상실의 결과였다고 최종 결론을 지었다. 즉, 안정성이나 재정 문제가 아니었다는 뜻이다. 해당 결론은 윌머헤일이라는 로펌의 사내 조사를 통해 이루어졌다. 하지만 2024년 5월, 당시 이사였던 헬렌 토너는 TED의 AI 쇼 팟캐스트에 출연하여 사내 조사 결론과는 사뭇 다른 의견을 피력했다. 경영진이 이사진에게 사전 공지 없이 ChatGPT를 출시했으며, 올트먼이 스타트업 펀드를 보유하고 있다는 점[55]도 알리지 않았다고 한다. 그 외에도 경영진의 독단적인 의사결정 사례를 언급했다.# 뿐만 아니라 일리야 수츠케버가 퇴사 이후 재취업 대신 상용화 제품을 출시하지 않는 방식으로 안전한 초지능 구축을 목표로 하는 SSI라는 업체를 설립하면서, 사내 조사와는 달리 누가 봐도 안정성을 절대 중요시하는 일리야와의 안정성 관련 갈등이 심각했을 것이라는 점을 유추해볼 수 있다. 2024년 5월 공동창업자 일리야 수츠케버와 전 안전책임자 얀 라이체도 회사를 떠났다. 얀 라이체는 오랫동안 회사의 핵심 우선순위에 대해 오픈AI 경영진과 의견 차이를 보였고, 결국 퇴사를 결심했다고 알렸다. 2024년 9월 CTO 미라 무라티, 밥 맥그루 최고연구책임자(CRO), 배럿 조프 연구 부문 부사장이 줄줄히 퇴사했다.# 비영리 연구기관으로 시작됐던 오픈AI가 영리기업으로서 변화를 추진하는 가운데 나온 퇴사 움직임이다. 특히 무라티 CTO는 오픈AI 직원들에게 신뢰를 받고 있어 사내에서는 그녀의 퇴사에 충격을 받은 직원이 적잖았다. 8월에 이미 존 슐면 공동창업자가 앤트로픽으로 이적했고, 그렉 브록만도 장기 휴직에 들어갔다. 최초 창립 멤버 중 남은 이는 올트만과 보치엑 자렘바 둘만 남게 되었다. 2025년 3월 29일 월스트리트저널(WSJ) 기자 키치 헤이기가 \\'낙관론자: 샘 올트먼, 오픈AI, 그리고 발명 경쟁\\'(The Optimist: Sam Altman, OpenAI, and the Race to Invent the Future)이라는 신간을 출간하면서 2023년 잠시 해고되었던 이유를 밝혔다.\\n\\n7.2. 소송전[편집]\\n\\n7.2.1. 저작권 관련[편집]\\n\\n2023년 7월 사라 실버맨을 비롯한 작가 4명이 저작권을 위반했다는 이유로 OpenAI에 소송을 제기했다. # # # 2023년 9월 조지 R.R. 마틴, 존 그리샴을 비롯한 작가 17명이 포함된 미국의 소설가 단체(Authors Guild)에서 같은 이유로 소송을 제기했다. # 2023년 12월 대형 언론사인 뉴욕 타임즈가 OpenAI와 마이크로소프트에 소송을 제기했다. # 2024년 4월 30일 8개에 달하는 언론사들이 OpenAI와 마이크로소프트에 소송을 제기했다가 11월 8일에 법원에 의해 기각되었다. # 2024년 5월 OpenAI가 GPT-3에 사용한 \\'Books1\\'과 \\'Books2\\'라는 학습 데이터를 완전히 삭제하였는데 이 중에는 십만개에 달하는 저작물이 포함되어있다고 Authors Guild에서 주장했다. # 2024년 9월 30일 오픈 소스 프로그래머들이 OpenAI와 마이크로소프트에 소송을 제기했다. # 2024년 11월 22일 뉴욕 타임즈는 OpenAI의 훈련 데이터를 150시간 동안 살펴보는 도중 OpenAI가 증거인멸을 위해 데이터를 삭제했다고 주장했다. # 2024년 11월 29일 캐나다의 CBC를 비롯한 여러 대형 언론사들이 OpenAI에 소송을 제기했다. #\\n\\n7.2.2. 일론 머스크의 소송[편집]\\n\\n2024년 2월 29일 설립 당시 공익적인 취지를 위반하고 마이크로소프트의 사익을 위한 폐쇄적인 기업으로 변모했다는 명목으로 일론 머스크에 의해 샌프란시스코 법원에서 고발당했다. 이에 OpenAI 측은 3월 5일 자사 블로그를 통해, 이를 정면 반박하는 글을 올렸다.# OpenAI가 재정상 문제로 인해 개발 속도가 더뎌지자, 머스크가 1인 체제로 독단적인 운영을 시도하며 역으로 초기의 설립 취지를 벗어났다고 주장하고 있다. 이후 머스크가 OpenAI의 통제권을 얻는데 실패하자, 당초 약속했던 펀딩 이행도 지키지 않았다는 내용을 이메일 자료를 통해 공개했다. 2024년 6월 11일 머스크가 소송을 취하해달라는 요청을 했다는 소식이 알려졌다.# 이후 아무 말 없이 소송을 취하하였다. 2024년 8월 5일 머스크는 OpenAI에 새로운 소송을 제기하였으며 11월 15일에는 마이크로소프트와 OpenAI가 AI 업계에서 독점적 지위를 유지하기 위해 불법적 행위를 저지르고 있다고 주장했다. # # 2024년 12월 2일 머스크는 OpenAI가 영리 기업으로 전환하는 것을 막아달라고 법원에 호소했다. # OpenAI는 자사 블로그를 통해 오히려 머스크가 OpenAI를 영리 기업으로 전환시키려 했다고 반박했다. #\\n\\n7.3. 퇴사 계약 관련 논란[편집]\\n\\n2024년 5월 일리야 수츠케버 퇴사 소식이 알려진 이후 X를 통해 얀 레이케[56], 인공지능 정책 및 통제 연구원인 컬렌 오키프[57]와 다니엘 코코타일로[58] 등의 임직원들이 대거 퇴사를 결심했다는 소식이 알려진 바 있다. 또한 퇴사 과정에서 직원들에게 NDA 및 평생에 걸쳐 고용주(회사)를 비방하는 것을 금지하는 등의 엄격한 퇴사 계약서를 체결하게 했다는 소식이 알려졌다. 관련 문서 서명을 거부하거나 퇴사 이후 해당 내용을 위반할 경우, 회사에서 근무하는 동안 받았던 주식보상 등을 잃게[59]된다고 한다. 현직 직원과 전직 직원의 주식보상 현금화 한도도 차별했다.[60] 또한 샘 올트먼의 잦은 외부활동과 소통 부족, 안전 문제 등으로 인해 퇴사를 결심했다는 직원이 꽤나 존재했다. 이후 올트먼이 X를 통해 퇴사 계약 관련 문서에는 지분 취소에 관련된 조항이 있지만, 실제로 이를 이행한 적은 없으며, 현재는 표준 퇴사 서류를 수정하는 중이라는 의견을 내놓으면서 해당 이슈는 기정사실화되었다.\\n\\n7.4. 안정성 관련 논란[편집]\\n\\n경영진 해임 후 며칠만에 복귀 등 일련의 해프닝에 대해, OpenAI가 수익성을 우선시 하면서 안정성은 뒷전으로 팽개치는 것이 아니냐는 의혹이 제기되고 있다. 즉, OpenAI의 수익성과 대외 투자자 유치 등 사업성을 더 추구하는 샘 올트먼 파벌 및 그를 지지하는 대다수 직원들, 반대로 AI가 어느 단계를 넘으면 인간이 더이상 제어할 수 없으므로 그 전에 통제 안전장치를 먼저 확보해야하며 인류를 위해 AI를 사용해야 한다는 일리야 수츠케버와 얀 라이케 등 안정성 추구 파벌의 갈등 때문이라는 의혹이다. 실제로 최초 OpenAI의 설립 목적은 \"안전하고 공개적인\" 인공지능의 개발을 추구하는 것이었지만, 어느 순간부터 AI로 돈을 벌기위한 영리 수익사업 회사로 바뀌는 느낌이다. 경영진 해임사태의 최종 조사결과는 안정성 문제가 아닌 경영진과 이사회 간의 신뢰상실 문제였다고 발표는 했지만, 실제로 경영진 해임을 주동했던 일리야 수츠케버와 얀 라이케가 결국 2024년 5월15일 퇴사한 후, OpenAI 측은 바로 이틀 뒤 5월17일에 수츠케버가 이끌던 슈퍼얼라인먼트(Superalignment) 팀을 해체하고, 존 슐먼이 이끄는 다른 부서와 통폐합시켰다. 이러한 행보는 AI 안정성에 대한 통제활동을 없애버리는 것이 아닌가 하는 의혹을 부추기게 되었다. 해당 팀은 지난 2023년 7월 수츠케버를 중심으로 사내 컴퓨팅 자원의 20%를 할당받으며 신설된 바 있다. 당시의 OpenAI 게시물을 보면 아래와 같이 포부를 밝히고 있다. \"현재로서는 잠재적으로 초지능 AI를 조종하거나 제어하고, 그것이 제멋대로 행동하지 않도록 방지하는 해결책이 없다. 인간 피드백에서 강화 학습과 같은 현재의 AI 정렬 기술은 인간이 AI를 감독할 수 있는 능력에 의존한다. 그러나 인간은 우리보다 훨씬 똑똑한 AI 시스템을 신뢰할 수 없게 감독할 수 없으며, 따라서 현재의 정렬 기술은 초지능에 맞추지 못할 것이다. 우리는 새로운 과학적 및 기술적 돌파구가 필요하다.\" 공동으로 팀을 이끌던 얀 라이케는 지난 몇 달 동안 컴퓨팅 자원을 확보하는 데 어려움을 겪는 등 회사의 우선순위에 대한 의견 차이로 인해 퇴사를 결심했다고 밝혔다.[61] 그 외에도 안전성에 관해 비슷한 의견을 내는 다니엘 코코탈로, 크레첸 크루거 등 다수의 직원들이 퇴사했다. 슈퍼얼라인먼트 팀은 AI의 초지능(Super-Intelligence) AGI를 사전에 통제하기 위한 안전장치를 연구하는 팀이었다. 부서 이름에서 뜻하는 Alignment 정렬의 뜻은 인간의 의도를 AI 가 이해할 수 있도록 동작 방향성을 정렬 일치시키는 것을 말한다. 아래는 AI Alignment가 무슨 뜻인지? 질문에 대한 ChatGPT의 답변이다.\\n\\nAI Alignment는 인공 지능이 사람의 목표와 가치에 부합하도록 보장하는 것을 의미합니다. 기본적으로, 인공 지능 시스템은 우리가 의도한 바에 따라 행동해야 합니다. 그러나 이것은 종종 복잡하고 어려운 문제입니다. 예를 들어, 우리가 원하는 목표를 충실히 수행하거나 예상치 못한 방식으로 해석하는 사례가 있을 수 있습니다. AI Alignment는 이러한 위험을 최소화하고, 인간의 목표와 가치를 올바르게 이해하고 따르도록 보장하기 위해 연구 및 기술적 노력이 진행되고 있습니다. AI Alignment에는 몇 가지 주요 항목이 있습니다:\\n\\n인간의 의도 이해: 이것은 인공 지능이 인간의 의도와 목표를 정확히 이해하고 그에 맞게 행동하는 것을 보장하는 것입니다. 이것은 언어 이해, 의사 결정 프로세스, 윤리적 고려 등을 포함합니다.\\n\\n안전성 보장: 인공 지능이 예상치 못한 상황에서도 안전하게 작동할 수 있도록 보장하는 것이 중요합니다. 이는 예를 들어 AI 시스템이 자동차 운전 중에 예상치 못한 상황에 대처할 수 있도록 하는 것과 같은 것입니다.\\n\\n의도치 않은 부작용 방지: 종종 인공 지능 시스템이 우리가 원하는 것은 맞지만, 예상치 못한 부작용이 발생할 수 있습니다. AI Alignment는 이러한 부작용을 최소화하기 위해 노력합니다.\\n\\n윤리적 고려: 인공 지능 시스템이 인간의 가치와 윤리적 원칙을 준수하도록 보장하는 것이 중요합니다. 이것은 특정 그룹이나 개인을 불이익하게 하는 행동을 피하고, 인간의 안전과 웰빙을 최우선으로 고려하는 것을 의미합니다. 이러한 항목들은 AI Alignment를 위한 연구와 기술적 개발의 주요 영역입니다.\\n\\n샘 올트먼과 그렉 브록만이 해임 후 재복귀하면서 오히려 과거보다 더욱 강화된 전권을 쥐게 되었고, 일리야 수츠케버의 퇴사와 수퍼얼라인먼트 팀을 해체시키는 과정을 겪으면서 다시 한 번 안정성 관련 이슈가 화두로 떠오른 상황이다. MIT 교수 Yossi sheffi 기고문, OpenAI 사태의 교훈, 인공지능의 분열적이고 양극화된 특성의 위험성 세간의 안정성 이슈 제기를 의식한 듯 OpenAI 이사회는 기존 팀을 해체한지 얼마되지 않아 2024년5월28일 새로운 \"안전 및 보안위원회\"를 구성한다는 발표를 했다. CNBC 뉴스 다만, 이 위원회 멤버들이 외부 인원 없이 전부 내부 인사들로만 구성되었다는 점에서 비판을 받고 있다. 위원회 멤버는 샘 올트먼, 브렛 테일러, 아담 디앤젤로, 니콜 셀리그만, 최고 과학자인 야쿱 파초키, 준비 팀을 이끄는 알렉산더 매드리, 안전 시스템 책임자인 릴리안 웽, 보안 책임자인 매트 나이트, 그리고 정렬 과학 책임자인 존 슐만이 포함된다.\\n\\n7.5. 스칼렛 요한슨 목소리 무단 사용 해프닝[편집]\\n\\n2023년 11월 ChatGPT에 음성 기능이 추가되었는데, 이 중 SKY 모드의 음성이 스칼렛 요한슨의 목소리와 흡사해 화제가 되기도 했다. 다만 이 때까지는 비슷한 목소리로 잠깐 화제가 된 수준이었는데, 무엇보다 음성 기능의 반응 속도가 느렸기에 광범위하게 대중화될 만큼의 성능은 아니었던지라 이스터 에그쯤으로 여기는 반응이 대다수였다. 2024년 5월 OpenAI의 GPT-4o 발표 이후 논란이 점화되기 시작했다. 일단 새로운 음성 기능이 기존의 TTS(Text to Speech)에서 진보한 멀티모달 모델 기반이었기에 반응 속도가 극적으로 빨라져 음성 채팅 기능이 뜨거운 호응을 일으키기에 충분했다. 특히, 데모 영상의 인공지능 목소리가 영화 그녀(Her)의 인공지능 사만다의 목소리를 연상시키게 할 정도로 흡사할 뿐만 아니라 샘 올트먼 또한 발표 직후 자신의 SNS인 X에 ‘her’라고 포스팅 했을 정도로 영화와 연결지으려는 홍보의 의도성이 명확해 보였다. 이후 2024년 5월 20일 OpenAI는 공지를 내고 \"우리는 챗GPT, 특히 (서비스 내 음성비서인) 스카이(Sky)의 목소리를 어떻게 선택했는지에 대해 많은 질문을 받았다\"며 \"문제를 해결하는 동안 스카이 사용을 일시 중지할 것\"이라고 밝혔다. 이날 요한슨은 성명을 통해 샘 올트먼이 지난 9월 챗GPT 4.0 시스템의 음성을 담당해달라고 제안했지만 \\'개인적 이유\\'로 거절했음을 분명히 했다. 챗GPT 4.0 데모가 공개되기 불과 이틀 전에야 올트먼이 요한슨의 에이전트를 통해 재고해달라고 요청했는데, \"논의가 이뤄지기도 전에 이미 (요한슨과 흡사한 목소리의) 시스템이 만들어졌다\"는 지적이다. 이에 요한슨은 법률 변호사를 고용했고, 변호사가 올트먼에게 두 통의 공식 서한을 보낸 후 오픈AI가 스카이 음성을 삭제하는 데 마지못해 동의했다고 밝혔다. # 그러나 후에 스카이의 성우가 밝혀지면서 해당 목소리가 스칼렛 요한슨의 목소리가 아닌 것으로 드러났다. 성우의 에이전트에 따르면 해당 성우는 OpenAI가 스칼렛 요한슨과 접촉하기 6개월 전에 캐스팅 되었으며, 스칼렛 요한슨이나 영화 her에 대한 언급은 전혀 듣지 못했다고 말했다. 성우 본인 역시 자연스러운 자신의 목소리일 뿐이며 누군가를 따라하지 않았다고 말했다. 해당 성우를 캐스팅했던 조앤 장도 그 성우의 목소리가 스칼렛 요한슨과 닮았다고 생각해 본 적 없다고 답했다. #\\n\\n7.6. 2024년 내부고발자 사망 관련 음모론[편집]\\n\\n2024년 11월 26일 OpenAI에서 4년 동안 연구원으로 근무했던 수치르 발라지(Suchir Balaji)가 샌프란시스코 자택에서 숨진 채 발견되었으며 검시관의 부검과 경찰 조사 결과로 자살이라 결론지었으나 공식 보고서는 발표되지 않았다. # 해당 연구원은 2024년 10월 OpenAI와 저작권 관련 분쟁으로 소송을 진행하고 있던 뉴욕 타임즈와의 인터뷰를 통해 ChatGPT가 미국의 저작권법을 위반하고 있으며 생성형 인공지능이 인터넷에 해를 끼치고 있다고 주장했다. 2024년 12월 29일 수치르의 부모는 자살이 아닌 타살로 의심된다며 탐정을 고용했고 FBI에 수사를 요청하였다. # # 이에 일론 머스크는 수치르의 부모에게 자살로 보이지 않는다는 트윗을 남겼다. # 수치르의 부모는 2025년 1월 1일 NDTV와 인터뷰에서 2차 부검 결과 수치르가 저항한 흔적이 발견되었다고 주장했다. # 2025년 2월 14일 공개된 공식 보고서에 따르면 발라지는 사망하기 약 2년 전에 자살에 사용된 글록 권총을 구매 및 등록했으며, 사망 직전 컴퓨터로 뇌 구조를 검색한 기록이 존재했다. 경찰이 신고를 받고 발라지의 아파트에 도착했을 당시, 아파트의 유일한 출입구는 안에서 잠겨 있었으며, 창문은 약 4인치 정도만 열리는 구조로 외부 침입 가능성은 낮았다 보고되었다. 수사관들은 \"강제 침입이나 내부에서 벌어진 소동의 흔적을 발견하지 못했다\"라고 밝혔다. # 독물학 검사 결과 사망 당시 체내에 에탄올과 암페타민이 잔존해 있었으며, 샌프란시스코 경찰국장은 검시관의 조사 결과와 경찰국의 자체 수사 결과를 종합하여 \"타살이라고 볼 만한 충분한 증거가 없다\" 결론 내렸다. #\\n\\n8. 기타[편집]\\n\\n[62] 등 한국인 직원도 여러 명 근무하고 있다. \\'조앤 장\\'처럼 한국계도 있다.\\n\\n2023년 1월 허위 정보로 인한 언어 모델의 오용 가능성 예측 및 위험 감소 방법에 대한 기사를 OpenAI 블로그에서 공개했다. AI 사용자의 오용 위험성과 사회적 파장에 대한 완화 전략[63] 등이 담겨있다. 그러나 \\'가이드라인\\'일 뿐 강제성은 없다.#\\n\\n한국의 영어 회화 서비스 스픽이 ChatGPT 개발사 OpenAI와 기술적 파트너십을 맺었다. OpenAI가 직접 발표한 WhisperAPI 활용 사례로 소개되기도 했다.##\\n\\n생성형 인공지능/언어 모델 업체 중에서 OpenAI 다음으로 기업 가치가 높은 Anthropic이라는 업체는 창업자 전원이 OpenAI 출신이다. OpenAI가 마이크로소프트로부터 투자를 받으며 영리화돼가는 점에 대해 반감을 느끼고 창업했다고 한다.\\n\\n2023년 6월과 9월, 11월에 자사 GPT 최적화를 위한 전자기기를 직접 제작하기 위한 프로젝트를 꾸리고 있다는 루머가 현지 언론들을 통해 일제히 보도되었다. 이를 위해 애플에서 인력들을 영입하고 있으며, 소프트뱅크 그룹의 펀딩, 조너선 아이브가 운영하는 러브프롬의 디자인까지 협업 방식으로 추진되고 있다고 한다. 하드웨어와 더불어 새로운 운영체제와 직관적인 UI를 목표로 하고 있다고 한다. 애플 디자인 총괄자 탕 탄이 러브프롬으로 이직했으며, 산업디자인 책임자 아오야기 쇼타도 OpenAI로 이직 할 예정이다.\\n\\ngefvB8Is\\n\\ngefvB8Is\\n\\n[1] 공식 홈페이지에서도 명확히 밝히지 않고 있으며 매체에 따라 선정하는 창업 멤버의 구성이 각기 다르다. 이와는 별개로 올트먼과 머스크, 브록만의 주도로 아이디어를 구체화한 이후 설립되었고 공동창업자들을 영입했다. 다만 후술되어있듯 이후 떠난 멤버도 있다.[2] 2023년 11월, 이사회와의 갈등으로 5일 동안 잠시 해고당했다가 복귀했다.[3] JP모간 체이스, 드롭박스에서 금융 분야 보직에서 근무했으며, Y Combinator에서 근무하던 중 올트먼에 의해 영입되어 2018년부터 2022년까지 CFO 직책을 역임했다.[4] 이사회와의 갈등으로 인해 잠시 해고당했었다.[5] 2024년 하반기 기준 ARR은 40억달러를 돌파했다고 2025년 매출 목표치는 127억달러였는데, 8월만에 연환산매출 기준으로 이를 돌파했다.[6] 한국 지사가 설립되었다[7] 대한민국 지사는 2025년 9월, 전세계 12번째이자 일본과 싱가포르에 이은 아시아 세번째로 설립되었다.[8] 래리 페이지와 일론 머스크는 인공지능의 잠재 위험성 여부를 두고 실랑이를 벌이다가 2014년 구글이 딥마인드를 인수한다고 밝히자 해당 건을 막으려고 시도했다. 실패한 이후 샘 올트먼 등의 경영진과 합세해 비영리 공익을 표방하며 설립한 게 OpenAI다.[9] 다만, GPT-3를 기점으로 클로즈드 테스트를 통한 소스코드 혹은 논문을 공개하지 않는 방향으로 노선을 변경했으며 마이크로소프트에게만 독점 계약을 제공하면서 초기 취지는 많이 희석되었다. 올트먼은 오픈이라는 의미가 오픈소스만을 의미한다고 생각하진 않는다고 언급했다.[10] 수치는 기사마다 다르다. 초기엔 1억 달러라고 주장했다가 정확한 액수가 기억나지 않는다는 뉘앙스를 풍기며 5,000만 달러로 줄여(...) 언급했다. 한 언론사의 취재에 따르면 실제론 1,500만 달러 정도만 출자하는 데 불과했다고 한다.# 2024년 2월 OpenAI 고소 이후 본인의 변호인단이 의하면, 4,400만 달러를 기부했다고 주장했다.[11] 다만 2019년 상반기 기준으로 실제 납입된 금액은 1억 3,050만 달러에 불과했다. 심지어 연방 세금 신고서 기준으로 YC Research는 한 푼도 기부하지 않았다고 한다. 현실이 이렇다보니 영리화는 필연적인 운명이었던 셈.[12] 명목상은 테슬라 오토파일럿으로 인한 이해관계 충돌이었으나, 개발 속도가 더뎌지며 구글을 추격하기 힘들어지자 머스크가 이사회를 단독으로 장악하고 테슬라에 OpenAI를 통합시키려고 하며 갈등이 커진 점이 사실은 주원인이었다고 전기에서 밝혀졌다.[13] 이후 2019년 머스크는 지분 전량을 마이크로소프트에게 매각했다. 2020년대에 들어서는 창업 초기에 비해서 지나치게 영리화 되어서 본래 취지와 맞지 않는다고 비판 횟수가 늘기 시작했다. 또한 트위터의 데이터를 무료로 긁어오며 학습했다고 주장하는 등 OpenAI에 적대적인 행보를 보이고 있다.# #[14] 개발 속도가 생각보다 진전되지 않아서 구글을 따라잡는 게 힘들어지면서 영리 법인 전환 이전에는 일론 머스크가 테슬라에 OpenAI를 통합시키려고 했으나 무산된 이후 올트먼도 비영리의 한계를 느끼고 마이크로소프트의 투자를 받는 대안을 선택한 것이다.[15] 당시 비노드 코슬라의 코슬라 벤처스가 5,000만 달러를 투자하며 최초 외부 투자자로 참여했다.[16] 때문에 2023년 ChatGPT의 성공과 후속 투자로 인해 마이크로소프트 주식에서 막대한 영향을 미치고 있다.[17] 수익 배분 계약은 아직 확실치 않은 부분이며 포츈의 주장이다. 원금 회수까지 수익의 75%, 원금 회수 이후에는 920억 달러에 달할 때까지 49%를 분배받은 뒤 투자수익 효력이 사라진다는 내용이다.[18] 2023년 11월 올트먼 해임 사태 때도 마이크로소프트는 해임 발표 직전에 이사회의 일방적인 통보를 받았을 뿐이었기 때문에 이를 더욱 뒷받침한다.[19] 애플은 필 쉴러가 참관 예정이었으며, 마이크로소프트는 부사장인 디 템플턴이 2024년 1월부터 참관인으로 합류했었다.[20] 국내외 주류 언론사에서 해당 내용을 발표했으며, 아직 사측에서는 진위여부를 밝히지 않았다.[21] 현재 논의가 진행되고 있는 소프트뱅크 그룹 주도의 신규 펀딩에선 무려 3,000억 달러 수준까지 언급되고 있는 상황이다.[22] 이들은 OpenAI의 지분을 보유하지 않아야만 한다. 현 대표이사 샘 올트먼조차 Y Combinator를 통한 소액의 간접투자 외의 개인적 지분은 보유하고 있지 않다.[23] 130억 달러의 금액을 투자하여 지분 49%와 Microsoft Azure의 컴퓨팅을 제공하는 대신 마이크로소프트는 2030년까지 OpenAI의 API에 대한 독점권과 지적재산권, 그리고 매출의 25%를 가져가는 수익공유계약을 맺었다.[24] 이러한 이유로 인해 마이크로소프트가 계약을 너무 불리하게 체결했다는 의견도 존재한다. 심지어 2022년 기준 OpenAI의 추정 매출이 수천만 달러부터 수천억 달러 수준에 불과하고 AGI 상용화 계약은 예외로 빠졌기 때문에 매출의 25% 수익 분배로 투자 원금을 회수하는데 걸리는 기간이 상당히 길 것으로 예측된다.[25] 마이크로소프트가 지금까지 OpenAI에 140억 달러를 투자하며 OpenAI 글로벌 LLC의 지분 49%와 API 독점권 및 25%의 수익공유를 가져갔다면, 더 스타게이트 프로젝트로 인해 오라클이 파트너가 되며 마이크로소프트의 독점 인프라 제공은 깨졌고 PBC로 전환하는 과정에서 진행하는 신규 펀딩에서 소프트뱅크 그룹이 무려 300억 달러를 투자한 반면 마이크로소프트는 소액만 투자하며 자체 모델 개발에 집중하고 있다.[26] 뿐만 아니라 2025년 2월 3일에는 소프트뱅크 그룹의 자회사인 소프트뱅크와 각각 50%씩을 출자하며 일본 기업용 인공지능 개발 및 인프라 구축 사업을 진행할 SBOpenAI 재팬도 설립했다.[27] 머스크와의 소송 과정에서 미국 법무부와 미국 연방거래위원회는 영리화로 인한 이사진의 중복이 경쟁을 저해할 수 있으며, 이는 해당 인사가 사임한 이후에도 그 영향이 계속될 것이라고 보며 부당 행위가 발생할 가능성이 있다고 지적했다.[28] 이 과정에서 상술한 것 이상으로 마이크로소프트와의 갈등이 고조되었는데, OpenAI가 기존 계약과는 상반되는 PBC를 추진하고 새로운 투자를 받는 과정에서 지분율이 크게 희석될 우려로 인해 마이크로소프트 측에서 이를 반대하고 있으며 스타게이트 프로젝트와 소프트뱅크 그룹과의 새로운 유착관계 등 탈마이크로스프트 기조에 반발하며 갈등이 극이 치달았다. 심지어 OpenAI가 언어모델을 넘어 각종 BCB, B2C 분야에 진출하며 둘은 경쟁사가 되었다. 이에 2025년 6월 16일 월스트리트저널은 OpenAI 경영진이 연방경쟁당국에 마이크로소프트를 반경쟁 행위로 고발하는 것까지 검토하고 있다고 보도했다.[29] 올트먼을 해고한 이사회에서 유일하게 남았으며, 그의 복귀 여부를 놓고 이사회를 대표하여 임시 CEO였던 에밋 쉬어와 협상에 돌입했던 것으로 알려졌다.#[의장] 올트먼 해임 사태 이후 사내 임직원들이 테일러를 이사회에 포함시킬 것을 요구하면서 의장으로 합류했다.[31] 컴퓨터과학 분야 초강세로 유명한 카네기 멜런 내에서도 기계학습 분야에서 가장 괄목할만한 연구 실적을 보여주고 있는 교수다.[32] 첫 번째 이사회부터 올트먼과 공동 의장으로 참여했으나, 사내 갈등으로 인해 2018년 2월 퇴임했다. 퇴임 이후 2023년 경쟁사인 xAI를 설립했다.[33] 첫 번째 이사회부터 머스크와 공동 의장으로 참여했다. 2023년 11월 수츠케버, 매카울리, 토너, 디엔젤로가 해임안에 찬성하며 퇴임했다.[34] 첫 번째 이사회부터 참여했으며 이후 이사회 의장에 올랐다. 2023년 11월 수츠케버, 매카울리, 토너, 디엔젤로가 해임안에 찬성하며 퇴임했다.[35] 첫 번째 이사회부터 참여했다. 2023년 11월 올트먼과 브록만 해임 사태에 가담한 것에 대한 책임으로 새로운 이사회를 꾸리기 위해 자진 퇴임했다.[36] OpenAI 출신인 다리오 아모데이가 OpenAI의 영리화에 반대하며 Anthropic을 창업할 당시 퇴임했다. 그의 여동생과 결혼했으며 페이스북 공동창업자인 더스틴 모스코비츠와 함께 효율적 이타주의 단체인 오픈 필란트로피를 설립했을 정도로 안전한 인공지능 발전을 중요시 한다.[37] 초기부터 기부에 동참하고 투자자로 합류했으나, 동종업계 경쟁사인 Inflection AI를 창업하면서 이해관계 상충으로 인해 시리즈 A 펀딩 투자를 받기 직전인 2023년 3월 퇴임했다.[38] 사내 갈등으로 인해 퇴사한 머스크의 측근이다. 관련 사항으로 인해 2023년 3월 퇴임한 것으로 추정된다.[39] 남편이 배우 조셉 고든레빗이다. 2023년 11월 올트먼과 브록만의 해임에 찬성한 이후 투자자들과 임직원들의 반발로 인해 퇴임했다.[40] 2024년 미국 대통령 선거 경선에 참여하기 위해 2023년 7월 퇴임했다. 이후 올트먼 해임 사태 이후 사내 임직원들이 허드의 이사회 복귀를 요구했으나, 합류하진 않았다.[41] 2023년 11월 올트먼과 브록만의 해임에 찬성한 이후 투자자들과 임직원들의 반발로 인해 퇴임했다. 10월에 OpenAI를 공개적으로 비판하는 뉘앙스의 글을 기고하기도 했다.#[42] 일반적인 회사에서는 이사회가 CEO 해임을 결정해도 회사 이미지를 위해서 원만히 CEO 교체하는 것으로 포장한다. 이렇게 공개적으로 해고하는 경우는 이례적이다.[43] 투자자들과 이사회 의장이 발표 직전에 단순 통보식으로 전달을 받았기 때문에 쿠데타라고 보는 시각도 존재한다. 샘 올트먼은 얼마 전까지만 하더라도 이사회에 남아 있었기 때문에 브록만을 제외한 나머지 네 명 중에서 한 명만 반대해도 해임은 절대 벌어질 수 없는 구조였다.[44] 일리야 수츠케버를 비롯하여 사내 임직원들과 마찬가지로 효과적 이타주의 성향이 있는 인물이라고 한다. 따라서 파워싸움에서 사실상 수츠케버 측이 승리한 것으로 여겨졌다.[45] 대표적으로 마이크로소프트의 경우 130억 달러를 투자하며 Azure로 컴퓨팅을 지원해주고 이사회에 간섭하지 않으며 홍보까지 적극적으로 해줬더니, 지나친 영리화를 주도한다며 기업을 성공적으로 이끌고 있던 대표이사가 해임되었고 사전 통보도 해고 1분전에나 받았다. 심지어 OpenAI는 극심한 적자를 겪고 있기 때문에 이익 분배를 통해 투자원금을 회수하려면 한참 걸릴 예정이다. 이러한 상황에서 마이크로소프트가 파트너쉽을 중단시킨다면, 외부로부터 자금을 조달받은 기업인데도 불구하고 영리화보다 안정성을 우선시하며 이미 수백억 달러의 높은 가치평가를 받은 OpenAI에 자금을 대줄 투자자는 있을리 만무하다.[46] 올트먼은 해당 포스트를 공유하며 하트를 도배했다.[47] 인공지능 업계는 Attention Is All You Need를 통해 비교적 최근에 들어서야 본격적으로 개발상의 새로운 변곡점을 맞게 되었기 때문에 넘쳐나는 수요 대비 우수한 전공지식을 갖춘 박사급 인력이 많지 않은 편이며, AI 분야 자체가 활성화된지 얼마 되지 않아 AI 회사에서 수년간 일한 경력자가 타 분야에서의 박사급 인력과 동급으로 취급받는 경우까지 존재하는 등 연구원 한 명 한 명에 대한 의존도가 굉장히 높은 편이다. 현재 업계를 선도하고 있는 인물들 대부분이 Attention Is All You Need 저자들을 비롯해서 구글 혹은 OpenAI에서 빠져나온 인재들일 정도다. 따라서 연구원 유출로 인한 타격은 엄청나며, 이미 수많은 기업들에서 퇴직자들을 스카웃하려고 혈안이 되어 있다.[48] 임직원들은 내부분열과 인력유출로 인해 기업가치가 낮아지며 주식보상과 스톡옵션이 헐값이 되는 사태를 우려했기 때문에 지금까지 안정성과 영리성 사이에서 성공적으로 기업을 이끌어왔던 올트먼과 브록먼의 복귀를 종용했을 가능성이 높다. 이로 인해 직원들조차 초기 취지와는 다르게 본인의 급여만 챙기려는 의도가 너무 다분한 것이 아니냐는 비판이 잇따르고 있다. 실제로 지난 10월 스라이브 캐피탈은 OpenAI의 기업가치를 860억 달러로 책정하며 직원들의 구주를 매각하려 했었다고 한다.# 또한 임직원 770명 중에서 절반 이상이 지난 2년 사이에 입사했기 때문에 이들 입장에서는 창업 초기의 취지가 아니라 세계 최고의 기업에 입사한 것에 가까운 상황이다.[49] 새로운 이사회에는 브렛 테일러, 윌 허드를 사외이사로 넣을 것을 요청했으며, 마이크로소프트는 퇴사할 직원들을 받아들일 준비가 되어있다고 덧붙혔다.[50] 현존 최강의 컴퓨터 과학자 중 하나로 평가받고 있던 수츠케버는 이미지 회복이 불가능할 정도로 큰 비판을 받고 있다. 임시 대표이사도 본인의 입맛에 맛는 인물을 선임했으며 쿠데타를 주도했음에도 내부 반발이 심해지자, 뚝심 없이 갈대 같은 모습만 보여주고 있기 때문이다.[51] OpenAI 이사회는 내부 임직원들의 사퇴 요구 탄원서로 인해 치킨게임을 벌이고 있는 상황이다. 이사회가 사임한다면, 어느 정도 상업성을 갖추면서 사태 발생 일주일 전으로 돌아가 OpenAI 기업은 다시 안정 궤도에 오를 것이다. 이사회가 안정적인 AGI 개발이라는 명목 하에 끝까지 버틴다면, 마이크로소프트가 아직 이행하지 않은 투자금을 전부 회수하고 탄원서에 서명한 임직원들이 실제로 대거 퇴사하는 상황이 발생하여 OpenAI 자체가 와해되는 시나리오도 존재한다. 이사회 구조가 워낙 독립적이기 때문에 앞으로의 행보는 순전히 이들의 몫이다.[52] 퇴사가 발표되자마자 올트먼과 브록먼의 행선지가 마이크로소프트 인공지능 리서치팀으로 향했으며, OpenAI의 기업가치를 인정해주며 직원들의 스톡옵션과 막대한 컴퓨팅 자원을 지원해준 것도 마이크로소프트였기 때문이다. 이번 사건으로 인해 외부 기업의 후속투자 매력도가 떨어졌기 때문에 가시적인 수익을 창출하기 전까지는 계속 마이크로소프트로부터 약속되어 있던 자금을 조달받을 확률이 높다. 즉 올트먼이 대표로 계속 남아있는 한, 그와 가장 끈끈한 관계인 나델라의 마이크로소프트의 영향력은 계속 결속될 예정이다.[53] 참고로 마이크로소프트 같은 빅테크 기업은 각국의 당국으로부터 반독점법 규제가 수시로 들어오기 때문에 지분 49%를 넘기는 건 사실상 불가능하여 후속 투자는 힘들다. 구글, 아마존 같은 여타 빅테크 업체들도 같은 이유로 생성형 인공지능, 언어 모델 분야에서는 대형 인수 없이 지분 투자와 파트너쉽 체결 정도로 투자 규모를 너무 키우지 않고 있다.[54] 저커버그와 친구이며 페이스북 초기에 CTO 였다[55] 이 경우 2024년 3월 OpenAI가 미국 증권거래위원회에 제출한 공시를 통해 올트먼과의 지분 관계가 더 이상 없다는 소식을 알렸다.#[56] Jan Leike. 구글 딥마인드 출신이며 일리야와 더불어 공동으로 수퍼얼라인먼트 팀을 이끌었다.[57] Cullen O‘Keefe.[58] Daniel Kokotajlo.[59] 주식 관리를 위해 자회사로 설립된 Aesta(에스타)라는 업체의 문서에서는 회사가 언제든지 전적인 재량으로 양수인의 OpenAI 지분을 공정시장가에 해당되는 가격으로 상환 및 매각 가능하다고 적혀있다는 내용이 담겨져 있다는 소식이 알려졌다.[60] 현직 직원의 경우 1,000만 달러 한도로 현금화가 가능했으나, 전직 직원은 200만 달러 수준에 불과했다고 한다. 뿐만 아니라 절세를 위해 일부 주식을 자선단체에 기부할 수 있는 기회에 전직 직원들을 배제시켰다.[61] 얀은 퇴사 후 Anthropic의 안전 팀으로 합류했다.[62] Meta의 Superintelligence Lab으로 이직했다.[63] 데이터 수집 제한, AI 콘텐츠 이용 시 신분 증명, AI 콘텐츠 식별 등.\\n\\n크리에이티브 커먼즈 라이선스\\n\\n이 저작물은 CC BY-NC-SA 2.0 KR에 따라 이용할 수 있습니다. (단, 라이선스가 명시된 일부 문서 및 삽화 제외) 기여하신 문서의 저작권은 각 기여자에게 있으며, 각 기여자는 기여하신 부분의 저작권을 갖습니다. 나무위키는 백과사전이 아니며 검증되지 않았거나, 편향적이거나, 잘못된 서술이 있을 수 있습니다. 나무위키는 위키위키입니다. 여러분이 직접 문서를 고칠 수 있으며, 다른 사람의 의견을 원할 경우 직접 토론을 발제할 수 있습니다.\\n\\n더 보기\\n\\n\\n\\n\\n\\nnamu.wiki\\n\\nContáctenos\\n\\nTérminos de uso\\n\\nOperado por umanle S.R.L.\\n\\nHecho con ❤️ en Asunción, República del Paraguay\\n\\nSu zona horaria es GMT\\n\\nImpulsado por the seed engine\\n\\nThis site is protected by reCAPTCHA and the Google Privacy Policy and Terms of Service apply. This site is protected by hCaptcha and its Privacy Policy and Terms of Service apply.')]\n"
     ]
    }
   ],
   "source": [
    "print(data)"
   ]
  },
  {
   "cell_type": "code",
   "execution_count": 8,
   "id": "wB-qrNo4gQDR",
   "metadata": {
    "colab": {
     "base_uri": "https://localhost:8080/"
    },
    "executionInfo": {
     "elapsed": 2927,
     "status": "ok",
     "timestamp": 1728129998163,
     "user": {
      "displayName": "송유이",
      "userId": "04571971252639592032"
     },
     "user_tz": -540
    },
    "id": "wB-qrNo4gQDR",
    "outputId": "0cc70dee-afbc-423f-a2f0-fd85923570e1"
   },
   "outputs": [
    {
     "name": "stdout",
     "output_type": "stream",
     "text": [
      "[Document(metadata={'source': 'https://techcrunch.com/2025/09/17/meta-unveils-new-smart-glasses-with-a-display-and-wristband-controller/'}, page_content='Meta on Wednesday unveiled a new pair of Ray-Ban branded smart glasses with a built-in display for apps, alerts, and directions on the right lens. The smart glasses are controlled by a wristband that picks up on subtle hand gestures, called Meta Neural Band, the same one it unveiled at last year’s Connect as part of its Orion demo.\\n\\nCEO Mark Zuckerberg announced the new product, called Meta Ray-Ban Display, onstage at the company’s annual developer conference, Meta Connect 2025. Unlike Orion, Zuckerberg says this is a product that people can buy in a couple of weeks, starting September 30, and they’ll cost $799.\\n\\nThis is Meta’s latest attempt to ship a pair of consumer smart glasses that can handle many of the tasks users traditionally do on a smartphone. For years, Meta has been forced to reach users through its competitors’ devices, namely those sold by Google and Apple. While Meta has invested billions in virtual reality headsets, AI-powered smart glasses now seem like the most promising way for the company to connect with users on its own hardware.\\n\\nWith the Meta Ray-Ban Display, Meta aims to build off the success of its original Ray-Ban Meta smart glasses, which the company has sold millions of pairs of with its eyewear partner, EssilorLuxottica. Much like Ray-Ban Meta, the Meta Ray-Ban Display comes equipped with an on-board AI assistant, as well as cameras, speakers, and microphones. The glasses let users connect to the cloud to access the internet and social media apps.\\n\\nMeta says the display enables users to do much more with their smart glasses. Users are capable of displaying Meta apps like Instagram, WhatsApp, and Facebook. Users can also view directions and see live translations in the smart glasses’ display.\\n\\nThe Neural Band that ships alongside the device looks similar to a Fitbit, but without a screen, and allows users to navigate apps with small hand movements. Zuckerberg said onstage that the Meta Neural Band has 18 hours of battery life and is water resistant.\\n\\nThe device uses electromyography (EMG) to pick up on signals sent between your brain and your hand when performing a gesture. Meta is betting this interface will be a new way users can control their devices.\\n\\nTechcrunch event\\n\\nJoin 10k+ tech and VC leaders for growth and connections at Disrupt 2025\\n\\nNetflix, Box, a16z, ElevenLabs, Wayve, Sequoia Capital, Elad Gil — just some of the 250+ heavy hitters leading 200+ sessions designed to deliver the insights that fuel startup growth and sharpen your edge. Don’t miss the 20th anniversary of TechCrunch, and a chance to learn from the top voices in tech. Grab your ticket before Sept 26 to save up to $668.\\n\\nJoin 10k+ tech and VC leaders for growth and connections at Disrupt 2025\\n\\nNetflix, Box, a16z, ElevenLabs, Wayve, Sequoia Capital, Elad Gil — just some of the 250+ heavy hitters leading 200+ sessions designed to deliver the insights that fuel startup growth and sharpen your edge. Don’t miss the 20th anniversary of TechCrunch, and a chance to learn from the top voices in tech. Grab your ticket before Sept 26 to save up to $668.\\n\\nSan Francisco | October 27-29, 2025\\n\\nREGISTER NOW\\n\\nEarlier this week, a video leaked of Meta’s latest smart glasses. CNBC and Bloomberg previously reported that the smart glasses, which were internally codenamed Hypernova, would be unveiled at this year’s Connect conference.\\n\\nIt’s worth noting that Meta Ray-Ban Display are far less capable than the Orion smart glasses Meta showed off at Connect 2024. That device featured augmented reality lenses and eye tracking, while this pair uses a much simpler display. It may be years before Meta ever sells Orion.\\n\\nStill, Meta is hoping it can win the smart glasses race by being first to market with a real product. However, it seems likely that Google and Apple will launch smart glasses of their own in the years to come. Those devices will undoubtedly be able to integrate into Google and Apple’s respective operating systems, giving them a significant leg up over Meta.\\n\\nTopics\\n\\nAI, Gadgets, Meta, meta connect, SMART Glasses\\n\\nMaxwell Zeff\\n\\nMaxwell Zeff\\n\\nSenior AI Reporter\\n\\nMaxwell Zeff is a senior reporter at TechCrunch specializing in AI. Previously with Gizmodo, Bloomberg, and MSNBC, Zeff has covered the rise of AI and the Silicon Valley Bank crisis. He is based in San Francisco. When not reporting, he can be found hiking, biking, and exploring the Bay Area’s food scene.\\n\\nYou can contact or verify outreach from Maxwell by emailing maxwell.zeff@techcrunch.com or via encrypted message at mzeff.88 on Signal.\\n\\nView Bio\\n\\nEvent Logo\\n\\nOctober 27-29, 2025\\n\\nSan Francisco\\n\\nFounders: land your investor and sharpen your pitch. Investors: discover your next breakout startup. Innovators: claim a front-row seat to the future. Join 10,000+ tech leaders at the epicenter of innovation. Register now and save up to $668. Regular Bird rates end September 26\\n\\nRegister Now\\n\\nMost Popular\\n\\nMeta unveils new smart glasses with a display and wristband controller\\n\\nMaxwell Zeff\\n\\nThe 9 most sought-after startups from YC Demo Day\\n\\nMarina Temkin\\n\\nApple’s iOS 26 with the new Liquid Glass design is now available to everyone\\n\\nIvan Mehta\\n\\nOpenAI upgrades Codex with a new version of GPT-5\\n\\nMaxwell Zeff\\n\\nSpotify will now let free users pick and play tracks\\n\\nSarah Perez\\n\\nVibe coding has turned senior devs into ‘AI babysitters,’ but they say it’s worth it\\n\\nDominic-Madori Davis\\n\\n‘Selling coffee beans to Starbucks’ — how the AI boom could leave AI’s biggest companies behind\\n\\nRussell Brandom')]\n"
     ]
    }
   ],
   "source": [
    "from langchain_community.document_loaders import UnstructuredURLLoader\n",
    "\n",
    "urls = [\n",
    "    \"https://techcrunch.com/2025/09/17/meta-unveils-new-smart-glasses-with-a-display-and-wristband-controller/\",\n",
    "]\n",
    "loader = UnstructuredURLLoader(urls=urls)\n",
    "data = loader.load()\n",
    "print(data)  # 데이터를 출력하여 확인"
   ]
  },
  {
   "cell_type": "code",
   "execution_count": 9,
   "id": "b8b7271e",
   "metadata": {
    "id": "b8b7271e"
   },
   "outputs": [],
   "source": [
    "news_raw_text = \"\"\n",
    "\n",
    "for el in data:\n",
    "    news_raw_text += el.page_content + \" \""
   ]
  },
  {
   "cell_type": "code",
   "execution_count": 10,
   "id": "27304803",
   "metadata": {
    "id": "27304803"
   },
   "outputs": [
    {
     "name": "stdout",
     "output_type": "stream",
     "text": [
      "Meta on Wednesday unveiled a new pair of Ray-Ban branded smart glasses with a built-in display for apps, alerts, and directions on the right lens. The smart glasses are controlled by a wristband that picks up on subtle hand gestures, called Meta Neural Band, the same one it unveiled at last year’s Connect as part of its Orion demo.\n",
      "\n",
      "CEO Mark Zuckerberg announced the new product, called Meta Ray-Ban Display, onstage at the company’s annual developer conference, Meta Connect 2025. Unlike Orion, Zuckerberg says this is a product that people can buy in a couple of weeks, starting September 30, and they’ll cost $799.\n",
      "\n",
      "This is Meta’s latest attempt to ship a pair of consumer smart glasses that can handle many of the tasks users traditionally do on a smartphone. For years, Meta has been forced to reach users through its competitors’ devices, namely those sold by Google and Apple. While Meta has invested billions in virtual reality headsets, AI-powered smart glasses now seem like the most promising way for the company to connect with users on its own hardware.\n",
      "\n",
      "With the Meta Ray-Ban Display, Meta aims to build off the success of its original Ray-Ban Meta smart glasses, which the company has sold millions of pairs of with its eyewear partner, EssilorLuxottica. Much like Ray-Ban Meta, the Meta Ray-Ban Display comes equipped with an on-board AI assistant, as well as cameras, speakers, and microphones. The glasses let users connect to the cloud to access the internet and social media apps.\n",
      "\n",
      "Meta says the display enables users to do much more with their smart glasses. Users are capable of displaying Meta apps like Instagram, WhatsApp, and Facebook. Users can also view directions and see live translations in the smart glasses’ display.\n",
      "\n",
      "The Neural Band that ships alongside the device looks similar to a Fitbit, but without a screen, and allows users to navigate apps with small hand movements. Zuckerberg said onstage that the Meta Neural Band has 18 hours of battery life and is water resistant.\n",
      "\n",
      "The device uses electromyography (EMG) to pick up on signals sent between your brain and your hand when performing a gesture. Meta is betting this interface will be a new way users can control their devices.\n",
      "\n",
      "Techcrunch event\n",
      "\n",
      "Join 10k+ tech and VC leaders for growth and connections at Disrupt 2025\n",
      "\n",
      "Netflix, Box, a16z, ElevenLabs, Wayve, Sequoia Capital, Elad Gil — just some of the 250+ heavy hitters leading 200+ sessions designed to deliver the insights that fuel startup growth and sharpen your edge. Don’t miss the 20th anniversary of TechCrunch, and a chance to learn from the top voices in tech. Grab your ticket before Sept 26 to save up to $668.\n",
      "\n",
      "Join 10k+ tech and VC leaders for growth and connections at Disrupt 2025\n",
      "\n",
      "Netflix, Box, a16z, ElevenLabs, Wayve, Sequoia Capital, Elad Gil — just some of the 250+ heavy hitters leading 200+ sessions designed to deliver the insights that fuel startup growth and sharpen your edge. Don’t miss the 20th anniversary of TechCrunch, and a chance to learn from the top voices in tech. Grab your ticket before Sept 26 to save up to $668.\n",
      "\n",
      "San Francisco | October 27-29, 2025\n",
      "\n",
      "REGISTER NOW\n",
      "\n",
      "Earlier this week, a video leaked of Meta’s latest smart glasses. CNBC and Bloomberg previously reported that the smart glasses, which were internally codenamed Hypernova, would be unveiled at this year’s Connect conference.\n",
      "\n",
      "It’s worth noting that Meta Ray-Ban Display are far less capable than the Orion smart glasses Meta showed off at Connect 2024. That device featured augmented reality lenses and eye tracking, while this pair uses a much simpler display. It may be years before Meta ever sells Orion.\n",
      "\n",
      "Still, Meta is hoping it can win the smart glasses race by being first to market with a real product. However, it seems likely that Google and Apple will launch smart glasses of their own in the years to come. Those devices will undoubtedly be able to integrate into Google and Apple’s respective operating systems, giving them a significant leg up over Meta.\n",
      "\n",
      "Topics\n",
      "\n",
      "AI, Gadgets, Meta, meta connect, SMART Glasses\n",
      "\n",
      "Maxwell Zeff\n",
      "\n",
      "Maxwell Zeff\n",
      "\n",
      "Senior AI Reporter\n",
      "\n",
      "Maxwell Zeff is a senior reporter at TechCrunch specializing in AI. Previously with Gizmodo, Bloomberg, and MSNBC, Zeff has covered the rise of AI and the Silicon Valley Bank crisis. He is based in San Francisco. When not reporting, he can be found hiking, biking, and exploring the Bay Area’s food scene.\n",
      "\n",
      "You can contact or verify outreach from Maxwell by emailing maxwell.zeff@techcrunch.com or via encrypted message at mzeff.88 on Signal.\n",
      "\n",
      "View Bio\n",
      "\n",
      "Event Logo\n",
      "\n",
      "October 27-29, 2025\n",
      "\n",
      "San Francisco\n",
      "\n",
      "Founders: land your investor and sharpen your pitch. Investors: discover your next breakout startup. Innovators: claim a front-row seat to the future. Join 10,000+ tech leaders at the epicenter of innovation. Register now and save up to $668. Regular Bird rates end September 26\n",
      "\n",
      "Register Now\n",
      "\n",
      "Most Popular\n",
      "\n",
      "Meta unveils new smart glasses with a display and wristband controller\n",
      "\n",
      "Maxwell Zeff\n",
      "\n",
      "The 9 most sought-after startups from YC Demo Day\n",
      "\n",
      "Marina Temkin\n",
      "\n",
      "Apple’s iOS 26 with the new Liquid Glass design is now available to everyone\n",
      "\n",
      "Ivan Mehta\n",
      "\n",
      "OpenAI upgrades Codex with a new version of GPT-5\n",
      "\n",
      "Maxwell Zeff\n",
      "\n",
      "Spotify will now let free users pick and play tracks\n",
      "\n",
      "Sarah Perez\n",
      "\n",
      "Vibe coding has turned senior devs into ‘AI babysitters,’ but they say it’s worth it\n",
      "\n",
      "Dominic-Madori Davis\n",
      "\n",
      "‘Selling coffee beans to Starbucks’ — how the AI boom could leave AI’s biggest companies behind\n",
      "\n",
      "Russell Brandom \n"
     ]
    }
   ],
   "source": [
    "print(news_raw_text)"
   ]
  },
  {
   "cell_type": "markdown",
   "id": "45e941e9",
   "metadata": {
    "id": "45e941e9"
   },
   "source": [
    "## 영어 뉴스를 우선 한글로 번역해봅니다.\n",
    "- ChatOpenAI에게 prompt를 넣어 번역해보기"
   ]
  },
  {
   "cell_type": "markdown",
   "id": "572c5a47",
   "metadata": {
    "id": "572c5a47"
   },
   "source": [
    "## 이제 뉴스에서 중요한 내용을 요약해봅니다.\n",
    "- qa_bot 함수"
   ]
  },
  {
   "cell_type": "code",
   "execution_count": 12,
   "id": "ef76c60a",
   "metadata": {
    "id": "ef76c60a"
   },
   "outputs": [],
   "source": [
    "from langchain.chat_models import ChatOpenAI\n",
    "from langchain.chains.question_answering import load_qa_chain\n",
    "from langchain.chains import AnalyzeDocumentChain\n",
    "from langchain.callbacks import get_openai_callback\n",
    "import FinanceDataReader as fdr\n",
    "import time\n",
    "\n",
    "\n",
    "def qa_bot(\n",
    "    source, question, model=\"gpt-4o-mini\", temperature=0, chain_type=\"map_reduce\"\n",
    "):\n",
    "\n",
    "    exchange_rate = fdr.DataReader(\"USD/KRW\").iloc[-1, 0]\n",
    "\n",
    "    model = ChatOpenAI(model=model, temperature=0)\n",
    "\n",
    "    qa_chain = load_qa_chain(model, chain_type=chain_type)\n",
    "    qa_document_chain = AnalyzeDocumentChain(combine_docs_chain=qa_chain)\n",
    "\n",
    "    with get_openai_callback() as cb:\n",
    "\n",
    "        start = time.time()\n",
    "        print(qa_document_chain.run(input_document=source, question=question))\n",
    "        end = time.time()\n",
    "\n",
    "        print(f\"Total Tokens: {cb.total_tokens}\")\n",
    "        print(f\"Prompt Tokens: {cb.prompt_tokens}\")\n",
    "        print(f\"Completion Tokens: {cb.completion_tokens}\")\n",
    "        print(\n",
    "            f\"Total Cost (USD): {cb.total_cost:.2f}$, Total Cost (Won): {cb.total_cost*exchange_rate:.2f}₩\"\n",
    "        )\n",
    "        print(f\"걸린 시간: {end-start:.2f}초\")\n",
    "\n",
    "    return qa_document_chain"
   ]
  },
  {
   "cell_type": "markdown",
   "id": "08e62a2f",
   "metadata": {
    "id": "08e62a2f"
   },
   "source": [
    "### Option 1: 영어 뉴스를 바로 한글로 요약합니다."
   ]
  },
  {
   "cell_type": "code",
   "execution_count": 13,
   "id": "33e6323c",
   "metadata": {
    "id": "33e6323c"
   },
   "outputs": [
    {
     "name": "stderr",
     "output_type": "stream",
     "text": [
      "C:\\Users\\glory\\AppData\\Local\\Temp\\ipykernel_21020\\2251603582.py:15: LangChainDeprecationWarning: The class `ChatOpenAI` was deprecated in LangChain 0.0.10 and will be removed in 1.0. An updated version of the class exists in the :class:`~langchain-openai package and should be used instead. To use it run `pip install -U :class:`~langchain-openai` and import as `from :class:`~langchain_openai import ChatOpenAI``.\n",
      "  model = ChatOpenAI(model=model, temperature=0)\n",
      "C:\\Users\\glory\\AppData\\Local\\Temp\\ipykernel_21020\\2251603582.py:17: LangChainDeprecationWarning: This class is deprecated. See the following migration guides for replacements based on `chain_type`:\n",
      "stuff: https://python.langchain.com/docs/versions/migrating_chains/stuff_docs_chain\n",
      "map_reduce: https://python.langchain.com/docs/versions/migrating_chains/map_reduce_chain\n",
      "refine: https://python.langchain.com/docs/versions/migrating_chains/refine_chain\n",
      "map_rerank: https://python.langchain.com/docs/versions/migrating_chains/map_rerank_docs_chain\n",
      "\n",
      "See also guides on retrieval and question-answering here: https://python.langchain.com/docs/how_to/#qa-with-rag\n",
      "  qa_chain = load_qa_chain(model, chain_type=chain_type)\n",
      "C:\\Users\\glory\\AppData\\Local\\Temp\\ipykernel_21020\\2251603582.py:18: LangChainDeprecationWarning: The class `AnalyzeDocumentChain` was deprecated in LangChain 0.2.7 and will be removed in 1.0. Use :meth:`~example in API reference with more detail: https://api.python.langchain.com/en/latest/chains/langchain.chains.combine_documents.base.AnalyzeDocumentChain.html` instead.\n",
      "  qa_document_chain = AnalyzeDocumentChain(combine_docs_chain=qa_chain)\n",
      "C:\\Users\\glory\\AppData\\Local\\Temp\\ipykernel_21020\\2251603582.py:23: LangChainDeprecationWarning: The method `Chain.run` was deprecated in langchain 0.1.0 and will be removed in 1.0. Use :meth:`~invoke` instead.\n",
      "  print(qa_document_chain.run(input_document=source, question=question))\n"
     ]
    },
    {
     "name": "stdout",
     "output_type": "stream",
     "text": [
      "Meta는 799달러에 새로운 스마트 안경인 Meta Ray-Ban Display를 발표했습니다. 이 안경은 오른쪽 렌즈에 앱, 알림, 방향을 표시하는 내장 디스플레이를 갖추고 있으며, 손 제스처로 제어되는 Meta Neural Band와 함께 제공됩니다. 사용자는 Instagram, WhatsApp, Facebook 등의 앱에 접근할 수 있고, 방향 안내 및 실시간 번역 기능도 지원합니다. Meta는 스마트 안경 시장에서 선두를 차지할 계획이지만, Google과 Apple도 향후 경쟁 제품을 출시할 가능성이 있습니다.\n",
      "Total Tokens: 1883\n",
      "Prompt Tokens: 1574\n",
      "Completion Tokens: 309\n",
      "Total Cost (USD): 0.00$, Total Cost (Won): 0.58₩\n",
      "걸린 시간: 12.06초\n"
     ]
    }
   ],
   "source": [
    "result = qa_bot(news_raw_text, \"내용을 300자 이내로 작성\")"
   ]
  },
  {
   "cell_type": "markdown",
   "id": "422c057e",
   "metadata": {
    "id": "422c057e"
   },
   "source": [
    "### Option 2: 번역된 한글 뉴스에 대해 요약합니다."
   ]
  },
  {
   "cell_type": "code",
   "execution_count": 14,
   "id": "401336ac",
   "metadata": {
    "id": "401336ac"
   },
   "outputs": [
    {
     "name": "stdout",
     "output_type": "stream",
     "text": [
      "메타는 수요일에 앱, 알림 및 방향을 표시할 수 있는 내장 디스플레이가 있는 새로운 레이밴 스마트 안경을 공개했습니다. 이 안경은 손 제스처로 제어되는 메타 뉴럴 밴드로 작동하며, 가격은 799달러입니다. 사용자는 인스타그램, 왓츠앱, 페이스북과 같은 메타 앱을 사용할 수 있으며, 방향 안내 및 실시간 번역도 가능합니다. 메타는 스마트 안경 시장에서 선두를 차지하고자 하지만, 구글과 애플이 향후 출시할 가능성이 높아 경쟁이 치열할 것으로 보입니다.\n",
      "Total Tokens: 1954\n",
      "Prompt Tokens: 1612\n",
      "Completion Tokens: 342\n",
      "Total Cost (USD): 0.00$, Total Cost (Won): 0.62₩\n",
      "걸린 시간: 8.06초\n"
     ]
    }
   ],
   "source": [
    "korean_result = qa_bot(news_raw_text, \"내용을 한글로 번역하고, 300자 이내로 작성\")"
   ]
  },
  {
   "cell_type": "code",
   "execution_count": null,
   "id": "a83e4c92",
   "metadata": {
    "id": "a83e4c92"
   },
   "outputs": [],
   "source": [
    "# print(result)"
   ]
  }
 ],
 "metadata": {
  "colab": {
   "provenance": []
  },
  "kernelspec": {
   "display_name": "Python 3 (ipykernel)",
   "language": "python",
   "name": "python3"
  },
  "language_info": {
   "codemirror_mode": {
    "name": "ipython",
    "version": 3
   },
   "file_extension": ".py",
   "mimetype": "text/x-python",
   "name": "python",
   "nbconvert_exporter": "python",
   "pygments_lexer": "ipython3",
   "version": "3.12.3"
  }
 },
 "nbformat": 4,
 "nbformat_minor": 5
}
