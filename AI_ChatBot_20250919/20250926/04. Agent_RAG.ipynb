{
  "cells": [
    {
      "cell_type": "markdown",
      "id": "d904ebb6",
      "metadata": {
        "id": "d904ebb6"
      },
      "source": [
        "### Agentic RAG\n",
        " : 질문에 따라 문서를 검색하여 답변(RAG)하거나, 인터넷 검색 도구(SerpAPI Search:)를 활용하여 답변하는 에이전트\n",
        "\n",
        "**참고**\n",
        "\n",
        "- **Agentic RAG**  : RAG 를 수행하되, Agent 를 활용하여 RAG 를 수행하는 에이전트\n",
        "\n",
        "LangChain에서는 에이전트가 여러 툴을 조합하여 복잡한 문제를 해결하는 능력을 가지고 있기 때문에, Tool은 에이전트가 활용할 수 있는 기능적 요소\n",
        "Agent 가 활용할 도구를 정의하여 Agent가 추론(reasoning)을 수행할 때 활용하도록 만들 수 있음\n",
        "\n",
        "-  **도구(Tools)** :특정 작업(계산, 검색, API 호출 등)을 수행하는 도구\n",
        "- **에이전트** : 사용자의 요청을 분석하고 적절한 툴을 사용하여 문제를 해결하는 주체\n"
      ]
    },
    {
      "cell_type": "markdown",
      "id": "27328084",
      "metadata": {
        "id": "27328084"
      },
      "source": [
        "### 웹 검색도구: SerpAPI\n",
        "- [SerpAPI API 발급받기](https://serpapi.com/)\n",
        "\n",
        "`.env`에 환경변수 등록\n",
        "\n",
        "- `SERPAPI_API_KEY=발급 받은 SerpAPI API KEY 입력`"
      ]
    },
    {
      "cell_type": "code",
      "execution_count": 1,
      "id": "3e7a86d9",
      "metadata": {
        "collapsed": true,
        "id": "3e7a86d9"
      },
      "outputs": [
        {
          "name": "stdout",
          "output_type": "stream",
          "text": [
            "^C\n"
          ]
        }
      ],
      "source": [
        "# 필요한 패키지 설치\n",
        "!pip install -Uq python-dotenv langchain_teddynote langchain_openai langchain langchain-community faiss-cpu pypdf google-search-results"
      ]
    },
    {
      "cell_type": "code",
      "execution_count": 2,
      "id": "c0bce178",
      "metadata": {
        "id": "c0bce178"
      },
      "outputs": [
        {
          "data": {
            "text/plain": [
              "True"
            ]
          },
          "execution_count": 2,
          "metadata": {},
          "output_type": "execute_result"
        }
      ],
      "source": [
        "# API 키를 환경변수로 관리하기 위한 설정 파일\n",
        "from dotenv import load_dotenv\n",
        "\n",
        "# API 키 정보 로드\n",
        "load_dotenv(\"./.env\", override=True)"
      ]
    },
    {
      "cell_type": "markdown",
      "id": "2e659b03",
      "metadata": {
        "id": "2e659b03"
      },
      "source": [
        "`search.run` 함수는 주어진 문자열에 대한 검색을 실행\n",
        "\n",
        "`run()` 함수에 검색하고 싶은 검색어를 넣어 검색을 수행\n"
      ]
    },
    {
      "cell_type": "code",
      "execution_count": 8,
      "id": "7d65db4b",
      "metadata": {
        "id": "7d65db4b"
      },
      "outputs": [
        {
          "name": "stdout",
          "output_type": "stream",
          "text": [
            "Requirement already satisfied: google-search-results in c:\\python312\\lib\\site-packages (2.4.2)\n",
            "Requirement already satisfied: requests in c:\\python312\\lib\\site-packages (from google-search-results) (2.32.5)\n",
            "Requirement already satisfied: charset_normalizer<4,>=2 in c:\\python312\\lib\\site-packages (from requests->google-search-results) (3.4.0)\n",
            "Requirement already satisfied: idna<4,>=2.5 in c:\\python312\\lib\\site-packages (from requests->google-search-results) (3.10)\n",
            "Requirement already satisfied: urllib3<3,>=1.21.1 in c:\\python312\\lib\\site-packages (from requests->google-search-results) (2.2.3)\n",
            "Requirement already satisfied: certifi>=2017.4.17 in c:\\python312\\lib\\site-packages (from requests->google-search-results) (2024.8.30)\n"
          ]
        },
        {
          "name": "stderr",
          "output_type": "stream",
          "text": [
            "WARNING: Ignoring invalid distribution ~ip (C:\\Python312\\Lib\\site-packages)\n",
            "WARNING: Ignoring invalid distribution ~ip (C:\\Python312\\Lib\\site-packages)\n",
            "WARNING: Ignoring invalid distribution ~ip (C:\\Python312\\Lib\\site-packages)\n",
            "\n",
            "[notice] A new release of pip is available: 24.2 -> 25.2\n",
            "[notice] To update, run: python.exe -m pip install --upgrade pip\n"
          ]
        },
        {
          "data": {
            "text/plain": [
              "'Friday, September 26, 2025'"
            ]
          },
          "execution_count": 8,
          "metadata": {},
          "output_type": "execute_result"
        }
      ],
      "source": [
        "!pip install google-search-results\n",
        "from langchain_community.utilities import SerpAPIWrapper\n",
        "# 검색 결과\n",
        "search = SerpAPIWrapper()\n",
        "search.run(\"오늘 날짜를 알려주세요\")"
      ]
    },
    {
      "cell_type": "code",
      "execution_count": 9,
      "id": "b49cb700",
      "metadata": {
        "id": "b49cb700"
      },
      "outputs": [],
      "source": [
        "from langchain_community.utilities import SerpAPIWrapper\n",
        "\n",
        "def search_web():\n",
        "    search = SerpAPIWrapper()\n",
        "\n",
        "    def run_with_source(query: str) -> str:\n",
        "        results = search.results(query)\n",
        "        organic = results.get(\"organic_results\", [])\n",
        "        formatted = []\n",
        "        for r in organic[:5]:\n",
        "            title = r.get(\"title\")\n",
        "            link = r.get(\"link\")\n",
        "            source = r.get(\"source\")\n",
        "            snippet = r.get(\"snippet\")  # ✅ snippet 추가\n",
        "            if link:\n",
        "                formatted.append(f\"- [{title}]({link}) ({source})\\n  {snippet}\")\n",
        "            else:\n",
        "                formatted.append(f\"- {title} (출처: {source})\\n  {snippet}\")\n",
        "        return \"\\n\".join(formatted) if formatted else \"검색 결과가 없습니다.\"\n",
        "\n",
        "    return Tool(\n",
        "        name=\"web_search\",\n",
        "        func=run_with_source,\n",
        "        description=\"실시간 뉴스 및 웹 정보를 검색할 때 사용합니다. 결과는 제목+출처+링크+간단요약(snippet) 형태로 반환됩니다.\"\n",
        "    )"
      ]
    },
    {
      "cell_type": "markdown",
      "id": "eb5d738f",
      "metadata": {
        "id": "eb5d738f"
      },
      "source": [
        "### 문서 기반 문서 검색 도구: Retriever\n",
        "\n",
        "내가 넣은 문서에 대해 조회를 수행할 retriever도 생성\n",
        "\n",
        "**실습에 활용한 문서**\n",
        "\n",
        "초보 투자자를 위한 증권과 투자 따라잡기.pdf"
      ]
    },
    {
      "cell_type": "code",
      "execution_count": 10,
      "id": "68f2a3c9",
      "metadata": {
        "id": "68f2a3c9"
      },
      "outputs": [
        {
          "name": "stderr",
          "output_type": "stream",
          "text": [
            "c:\\Python312\\Lib\\site-packages\\tqdm\\auto.py:21: TqdmWarning: IProgress not found. Please update jupyter and ipywidgets. See https://ipywidgets.readthedocs.io/en/stable/user_install.html\n",
            "  from .autonotebook import tqdm as notebook_tqdm\n"
          ]
        }
      ],
      "source": [
        "from langchain.text_splitter import RecursiveCharacterTextSplitter\n",
        "from langchain_community.vectorstores import FAISS\n",
        "from langchain_openai import OpenAIEmbeddings\n",
        "from langchain.document_loaders import PyPDFLoader\n",
        "\n",
        "# PDF 파일 로드. 파일의 경로 입력\n",
        "loader = PyPDFLoader(\"./초보 투자자를 위한 증권과 투자 따라잡기.pdf\")\n",
        "\n",
        "# 텍스트 분할기를 사용하여 문서를 분할\n",
        "text_splitter = RecursiveCharacterTextSplitter(chunk_size=1000, chunk_overlap=100)\n",
        "\n",
        "# 문서를 로드하고 분할\n",
        "split_docs = loader.load_and_split(text_splitter)\n",
        "\n",
        "# VectorStore를 생성\n",
        "vector = FAISS.from_documents(split_docs, OpenAIEmbeddings())\n",
        "\n",
        "# Retriever를 생성\n",
        "retriever = vector.as_retriever()"
      ]
    },
    {
      "cell_type": "markdown",
      "id": "458a2b03",
      "metadata": {
        "id": "458a2b03"
      },
      "source": [
        " `retriever` 객체의 `invoke()` 를 사용하여 사용자의 질문에 대한 가장 **관련성 높은 문서** 를 찾는 데 사용\n"
      ]
    },
    {
      "cell_type": "code",
      "execution_count": 11,
      "id": "2dab83e0",
      "metadata": {
        "id": "2dab83e0"
      },
      "outputs": [
        {
          "data": {
            "text/plain": [
              "[Document(id='0fb37a3a-23d1-4aff-9253-79afcef702a8', metadata={'producer': 'iLovePDF', 'creator': 'Adobe InDesign CC 14.0 (Macintosh)', 'creationdate': '2022-02-03T13:49:31+09:00', 'trapped': '/False', 'moddate': '2024-06-18T14:13:06+00:00', 'source': './초보 투자자를 위한 증권과 투자 따라잡기.pdf', 'total_pages': 73, 'page': 27, 'page_label': '28'}, page_content='채권시장의 이해초보 투자자를 위한 증권과 투자 따라잡기052 053\\n채권(bond)이란 주식회사뿐만 아니라 정부, 지방자치단체, 특별법인 \\n등이 일반투자자에게 자금을 조달하고 조달한 자금에 대하여 일정기간 \\n동안 정기적으로 이자를 지급하고 만기 시에는 원금을 상환한다는 조건\\n을 명시한 일종의 차용증서를 유가증권화한 것입니다. 하지만 채권이 차\\n용증서와 다른 점은 유통시장을 통해 양도가 자유롭다는 것이 다릅니다. \\n특히, 주식회사는 주식을 통해 대규모 자기자본을 조달할 수 있을 뿐만 아\\n니라 채권을 통해 장기자금을 대규모로 차입할 수 있어 거액의 자금조달이 \\n용이합니다.\\n채권은 발행 시에 향후 지급해야 할 이자와 원금이 확정되거나 또는 그 \\n기준이 확정되기 때문에 투자원금에 대한 수익은 금리수준의 변동에 의한 것 \\n이외에는 발행 시에 이미 결정되어 있어 확정소득 증권의 성격을 가지고 \\n있습니다. 채권은 이자지급 증권으로 주식과 달리 발행자는 수익의 발생\\n여부와 관계없이 이자를 지급하여야 합니다. 그리고 채권은 원리금의 상환\\n기간이 사전에 정해져 있는 기한부 증권이기도 합니다.\\n1│채권의 개념\\n채권의 개념과 특징\\n채권은 주식과 달리 내용이나 형식이 다양하기 때문에 그 종류는 많으나 \\n일반적으로 발행주체, 이자지급 방법, 이자율 변동여부, 보증유무, 만기 등에 \\n따라 분류됩니다.\\n\\u2002발행주체에 따른 분류\\n발행주체에 따라 채권은 국채, 지방채, 특수채 및 회사채 등으로 분류\\n할 수 있습니다. 국채란 국가가 발행하는 채권으로 대체로 특수한 목적하\\n에 발행됩니다. 대표적인 국채로는 국고채권이 있으며, 국민들의 주택자금 \\n지원을 위한 국민주택채권 1 ‧ 2종, 외화자금의 수급조절을 위한 외국환평\\n형기금채권 등이 있습니다. 지방채는 지방자치단체에서 발행하는 채권으\\n로 지역개발공채, 지방도시철도채권 등이 있습니다. 특수채는 특별법에 의\\n하여 설립된 특별법인이 발행한 채권으로 토지개발채, 전력공사채 등이 있\\n으며, 금융특수채는 발행주체가 금융기관인 채권으로 통화안정증권, 산'),\n",
              " Document(id='fce17733-17df-4ca1-b512-f77fc57a82f5', metadata={'producer': 'iLovePDF', 'creator': 'Adobe InDesign CC 14.0 (Macintosh)', 'creationdate': '2022-02-03T13:49:31+09:00', 'trapped': '/False', 'moddate': '2024-06-18T14:13:06+00:00', 'source': './초보 투자자를 위한 증권과 투자 따라잡기.pdf', 'total_pages': 73, 'page': 29, 'page_label': '30'}, page_content='채권시장의 이해초보 투자자를 위한 증권과 투자 따라잡기056 057\\n\\u2002기타 채권\\n1) 주식관련채권\\n채권의 보유자에게 일정한 시기에 일정한 가격으로 발행기업의 증권을 \\n매입하거나, 혹은 다른 형태의 증권과 교환할 수 있는 권리(option)가 부여된 \\n채권입니다. 신주인수권부사채(BW; bond with warrant) 는 채권 보유자\\n에게 일정요건이 충족될 때 일정수 또는 금액에 해당하는 신주를 매입할 \\n수 있는 권리가 부여된 채권입니다. 이에 반해 전환사채(CB; convertible \\nbond)는 채권에서 발행회사의 주식으로 전환할 수 있는 권리가 부여된 채\\n권입니다. 신주인수권부사채나 전환사채는 보통사채에 비해 발행금리가 \\n낮아 기업의 입장에서는 적은 비용으로 자금을 조달할 수 있는 장점이 있\\n습니다. 투자자의 입장에서는 주가상승 시 매매차익을 올릴 수 있다는 투\\n자의 매력이 있습니다. 교환사채(EB; exchange bond)는 채권을 발행한 회\\n사가 보유하고 있는 다른 회사의 주식이나 유가증권과 교환을 청구할 수 \\n있는 권리가 부여된 채권입니다.\\n2) 자산유동화증권(ABS; asset backed securities)\\n금융기관이나 기업 등이 보유하고 있는 자산을 담보로 발행하여 제3자\\n에게 매각하는 증권을 말합니다. 초기 형태로는 주택저당대출을 대상으로 \\n한 주택저당담보부채권(MBS; mortgage backed securities) 이 있습니다. \\n이후 다른 자산에까지 확대 적용되면서 최근에는 자동차할부금융‧ 신용\\n카드대출 ‧ 리스대출 등을 대상으로 한 담보채권을 포함합니다.\\n3) 국제채(international bond)\\n국내에서 발행되는 국내채에 대응되는 개념으로 외국에서 유통되거나 \\n외화로 표시되어 있는 채권을 지칭합니다. 국제채는 외국채(foreign bond)\\n와 유로채(euro bond)로 나누어집니다. 외국채는 발행주체의 자국이 아닌 \\n특정 외국에서 발행국가의 통화로 발행되고 유통되는 국제채를 가리킵니'),\n",
              " Document(id='a2a680bc-aaa2-4d7a-8fe5-0c0b20f8dba0', metadata={'producer': 'iLovePDF', 'creator': 'Adobe InDesign CC 14.0 (Macintosh)', 'creationdate': '2022-02-03T13:49:31+09:00', 'trapped': '/False', 'moddate': '2024-06-18T14:13:06+00:00', 'source': './초보 투자자를 위한 증권과 투자 따라잡기.pdf', 'total_pages': 73, 'page': 3, 'page_label': '4'}, page_content='초보 투자자를 위한 증권과 투자 따라잡기\\n1장\\u2002금융시장의 개념과 종류 \\n2장\\u2002증권시장의 구성 및 기능\\n3장\\u2002한국거래소\\n증권시장의\\n이해\\n1부'),\n",
              " Document(id='8746aaf6-cdb1-477d-b1b5-9ddf3ed725ab', metadata={'producer': 'iLovePDF', 'creator': 'Adobe InDesign CC 14.0 (Macintosh)', 'creationdate': '2022-02-03T13:49:31+09:00', 'trapped': '/False', 'moddate': '2024-06-18T14:13:06+00:00', 'source': './초보 투자자를 위한 증권과 투자 따라잡기.pdf', 'total_pages': 73, 'page': 2, 'page_label': '3'}, page_content='목차\\n3부\\n채권시장의\\n이해\\n2장\\t \\t 채권시장의 구조 \\n 1 \\u2002\\u2002채권의 발행시장\\u2002 \\u20032\\u2002\\u2002채권의 유통시장\\u2002 \\u20033\\u2002\\u2002채권의 매매거래\\u2002\\n1장\\t \\t 채권의 개념과 특징\\n 1 \\u2002\\u2002채권의 개념\\u2002 \\t 2\\u2002\\u2002채권의 종류\\u2002\\n 3 \\u2002\\u2002채권의 특성\\u2002 \\t 4\\u2002\\u2002채권과 주식의 차이\\u2002\\n1부\\n증권시장의\\n이해\\n1장\\t \\t 금융시장의 개념과 종류 \\n 1 \\u2002\\u2002금융과 금융시장\\u2002 \\u20032\\u2002\\u2002금융시장의 종류\\u2002 \\u20033\\u2002\\u2002금융중개기관\\u2002\\n2장\\t \\t 증권시장의 구성 및 기능\\n 1 \\u2002\\u2002증권시장의 개념\\u2002 \\t 2\\u2002\\u2002주식회사와 증권시장\\u2002\\n 3 \\u2002\\u2002증권시장의 구성\\u2002 \\t 4\\u2002\\u2002증권시장의 기능\\u2002\\n3장\\t \\t 한국거래소\\n 1 \\u2002\\u2002한국거래소 통합 이전의 증권시장\\u2002 \\u2003\\n\\t 2\\u2002\\u2002한국거래소의 설립과 기능\\u2002\\n 3 \\u2002\\u2002한국거래소 관련 기관\\u2002 \\u2003\\n2장\\t \\t 옵션시장의 이해\\n 1 \\u2002\\u2002옵션의 개념\\u2002 \\t 2\\u2002\\u2002옵션거래의 구성요소\\u2002 \\u2003\\n\\t 3\\u2002\\u2002옵션의 종류\\u2002  4 \\u2002\\u2002옵션거래의 기능 및 특징\\u2002 \\u2003\\n\\t 5\\u2002\\u2002스프레드 ᆞ콤비네이션 거래\\u2002 \\u2003\\n파생상품\\n시장의\\n이해\\n1장\\t \\t 선물시장의 이해\\n 1 \\u2002\\u2002선물의 개념\\u2002 \\t 2\\u2002\\u2002선물거래의 특징\\u2002 \\u2003\\n\\t 3\\u2002\\u2002선물거래의 구성요소\\u2002  4\\u2002\\u2002선물거래의 유형\\u2002 \\u2003\\n\\t 5\\u2002\\u2002KOSPI 200 주가지수선물\\u2002 \\u2003\\n4부\\n2부\\n주식시장의\\n이해\\n1장\\t \\t 주식의 개념과 발행\\n 1 \\u2002\\u2002주식의 개념과 종류\\u2002 \\t 2\\u2002\\u2002주식발행시장 참여자\\u2002\\n 3 \\u2002\\u2002주식발행의 형태\\u2002 \\t 4\\u2002\\u2002주식발행의 방식\\u2002\\n2장\\t \\t 매매거래제도\\n 1 \\u2002\\u2002매매거래제도의 개요\\u2002 \\t 2\\u2002\\u2002매매거래의 절차\\u2002\\n 3 \\u2002\\u2002매매거래의 단위\\u2002 \\t 4\\u2002\\u2002매매주문의 유형\\u2002\\n 5 \\u2002\\u2002매매체결방법\\u2002 \\t 6\\u2002\\u2002매매거래의 관리\\u2002\\n증권관련\\n제도\\n1장\\t \\t 상장 및 공시제도\\n 1 \\u2002\\u2002상장의 개념\\u2002 \\t 2\\u2002\\u2002상장의 절차와 요건\\u2002 \\u2003\\n\\t 3\\u2002\\u2002상장폐지\\u2002  4 \\u2002\\u2002공시제도의 개념\\u2002 \\u2003\\n\\t 5\\u2002\\u2002불성실공시 제도\\u2002 \\u2003\\n2장\\t \\t 심리 및 감리제도\\n 1 \\u2002\\u2002불공정거래\\u2002 \\t 2\\u2002\\u2002불공정거래 규제의 의의\\u2002 \\u2003\\n\\t 3\\u2002\\u2002심리\\u2002  4 \\u2002\\u2002감리\\u2002 \\u2003\\n 5 \\u2002\\u2002심리 및 감리 결과의 처리\\u2002 \\u2003\\n5부\\n6부')]"
            ]
          },
          "execution_count": 11,
          "metadata": {},
          "output_type": "execute_result"
        }
      ],
      "source": [
        "# 문서에서 관련성 높은 문서를 가져옴\n",
        "retriever.invoke(\"채권에 대한 개념을 알려줘.\")"
      ]
    },
    {
      "cell_type": "markdown",
      "id": "98528482",
      "metadata": {
        "id": "98528482"
      },
      "source": [
        "이제 우리가 검색을 수행할 인덱스를 채웠으므로, 이를 에이전트가 제대로 사용할 수 있는 도구로 쉽게 변환 가능\n"
      ]
    },
    {
      "cell_type": "markdown",
      "id": "6006cbc9",
      "metadata": {
        "id": "6006cbc9"
      },
      "source": [
        "`create_retriever_tool` 함수로 `retriever` 를 도구로 변환"
      ]
    },
    {
      "cell_type": "code",
      "execution_count": 12,
      "id": "683b1878",
      "metadata": {
        "id": "683b1878"
      },
      "outputs": [],
      "source": [
        "from langchain.tools.retriever import create_retriever_tool\n",
        "\n",
        "\n",
        "retriever_tool = create_retriever_tool(\n",
        "    retriever,\n",
        "    name=\"pdf_search\",  # 도구의 이름을 입력합니다.\n",
        "    description=\"use this tool to search information from the PDF document\",  # 도구에 대한 설명을 자세히 기입해야함!!\n",
        ")"
      ]
    },
    {
      "cell_type": "markdown",
      "id": "24519b31",
      "metadata": {
        "id": "24519b31"
      },
      "source": [
        "### Agent 가 사용할 도구 목록 정의\n",
        "\n",
        "Agent 가 사용할 도구 목록:  \n",
        "  \n",
        "`tools` 리스트는 `search`와 `retriever_tool`을 포함"
      ]
    },
    {
      "cell_type": "code",
      "execution_count": 13,
      "id": "1984dd66",
      "metadata": {
        "id": "1984dd66"
      },
      "outputs": [],
      "source": [
        "from langchain.agents import Tool\n",
        "# tools 리스트에 search와 retriever_tool을 추가합니다.\n",
        "tools = [search_web(), retriever_tool]"
      ]
    },
    {
      "cell_type": "markdown",
      "id": "e7891219",
      "metadata": {
        "id": "e7891219"
      },
      "source": [
        "#### Agent 생성\n",
        "\n",
        "Agent 가 활용할 LLM을 정의하고, Agent 가 참고할 Prompt 를 정의"
      ]
    },
    {
      "cell_type": "code",
      "execution_count": 14,
      "id": "f6e6cbfd",
      "metadata": {
        "id": "f6e6cbfd"
      },
      "outputs": [],
      "source": [
        "from langchain_openai import ChatOpenAI\n",
        "from langchain_core.prompts import ChatPromptTemplate\n",
        "\n",
        "# LLM 정의\n",
        "llm = ChatOpenAI(model=\"gpt-4o-mini\", temperature=0)\n",
        "\n",
        "# Prompt 정의\n",
        "prompt = ChatPromptTemplate.from_messages(\n",
        "    [\n",
        "        (\n",
        "            \"system\",\n",
        "            \"You are a helpful assistant. \"\n",
        "            \"Make sure to use the `pdf_search` tool for searching information from the PDF document. \"\n",
        "            \"If you can't find the information from the PDF document, use the `search` tool for searching information from the web.\",\n",
        "        ),\n",
        "        (\"placeholder\", \"{chat_history}\"),\n",
        "        (\"human\", \"{input}\"),\n",
        "        (\"placeholder\", \"{agent_scratchpad}\"),\n",
        "    ]\n",
        ")"
      ]
    },
    {
      "cell_type": "markdown",
      "id": "25a7a1d0",
      "metadata": {
        "id": "25a7a1d0"
      },
      "source": [
        "Tool Calling Agent 를 생성"
      ]
    },
    {
      "cell_type": "code",
      "execution_count": 15,
      "id": "ce2cdda8",
      "metadata": {
        "id": "ce2cdda8"
      },
      "outputs": [],
      "source": [
        "from langchain.agents import create_tool_calling_agent\n",
        "\n",
        "# tool calling agent 생성\n",
        "agent = create_tool_calling_agent(llm, tools, prompt)"
      ]
    },
    {
      "cell_type": "markdown",
      "id": "5592f1b3",
      "metadata": {
        "id": "5592f1b3"
      },
      "source": [
        "마지막으로, 생성한 `agent` 를 실행하는 `AgentExecutor` 를 생성\n",
        "- (참고)`verbose=False` 로 설정하여 중간 단계 출력을 생략"
      ]
    },
    {
      "cell_type": "code",
      "execution_count": 16,
      "id": "88bb3aab",
      "metadata": {
        "id": "88bb3aab"
      },
      "outputs": [],
      "source": [
        "from langchain.agents import AgentExecutor\n",
        "\n",
        "# AgentExecutor 생성\n",
        "agent_executor = AgentExecutor(agent=agent, tools=tools, verbose=False)"
      ]
    },
    {
      "cell_type": "markdown",
      "id": "614375b3",
      "metadata": {
        "id": "614375b3"
      },
      "source": [
        "#### 에이전트 실행하기\n",
        "\n",
        "현재 이러한 모든 질의는 **상태(Stateless) 가 없는** 질의 == 이전 상호작용을 기억하지 못함\n"
      ]
    },
    {
      "cell_type": "markdown",
      "id": "d8120a9e",
      "metadata": {
        "id": "d8120a9e"
      },
      "source": [
        "`agent_executor` 객체의 `invoke` 메소드는 딕셔너리 형태의 인자를 받아 처리"
      ]
    },
    {
      "cell_type": "code",
      "execution_count": 17,
      "id": "40529899",
      "metadata": {
        "id": "40529899"
      },
      "outputs": [],
      "source": [
        "from langchain_teddynote.messages import AgentStreamParser\n",
        "\n",
        "# 각 단계별 출력을 위한 파서 생성\n",
        "agent_stream_parser = AgentStreamParser()"
      ]
    },
    {
      "cell_type": "code",
      "execution_count": 18,
      "id": "9cfbad15",
      "metadata": {
        "id": "9cfbad15"
      },
      "outputs": [
        {
          "name": "stdout",
          "output_type": "stream",
          "text": [
            "\n",
            "[도구 호출] web_search\n",
            "  입력값: 2025 Netflix new releases\n",
            "\n",
            "[도구 호출] web_search\n",
            "  입력값: Netflix new releases 2025 list\n",
            "\n",
            "[도구 호출] web_search\n",
            "  입력값: upcoming Netflix shows and movies 2025\n",
            "\n",
            "[도구 호출] web_search\n",
            "  입력값: Netflix 2025 new series and movies list\n",
            "\n",
            "[도구 호출] web_search\n",
            "  입력값: Netflix 2025 upcoming shows and movies\n",
            "\n",
            "[최종 답변]\n",
            "2025년 넷플릭스에서 예정된 신작 목록은 다음과 같습니다:\n",
            "\n",
            "### 영화\n",
            "1. **Happy Gilmore 2** - 속편\n",
            "2. **Frankenstein** - 새로운 해석의 고전\n",
            "3. **The Old Guard 2** - 인기 액션 영화의 후속작\n",
            "4. **The Thursday Murder Club** - 미스터리 영화\n",
            "5. **Love Untangled** - 청춘 로맨스\n",
            "6. **Inspector Zende** - 범죄 스릴러\n",
            "\n",
            "### TV 시리즈\n",
            "1. **Running in Heels** - 새로운 드라마 시리즈\n",
            "2. **We're So Back** - 코미디 시리즈\n",
            "3. **Secretssss** - 미스터리 드라마\n",
            "4. **In It to Win It** - 리얼리티 쇼\n",
            "5. **Love & Betrayal** - 로맨스 드라마\n",
            "6. **The Diplomat** - 정치 드라마\n",
            "\n",
            "### 기타\n",
            "- **Alice in Borderland Season 3** - 인기 일본 시리즈의 세 번째 시즌\n",
            "- **Wednesday Season 2 Part 2** - 'Wednesday'의 두 번째 시즌 후반부\n",
            "\n",
            "이 외에도 다양한 신작들이 2025년 동안 공개될 예정입니다. 더 자세한 정보는 [What's on Netflix](https://www.whats-on-netflix.com/coming-soon/netflix-movie-series-2025/)에서 확인할 수 있습니다.\n"
          ]
        }
      ],
      "source": [
        "result = agent_executor.stream(\n",
        "    {\"input\": \"2025년 넷플릭스 신작 알려주세요\"}\n",
        ")\n",
        "\n",
        "for step in result:\n",
        "    # 1. Agent가 선택한 도구(action) 출력\n",
        "    if \"actions\" in step:\n",
        "        for action in step[\"actions\"]:\n",
        "            print(f\"\\n[도구 호출] {action.tool}\")\n",
        "            tool_input = action.tool_input\n",
        "            if isinstance(tool_input, dict):\n",
        "                for k, v in tool_input.items():\n",
        "                    print(f\"  {k}: {v}\")\n",
        "            else:\n",
        "                print(f\"  입력값: {tool_input}\")\n",
        "\n",
        "    # 2. 도구 실행 결과(observation) 출력\n",
        "    if \"observations\" in step:\n",
        "        for obs in step[\"observations\"]:\n",
        "            print(f\"\\n[도구 응답] {obs}\")\n",
        "\n",
        "    # 3. 최종 출력 결과\n",
        "    if \"output\" in step:\n",
        "        print(\"\\n[최종 답변]\")\n",
        "        print(step[\"output\"])\n"
      ]
    },
    {
      "cell_type": "markdown",
      "id": "604b2a9c",
      "metadata": {
        "id": "604b2a9c"
      },
      "source": [
        "`agent_executor` 객체의 `invoke` 메소드를 사용하여, 질문을 입력으로 제공\n"
      ]
    },
    {
      "cell_type": "code",
      "execution_count": 19,
      "id": "4a0582ab",
      "metadata": {
        "id": "4a0582ab"
      },
      "outputs": [
        {
          "name": "stdout",
          "output_type": "stream",
          "text": [
            "[도구 호출]\n",
            "Tool: pdf_search\n",
            "query: 선물과 주식의 차이\n",
            "Log: \n",
            "Invoking: `pdf_search` with `{'query': '선물과 주식의 차이'}`\n",
            "\n",
            "\n",
            "\n",
            "[관찰 내용]\n",
            "Observation: 대부분의 개인투자자들은 채권을 만기까지 보유하는 경우가 많기 때문에 채권투자 시에는 신용등급을 꼼꼼하게 \n",
            "살피는 것이 무엇보다 중요합니다.\n",
            "자료 : 시민을 위한 증권투자 이야기(증권선물거래소)\n",
            "유가증권의 대표 증권인 주식과 채권은 같은 자본증권이지만 기업과 \n",
            "투자자의 입장에서 보면 여러 가지 면에서 다른 특징을 보이고 있습니다.\n",
            "4│채권과 주식의 차이\n",
            "◆ 주식과 채권의 차이 ◆\n",
            "구 분 주식 채권\n",
            "자본의 성격 자기자본 타인자본\n",
            "발행자 주식회사 정 부‧지 자 체‧특별법인 ‧ 주식회사\n",
            "소유자의 지위 주주 채권자\n",
            "경영참가 있음 없음\n",
            "존속기간 영구적 한시적\n",
            "이익형태 및 성격 배당 ‧ 가변적 이자 ‧ 확정적\n",
            "\n",
            "파생상품시장의 이해초보 투자자를 위한 증권과 투자 따라잡기068 069\n",
            "선물거래는 선도거래와 마찬가지로 계약자 간에 임의로 행해지는 사적\n",
            "인 계약을 말합니다. 실생활에서 볼 수 있는 전형적인 선도거래로는 배추\n",
            "나 무 등 밭 전체의 농작물을 미리 사거나 파는 “밭떼기”라는 거래를 들 \n",
            "수 있습니다. 즉, 배추 혹은 무의 씨앗을 뿌릴 때 정해진 가격으로 밭 전체\n",
            "에서 수확될 배추 혹은 무를 사고팔 것을 계약하는 것입니다. 실제로 돈과 \n",
            "물건(배추, 무 등)을 주고 받는 시점은 배추, 무 등이 다 자라나 수확되는 시\n",
            "기가 될 것입니다.\n",
            "이처럼 선물거래(Futures) 혹은 선도거래(Forward)는 모든 거래조건\n",
            "을 현재시점에서 계약하고 상품의 인수도와 대금결제는 미래 일정시점에\n",
            "서 이루어지는 거래를 말합니다.\n",
            "다만, 양 거래당사자의 계약인 선도거래와 달리 선물거래는 조직화된 \n",
            "장소인 거래소에서 특정 상품을 현재시점에서 정한 가격으로 미래 일정시\n",
            "1│선물의 개념\n",
            "선물시장의 이해\n",
            "점에 인수도할 것을 약속하는 거래를 말합니다. 선물거래는 선도거래와 \n",
            "유사한 개념이지만 선도거래와는 다른 몇 가지 특징을 가지고 있습니다.\n",
            " 조직화된 거래소\n",
            "선물거래는 선물거래소라는 정형화되고 조직적인 시장에서 발생합니다. \n",
            "거래소 형태를 갖춘 최초의 선물거래소는 1848년 미국의 시카고에 설립\n",
            "된 시카고상품거래소(CBOT; Chicago Board of Trade) 입니다. 국내에는 \n",
            "1996년 한국증권거래소(KSE)에서 주가지수를 이용한 KOSPI 200 주가\n",
            "지수선물을 상장하여 처음 선물거래가 시작되었으며 1999년 한국선물거\n",
            "래소(KOFEX)의 설립으로 국채, 금, 미국 달러 등 다양한 상품이 거래되\n",
            "었습니다. 2005년 한국증권거래소와 한국선물거래소가 통합되면서 현재 \n",
            "한국거래소(KRX)에서 주가지수선물과 국채 등의 모든 선물이 모두 거래\n",
            "되고 있습니다.\n",
            "선도거래\n",
            "쌀 수확을 앞두고 있는 농부는 향후 여러 가지 \n",
            "이유로 인해 쌀 가격이 하락한다면 큰 손실을\n",
            "\n",
            "는 상품 또는 자산을 말합니다. 주가지수, 개별주식, 통화, 금리 등 금융상\n",
            "품 뿐만 아니라 농산물, 원유 등 일반상품도 선물의 기초자산이 되며, 해\n",
            "외에는 날씨나 탄소배출권을 거래대상으로 하는 상품도 상장되어 거래되\n",
            "고 있습니다.\n",
            " 만기(maturity date)\n",
            "선물계약의 거래대상인 기초자산이 인도되어 선물계약의 의무가 이행\n",
            "되는 날로 최종거래일이라고도 합니다. 동일한 선물이라도 만기일이 가까운 \n",
            "것도 있고 먼 것도 있는데 만기일이 가까운 선물계약을 근월물, 만기일이 \n",
            "많이 남은 선물계약을 원월물이라고 합니다.\n",
            " 계약단위(contract size)\n",
            "선물의 거래 기본단위를 계약이라고 하며, 하나의 단위를 1계약이라고 \n",
            "합니다 . 예를 들면 KOSPI 200 주가지수선물의 경우 KOSPI 200지수에 \n",
            "해당 거래승수인 250,000원을 곱한 것이 됩니다. 이 계약단위의 결정은 \n",
            "3│선물거래의 구성요소\n",
            "\n",
            "이상 하락하고 1단계 서킷브레이커 발동 시보다 1% 이상 추가 하락한 경\n",
            "우 발동되며, 역시 20분간 매매가 중단된 후 10분간 단일가매매로 거래가 \n",
            "우리나라 선물거래의 효시라 할 수 있는 KOSPI 200 주가지수선물을 \n",
            "대표적으로 소개하고자 합니다.\n",
            " 주가지수선물의 개요\n",
            "주가지수선물이란 증권시장에서 매매되고 있는 전체 주식 또는 일부 \n",
            "주식의 가격수준을 나타내는 주가지수를 매매대상으로 하는 금융선물의 \n",
            "한 종류입니다. 주가지수선물은 주가변동에 대한 헤지수단을 제공하기 위\n",
            "하여 도입하게 되었습니다. 주가지수는 주식 전체의 가격수준을 나타내는 \n",
            "수치일 뿐 실물이 없는 추상물이기 때문에 일반 선물거래와는 달리 주가\n",
            "지수선물에서는 실물인수도가 불가능하므로 최종결제 시 현금으로 결제\n",
            "하게 됩니다.\n",
            "주가지수선물의 최초 도입은 미국 KCBT(Kansas City Board of Trade)\n",
            "가 1982년 2월에 거래를 시작한 밸류라인 주가지수(Value Line Composite \n",
            "Index)선물입니다. 우리나라에서는 1996년 5월에 최초로 한국증권거래소\n",
            "(KSE)에서 KOSPI 200지수를 대상으로 주가지수선물 거래를 도입하였습\n",
            "니다. 또한 2001년 1월에는 한국선물거래소(KOFEX)에 코스닥 50지수를 \n",
            "대상으로 하는 코스닥 50 선물이 상장되었으나 거래부진 등으로 폐지하고  \n",
            "새로운 지수인 코스닥 150지수를 대상으로 한 선물을 상장하였습니다.\n",
            "5│KOSPI 200 주가지수선물\n",
            "[최종 답변]\n",
            "문서에서 선물과 주식의 차이점에 대한 정보는 다음과 같습니다:\n",
            "\n",
            "1. **선물 거래**:\n",
            "   - 선물 거래는 계약자 간에 임의로 행해지는 사적인 계약으로, 특정 상품을 현재 시점에서 정한 가격으로 미래 일정 시점에 인수도할 것을 약속하는 거래입니다.\n",
            "   - 선물 거래는 조직화된 거래소에서 이루어지며, 예를 들어 KOSPI 200 주가지수선물과 같은 금융선물이 있습니다.\n",
            "   - 선물 계약의 만기일이 있으며, 계약의 의무가 이행되는 날이 최종 거래일입니다.\n",
            "\n",
            "2. **주식**:\n",
            "   - 주식은 기업의 소유권을 나타내며, 주주가 기업의 경영에 참여할 수 있는 권리를 가집니다.\n",
            "   - 주식은 영구적이며, 배당금 형태로 이익을 분배받습니다.\n",
            "\n",
            "3. **주식과 선물의 주요 차이점**:\n",
            "   - **소유권**: 주식은 기업의 소유권을 나타내지만, 선물은 특정 자산을 미래에 거래하기 위한 계약입니다.\n",
            "   - **경영참여**: 주식은 경영에 참여할 수 있는 권리가 있지만, 선물은 그러한 권리가 없습니다.\n",
            "   - **존속기간**: 주식은 영구적이지만, 선물은 만기일이 정해져 있습니다.\n",
            "   - **이익형태**: 주식은 배당금으로 이익을 얻고, 선물은 가격 변동에 따른 차익을 추구합니다.\n",
            "\n",
            "이와 같은 차이점들이 선물과 주식의 본질적인 특성을 구분짓습니다.\n"
          ]
        }
      ],
      "source": [
        "# 질의에 대한 답변을 스트리밍으로 출력 요청\n",
        "result = agent_executor.stream(\n",
        "    {\"input\": \"선물과 주식에 대한 차이점을 문서에서 찾아주세요.\"}\n",
        ")\n",
        "\n",
        "for step in result:\n",
        "    # 중간 단계를 parser 를 사용하여 단계별로 출력\n",
        "    agent_stream_parser.process_agent_steps(step)"
      ]
    },
    {
      "cell_type": "markdown",
      "id": "6d836bd5",
      "metadata": {
        "id": "6d836bd5"
      },
      "source": [
        "## 이전 대화내용 기억하는 Agent\n",
        "\n",
        "`RunnableWithMessageHistory`: 이전의 대화내용을 기억하기 위해 사용  \n",
        "\n",
        "`AgentExecutor`를 `RunnableWithMessageHistory`로 감싸줌"
      ]
    },
    {
      "cell_type": "code",
      "execution_count": 20,
      "id": "39cc359c",
      "metadata": {
        "id": "39cc359c"
      },
      "outputs": [],
      "source": [
        "from langchain_community.chat_message_histories import ChatMessageHistory\n",
        "from langchain_core.runnables.history import RunnableWithMessageHistory\n",
        "\n",
        "# session_id 를 저장할 딕셔너리 생성\n",
        "store = {}\n",
        "\n",
        "\n",
        "# session_id 를 기반으로 세션 기록을 가져오는 함수\n",
        "def get_session_history(session_ids):\n",
        "    if session_ids not in store:  # session_id 가 store에 없는 경우\n",
        "        # 새로운 ChatMessageHistory 객체를 생성하여 store에 저장\n",
        "        store[session_ids] = ChatMessageHistory()\n",
        "    return store[session_ids]  # 해당 세션 ID에 대한 세션 기록 반환\n",
        "\n",
        "\n",
        "# 채팅 메시지 기록이 추가된 에이전트를 생성\n",
        "agent_with_chat_history = RunnableWithMessageHistory(\n",
        "    agent_executor,\n",
        "    # 대화 session_id\n",
        "    get_session_history,\n",
        "    # 프롬프트의 질문이 입력되는 key: \"input\"\n",
        "    input_messages_key=\"input\",\n",
        "    # 프롬프트의 메시지가 입력되는 key: \"chat_history\"\n",
        "    history_messages_key=\"chat_history\",\n",
        ")"
      ]
    },
    {
      "cell_type": "code",
      "execution_count": 21,
      "id": "697c803f",
      "metadata": {
        "id": "697c803f"
      },
      "outputs": [
        {
          "name": "stdout",
          "output_type": "stream",
          "text": [
            "[도구 호출]\n",
            "Tool: pdf_search\n",
            "query: 선물과 주식의 차이\n",
            "Log: \n",
            "Invoking: `pdf_search` with `{'query': '선물과 주식의 차이'}`\n",
            "\n",
            "\n",
            "\n",
            "[관찰 내용]\n",
            "Observation: 대부분의 개인투자자들은 채권을 만기까지 보유하는 경우가 많기 때문에 채권투자 시에는 신용등급을 꼼꼼하게 \n",
            "살피는 것이 무엇보다 중요합니다.\n",
            "자료 : 시민을 위한 증권투자 이야기(증권선물거래소)\n",
            "유가증권의 대표 증권인 주식과 채권은 같은 자본증권이지만 기업과 \n",
            "투자자의 입장에서 보면 여러 가지 면에서 다른 특징을 보이고 있습니다.\n",
            "4│채권과 주식의 차이\n",
            "◆ 주식과 채권의 차이 ◆\n",
            "구 분 주식 채권\n",
            "자본의 성격 자기자본 타인자본\n",
            "발행자 주식회사 정 부‧지 자 체‧특별법인 ‧ 주식회사\n",
            "소유자의 지위 주주 채권자\n",
            "경영참가 있음 없음\n",
            "존속기간 영구적 한시적\n",
            "이익형태 및 성격 배당 ‧ 가변적 이자 ‧ 확정적\n",
            "\n",
            "파생상품시장의 이해초보 투자자를 위한 증권과 투자 따라잡기068 069\n",
            "선물거래는 선도거래와 마찬가지로 계약자 간에 임의로 행해지는 사적\n",
            "인 계약을 말합니다. 실생활에서 볼 수 있는 전형적인 선도거래로는 배추\n",
            "나 무 등 밭 전체의 농작물을 미리 사거나 파는 “밭떼기”라는 거래를 들 \n",
            "수 있습니다. 즉, 배추 혹은 무의 씨앗을 뿌릴 때 정해진 가격으로 밭 전체\n",
            "에서 수확될 배추 혹은 무를 사고팔 것을 계약하는 것입니다. 실제로 돈과 \n",
            "물건(배추, 무 등)을 주고 받는 시점은 배추, 무 등이 다 자라나 수확되는 시\n",
            "기가 될 것입니다.\n",
            "이처럼 선물거래(Futures) 혹은 선도거래(Forward)는 모든 거래조건\n",
            "을 현재시점에서 계약하고 상품의 인수도와 대금결제는 미래 일정시점에\n",
            "서 이루어지는 거래를 말합니다.\n",
            "다만, 양 거래당사자의 계약인 선도거래와 달리 선물거래는 조직화된 \n",
            "장소인 거래소에서 특정 상품을 현재시점에서 정한 가격으로 미래 일정시\n",
            "1│선물의 개념\n",
            "선물시장의 이해\n",
            "점에 인수도할 것을 약속하는 거래를 말합니다. 선물거래는 선도거래와 \n",
            "유사한 개념이지만 선도거래와는 다른 몇 가지 특징을 가지고 있습니다.\n",
            " 조직화된 거래소\n",
            "선물거래는 선물거래소라는 정형화되고 조직적인 시장에서 발생합니다. \n",
            "거래소 형태를 갖춘 최초의 선물거래소는 1848년 미국의 시카고에 설립\n",
            "된 시카고상품거래소(CBOT; Chicago Board of Trade) 입니다. 국내에는 \n",
            "1996년 한국증권거래소(KSE)에서 주가지수를 이용한 KOSPI 200 주가\n",
            "지수선물을 상장하여 처음 선물거래가 시작되었으며 1999년 한국선물거\n",
            "래소(KOFEX)의 설립으로 국채, 금, 미국 달러 등 다양한 상품이 거래되\n",
            "었습니다. 2005년 한국증권거래소와 한국선물거래소가 통합되면서 현재 \n",
            "한국거래소(KRX)에서 주가지수선물과 국채 등의 모든 선물이 모두 거래\n",
            "되고 있습니다.\n",
            "선도거래\n",
            "쌀 수확을 앞두고 있는 농부는 향후 여러 가지 \n",
            "이유로 인해 쌀 가격이 하락한다면 큰 손실을\n",
            "\n",
            "는 상품 또는 자산을 말합니다. 주가지수, 개별주식, 통화, 금리 등 금융상\n",
            "품 뿐만 아니라 농산물, 원유 등 일반상품도 선물의 기초자산이 되며, 해\n",
            "외에는 날씨나 탄소배출권을 거래대상으로 하는 상품도 상장되어 거래되\n",
            "고 있습니다.\n",
            " 만기(maturity date)\n",
            "선물계약의 거래대상인 기초자산이 인도되어 선물계약의 의무가 이행\n",
            "되는 날로 최종거래일이라고도 합니다. 동일한 선물이라도 만기일이 가까운 \n",
            "것도 있고 먼 것도 있는데 만기일이 가까운 선물계약을 근월물, 만기일이 \n",
            "많이 남은 선물계약을 원월물이라고 합니다.\n",
            " 계약단위(contract size)\n",
            "선물의 거래 기본단위를 계약이라고 하며, 하나의 단위를 1계약이라고 \n",
            "합니다 . 예를 들면 KOSPI 200 주가지수선물의 경우 KOSPI 200지수에 \n",
            "해당 거래승수인 250,000원을 곱한 것이 됩니다. 이 계약단위의 결정은 \n",
            "3│선물거래의 구성요소\n",
            "\n",
            "이상 하락하고 1단계 서킷브레이커 발동 시보다 1% 이상 추가 하락한 경\n",
            "우 발동되며, 역시 20분간 매매가 중단된 후 10분간 단일가매매로 거래가 \n",
            "우리나라 선물거래의 효시라 할 수 있는 KOSPI 200 주가지수선물을 \n",
            "대표적으로 소개하고자 합니다.\n",
            " 주가지수선물의 개요\n",
            "주가지수선물이란 증권시장에서 매매되고 있는 전체 주식 또는 일부 \n",
            "주식의 가격수준을 나타내는 주가지수를 매매대상으로 하는 금융선물의 \n",
            "한 종류입니다. 주가지수선물은 주가변동에 대한 헤지수단을 제공하기 위\n",
            "하여 도입하게 되었습니다. 주가지수는 주식 전체의 가격수준을 나타내는 \n",
            "수치일 뿐 실물이 없는 추상물이기 때문에 일반 선물거래와는 달리 주가\n",
            "지수선물에서는 실물인수도가 불가능하므로 최종결제 시 현금으로 결제\n",
            "하게 됩니다.\n",
            "주가지수선물의 최초 도입은 미국 KCBT(Kansas City Board of Trade)\n",
            "가 1982년 2월에 거래를 시작한 밸류라인 주가지수(Value Line Composite \n",
            "Index)선물입니다. 우리나라에서는 1996년 5월에 최초로 한국증권거래소\n",
            "(KSE)에서 KOSPI 200지수를 대상으로 주가지수선물 거래를 도입하였습\n",
            "니다. 또한 2001년 1월에는 한국선물거래소(KOFEX)에 코스닥 50지수를 \n",
            "대상으로 하는 코스닥 50 선물이 상장되었으나 거래부진 등으로 폐지하고  \n",
            "새로운 지수인 코스닥 150지수를 대상으로 한 선물을 상장하였습니다.\n",
            "5│KOSPI 200 주가지수선물\n",
            "[최종 답변]\n",
            "문서에서 선물과 주식의 차이에 대한 정보를 찾았습니다. 다음은 주요 차이점입니다:\n",
            "\n",
            "1. **거래 형태**:\n",
            "   - **주식**: 주식은 기업의 소유권을 나타내며, 주주가 기업의 경영에 참여할 수 있습니다.\n",
            "   - **선물**: 선물 거래는 특정 상품을 미래의 일정 시점에 정해진 가격으로 인수도할 것을 약속하는 계약입니다. 이는 조직화된 거래소에서 이루어집니다.\n",
            "\n",
            "2. **소유자의 지위**:\n",
            "   - **주식**: 주주는 기업의 소유자로서 권리를 가집니다.\n",
            "   - **선물**: 선물 계약의 당사자는 상품의 소유자가 아니며, 계약에 따라 미래에 상품을 인수할 의무가 있습니다.\n",
            "\n",
            "3. **존속 기간**:\n",
            "   - **주식**: 주식은 영구적입니다.\n",
            "   - **선물**: 선물 계약은 만기일이 있으며, 한정된 기간 동안 유효합니다.\n",
            "\n",
            "4. **이익 형태 및 성격**:\n",
            "   - **주식**: 주식의 이익은 배당금으로, 변동성이 있습니다.\n",
            "   - **선물**: 선물의 이익은 계약의 가격 차이에 따라 결정되며, 일반적으로 현금으로 결제됩니다.\n",
            "\n",
            "이와 같은 차이점들이 선물과 주식의 주요 특징을 형성합니다.\n"
          ]
        }
      ],
      "source": [
        "# 질의에 대한 답변을 스트리밍으로 출력 요청\n",
        "response = agent_with_chat_history.stream(\n",
        "    {\"input\": \"선물과 주식에 대한 차이점을 문서에서 찾아주세요.\"},\n",
        "    # session_id 설정\n",
        "    config={\"configurable\": {\"session_id\": \"abc123\"}},\n",
        ")\n",
        "\n",
        "# 출력 확인\n",
        "for step in response:\n",
        "    agent_stream_parser.process_agent_steps(step)"
      ]
    },
    {
      "cell_type": "code",
      "execution_count": 22,
      "id": "7d96ac8e",
      "metadata": {
        "id": "7d96ac8e"
      },
      "outputs": [
        {
          "name": "stdout",
          "output_type": "stream",
          "text": [
            "[최종 답변]\n",
            "Here are the key differences between futures and stocks:\n",
            "\n",
            "1. **Transaction Type**:\n",
            "   - **Stocks**: Stocks represent ownership in a company, and shareholders can participate in the management of the company.\n",
            "   - **Futures**: Futures trading involves a contract to buy or sell a specific commodity at a predetermined price at a future date. This occurs on organized exchanges.\n",
            "\n",
            "2. **Owner's Status**:\n",
            "   - **Stocks**: Shareholders are owners of the company and have rights associated with that ownership.\n",
            "   - **Futures**: Parties in a futures contract do not own the commodity; they have an obligation to buy or sell the commodity as per the contract.\n",
            "\n",
            "3. **Duration**:\n",
            "   - **Stocks**: Stocks are permanent.\n",
            "   - **Futures**: Futures contracts have an expiration date and are valid for a limited period.\n",
            "\n",
            "4. **Profit Type and Nature**:\n",
            "   - **Stocks**: Profits from stocks come in the form of dividends, which can be volatile.\n",
            "   - **Futures**: Profits from futures are determined by the price difference of the contract and are typically settled in cash.\n",
            "\n",
            "These differences form the main characteristics of futures and stocks.\n"
          ]
        }
      ],
      "source": [
        "response = agent_with_chat_history.stream(\n",
        "    {\"input\": \"이전의 답변을 영어로 번역해 주세요.\"},\n",
        "    # session_id 설정\n",
        "    config={\"configurable\": {\"session_id\": \"abc123\"}},\n",
        ")\n",
        "\n",
        "# 출력 확인\n",
        "for step in response:\n",
        "    agent_stream_parser.process_agent_steps(step)"
      ]
    },
    {
      "cell_type": "markdown",
      "id": "a1970203",
      "metadata": {
        "id": "a1970203"
      },
      "source": [
        "## Agent 템플릿"
      ]
    },
    {
      "cell_type": "code",
      "execution_count": null,
      "id": "783c7c79",
      "metadata": {
        "id": "783c7c79"
      },
      "outputs": [],
      "source": [
        "# PyMuPDF : 텍스트, 이미지, 주석, 레이아웃 등 PDF의 모든 요소 처리 가능한 패키지\n",
        "! pip install PyMuPDF"
      ]
    },
    {
      "cell_type": "code",
      "execution_count": 43,
      "id": "4d261a21",
      "metadata": {
        "id": "4d261a21"
      },
      "outputs": [],
      "source": [
        "# 필요한 모듈 import\n",
        "from langchain_core.prompts import ChatPromptTemplate\n",
        "from langchain_community.tools.tavily_search import TavilySearchResults\n",
        "from langchain_community.vectorstores import FAISS\n",
        "from langchain_community.chat_message_histories import ChatMessageHistory\n",
        "from langchain.text_splitter import RecursiveCharacterTextSplitter\n",
        "from langchain_openai import OpenAIEmbeddings, ChatOpenAI\n",
        "from langchain.document_loaders import PyMuPDFLoader\n",
        "from langchain.tools.retriever import create_retriever_tool\n",
        "from langchain.agents import create_tool_calling_agent, AgentExecutor\n",
        "from langchain_core.runnables.history import RunnableWithMessageHistory\n",
        "from langchain_teddynote.messages import AgentStreamParser\n",
        "\n",
        "########## 1. 도구를 정의 ##########\n",
        "\n",
        "### 1-1. Search 도구 ###\n",
        "def search_web():\n",
        "    search = SerpAPIWrapper()\n",
        "\n",
        "    def run_with_source(query: str) -> str:\n",
        "        results = search.results(query)\n",
        "        organic = results.get(\"organic_results\", [])\n",
        "        formatted = []\n",
        "        for r in organic[:5]:\n",
        "            title = r.get(\"title\")\n",
        "            link = r.get(\"link\")\n",
        "            source = r.get(\"source\")\n",
        "            snippet = r.get(\"snippet\")  # ✅ snippet 추가\n",
        "            if link:\n",
        "                formatted.append(f\"- [{title}]({link}) ({source})\\n  {snippet}\")\n",
        "            else:\n",
        "                formatted.append(f\"- {title} (출처: {source})\\n  {snippet}\")\n",
        "        return \"\\n\".join(formatted) if formatted else \"검색 결과가 없습니다.\"\n",
        "\n",
        "    return Tool(\n",
        "        name=\"web_search\",\n",
        "        func=run_with_source,\n",
        "        description=\"실시간 뉴스 및 웹 정보를 검색할 때 사용합니다. 결과는 제목+출처+링크+간단요약(snippet) 형태로 반환됩니다.\"\n",
        "    )\n",
        "\n",
        "### 1-2. PDF 문서 검색 도구 (Retriever) ###\n",
        "# PDF 파일 로드. 파일의 경로 입력\n",
        "loader = PyMuPDFLoader(\"/content/초보 투자자를 위한 증권과 투자 따라잡기.pdf\")\n",
        "\n",
        "# 텍스트 분할기를 사용하여 문서를 분할\n",
        "text_splitter = RecursiveCharacterTextSplitter(chunk_size=1000, chunk_overlap=100)\n",
        "\n",
        "# 문서를 로드하고 분할\n",
        "split_docs = loader.load_and_split(text_splitter)\n",
        "\n",
        "# VectorStore를 생성\n",
        "vector = FAISS.from_documents(split_docs, OpenAIEmbeddings())\n",
        "\n",
        "# Retriever를 생성\n",
        "retriever = vector.as_retriever()\n",
        "\n",
        "\n",
        "retriever_tool = create_retriever_tool(\n",
        "    retriever,\n",
        "    name=\"pdf_search\",  # 도구의 이름을 입력\n",
        "    description=\"use this tool to search information from the PDF document\",  # 도구에 대한 설명을 자세히 기입해야 합니다!!\n",
        ")\n",
        "\n",
        "### 1-3. tools 리스트에 도구 목록을 추가 ###\n",
        "# tools 리스트에 search와 retriever_tool을 추가\n",
        "tools = [search_web(), retriever_tool]\n",
        "\n",
        "########## 2. LLM 을 정의  ##########\n",
        "# LLM 모델을 생성\n",
        "llm = ChatOpenAI(model=\"gpt-4o\", temperature=0)\n",
        "\n",
        "########## 3. Prompt 를 정의##########\n",
        "\n",
        "# Prompt 정의\n",
        "prompt = ChatPromptTemplate.from_messages(\n",
        "    [\n",
        "        (\n",
        "            \"system\",\n",
        "            \"You are a helpful assistant. \"\n",
        "            \"Make sure to use the `pdf_search` tool for searching information from the PDF document. \"\n",
        "            \"If you can't find the information from the PDF document, use the `search` tool for searching information from the web.\",\n",
        "        ),\n",
        "        (\"placeholder\", \"{chat_history}\"),\n",
        "        (\"human\", \"{input}\"),\n",
        "        (\"placeholder\", \"{agent_scratchpad}\"),\n",
        "    ]\n",
        ")\n",
        "\n",
        "########## 4. Agent 를 정의 ##########\n",
        "\n",
        "# 에이전트를 생성\n",
        "# llm, tools, prompt를 인자로 사용\n",
        "agent = create_tool_calling_agent(llm, tools, prompt)\n",
        "\n",
        "########## 5. AgentExecutor 를 정의 ##########\n",
        "\n",
        "# AgentExecutor 클래스를 사용하여 agent와 tools를 설정하고, 상세한 로그를 출력하도록 verbose를 True로 설정\n",
        "agent_executor = AgentExecutor(agent=agent, tools=tools, verbose=False)\n",
        "\n",
        "########## 6. 채팅 기록을 수행하는 메모리를 추가 ##########\n",
        "\n",
        "# session_id 를 저장할 딕셔너리 생성\n",
        "store = {}\n",
        "\n",
        "\n",
        "# session_id 를 기반으로 세션 기록을 가져오는 함수\n",
        "def get_session_history(session_ids):\n",
        "    if session_ids not in store:  # session_id 가 store에 없는 경우\n",
        "        # 새로운 ChatMessageHistory 객체를 생성하여 store에 저장\n",
        "        store[session_ids] = ChatMessageHistory()\n",
        "    return store[session_ids]  # 해당 세션 ID에 대한 세션 기록 반환\n",
        "\n",
        "\n",
        "# 채팅 메시지 기록이 추가된 에이전트를 생성\n",
        "agent_with_chat_history = RunnableWithMessageHistory(\n",
        "    agent_executor,\n",
        "    # 대화 session_id\n",
        "    get_session_history,\n",
        "    # 프롬프트의 질문이 입력되는 key: \"input\"\n",
        "    input_messages_key=\"input\",\n",
        "    # 프롬프트의 메시지가 입력되는 key: \"chat_history\"\n",
        "    history_messages_key=\"chat_history\",\n",
        ")\n",
        "\n",
        "########## 7. Agent 파서를 정의합니다. ##########\n",
        "agent_stream_parser = AgentStreamParser()"
      ]
    },
    {
      "cell_type": "code",
      "execution_count": null,
      "id": "3e2666f0",
      "metadata": {
        "id": "3e2666f0"
      },
      "outputs": [],
      "source": [
        "########## 8. 에이전트를 실행하고 결과를 확인합니다. ##########\n",
        "\n",
        "# 질의에 대한 답변을 출력합니다.\n",
        "response = agent_with_chat_history.stream(\n",
        "    {\"input\":  \"국내 증권 시장의 역사를 문서에서 찾아서 추천해줘.\"},\n",
        "    # 세션 ID를 설정\n",
        "    # 여기서는 간단한 메모리 내 ChatMessageHistory를 사용하기 때문에 실제로 사용되지 않음\n",
        "    config={\"configurable\": {\"session_id\": \"abc123\"}},\n",
        ")\n",
        "\n",
        "for step in response:\n",
        "    agent_stream_parser.process_agent_steps(step)"
      ]
    },
    {
      "cell_type": "code",
      "execution_count": null,
      "id": "bc28b7c4",
      "metadata": {
        "id": "bc28b7c4"
      },
      "outputs": [],
      "source": [
        "########## 8. 에이전트를 실행하고 결과를 확인합니다. ##########\n",
        "\n",
        "# 질의에 대한 답변을 출력합니다.\n",
        "response = agent_with_chat_history.stream(\n",
        "    {\"input\": \"이전의 답변을 영어로 번역해 주세요\"},\n",
        "    # 세션 ID를 설정\n",
        "    # 여기서는 간단한 메모리 내 ChatMessageHistory를 사용하기 때문에 실제로 사용되지 않음\n",
        "    config={\"configurable\": {\"session_id\": \"abc123\"}},\n",
        ")\n",
        "\n",
        "for step in response:\n",
        "    agent_stream_parser.process_agent_steps(step)"
      ]
    },
    {
      "cell_type": "code",
      "execution_count": null,
      "id": "54697845",
      "metadata": {
        "id": "54697845"
      },
      "outputs": [],
      "source": [
        "########## 8. 에이전트를 실행하고 결과를 확인합니다. ##########\n",
        "\n",
        "# 질의에 대한 답변을 출력합니다.\n",
        "response = agent_with_chat_history.stream(\n",
        "    {\n",
        "        \"input\": \"넷플릭스 TV 프로그램 흑백요리사 최종 우승자를 알려주세요. 한글로 답변하세요\"\n",
        "    },\n",
        "    # 세션 ID를 설정\n",
        "    # 여기서는 간단한 메모리 내 ChatMessageHistory를 사용하기 때문에 실제로 사용되지 않음\n",
        "    config={\"configurable\": {\"session_id\": \"abc456\"}},\n",
        ")\n",
        "\n",
        "for step in response:\n",
        "    # 1. Agent가 선택한 도구(action) 출력\n",
        "    if \"actions\" in step:\n",
        "        for action in step[\"actions\"]:\n",
        "            print(f\"\\n[도구 호출] {action.tool}\")\n",
        "            tool_input = action.tool_input\n",
        "            if isinstance(tool_input, dict):\n",
        "                for k, v in tool_input.items():\n",
        "                    print(f\"  {k}: {v}\")\n",
        "            else:\n",
        "                print(f\"  입력값: {tool_input}\")\n",
        "\n",
        "    # 2. 도구 실행 결과(observation) 출력\n",
        "    if \"observations\" in step:\n",
        "        for obs in step[\"observations\"]:\n",
        "            print(f\"\\n[도구 응답] {obs}\")\n",
        "\n",
        "    # 3. 최종 출력 결과\n",
        "    if \"output\" in step:\n",
        "        print(\"\\n[최종 답변]\")\n",
        "        print(step[\"output\"])"
      ]
    },
    {
      "cell_type": "code",
      "execution_count": null,
      "id": "7e3d1607",
      "metadata": {
        "id": "7e3d1607"
      },
      "outputs": [],
      "source": [
        "########## 8. 에이전트를 실행하고 결과를 확인합니다. ##########\n",
        "\n",
        "# 질의에 대한 답변을 출력합니다.\n",
        "response = agent_with_chat_history.stream(\n",
        "    {\"input\": \"이전의 답변을 SNS 게시글 형태로 100자 내외로 작성하세요.\"},\n",
        "    # 세션 ID를 설정\n",
        "    # 여기서는 간단한 메모리 내 ChatMessageHistory를 사용하기 때문에 실제로 사용되지 않음\n",
        "    config={\"configurable\": {\"session_id\": \"abc456\"}},\n",
        ")\n",
        "\n",
        "for step in response:\n",
        "    agent_stream_parser.process_agent_steps(step)"
      ]
    },
    {
      "cell_type": "code",
      "execution_count": null,
      "id": "72d99d59",
      "metadata": {
        "id": "72d99d59"
      },
      "outputs": [],
      "source": [
        "########## 8. 에이전트를 실행하고 결과를 확인합니다. ##########\n",
        "\n",
        "# 질의에 대한 답변을 출력합니다.\n",
        "response = agent_with_chat_history.stream(\n",
        "    {\"input\": \"이전의 답변에 우승자의 소감도 찾아줘.\"},\n",
        "    # 세션 ID를 설정\n",
        "    # 여기서는 간단한 메모리 내 ChatMessageHistory를 사용하기 때문에 실제로 사용되지 않음\n",
        "    config={\"configurable\": {\"session_id\": \"abc456\"}},\n",
        ")\n",
        "\n",
        "for step in response:\n",
        "    # 1. Agent가 선택한 도구(action) 출력\n",
        "    if \"actions\" in step:\n",
        "        for action in step[\"actions\"]:\n",
        "            print(f\"\\n[도구 호출] {action.tool}\")\n",
        "            tool_input = action.tool_input\n",
        "            if isinstance(tool_input, dict):\n",
        "                for k, v in tool_input.items():\n",
        "                    print(f\"  {k}: {v}\")\n",
        "            else:\n",
        "                print(f\"  입력값: {tool_input}\")\n",
        "\n",
        "    # 2. 도구 실행 결과(observation) 출력\n",
        "    if \"observations\" in step:\n",
        "        for obs in step[\"observations\"]:\n",
        "            print(f\"\\n[도구 응답] {obs}\")\n",
        "\n",
        "    # 3. 최종 출력 결과\n",
        "    if \"output\" in step:\n",
        "        print(\"\\n[최종 답변]\")\n",
        "        print(step[\"output\"])"
      ]
    },
    {
      "cell_type": "markdown",
      "id": "2e14407b",
      "metadata": {
        "id": "2e14407b"
      },
      "source": [
        "#### [실습] PDF를 활용한 RAG + 실시간 웹 검색을 활용한 챗봇 구축\n",
        " - 자유주제 가능\n",
        "  \n",
        " - (예시) 요리 레시피 검색 및 추천 에이전트  \n",
        "    목표: PDF로 제공된 요리책에서 원하는 레시피를 검색하고, 찾을 수 없으면 웹에서 정보를 검색해 추천 요리법을 제공하는 시스템을 구축\n",
        "    \n",
        " - (예시) 여행 정보 검색 및 추천 에이전트  \n",
        "   목표: PDF 문서로 제공된 여행 가이드북에서 특정 목적지에 대한 정보를 검색하고, 부족한 정보는 웹에서 검색해 종합적인 여행 계획을 제시하는 시스템을 구축\n",
        "\n",
        " - (예시) 논문 검색 및 관련 연구 서베이 에이전트\n",
        "   목표: 공모전 혹은 프로젝트에 사용할 딥러닝 모델을 논문 RAG 문서로 활용하여, 논문 질의 응답을 받은 후 부족한 정보다 비교 모델을 웹에서 검색해 사용할 모델들을 정리해주는 시스템을 구축"
      ]
    },
    {
      "cell_type": "code",
      "execution_count": null,
      "id": "9da5cf2c",
      "metadata": {
        "id": "9da5cf2c"
      },
      "outputs": [],
      "source": [
        "# 필요한 모듈 import\n",
        "from langchain_core.prompts import ChatPromptTemplate\n",
        "from langchain_community.tools.tavily_search import TavilySearchResults\n",
        "from langchain_community.vectorstores import FAISS\n",
        "from langchain_community.chat_message_histories import ChatMessageHistory\n",
        "from langchain.text_splitter import RecursiveCharacterTextSplitter\n",
        "from langchain_openai import OpenAIEmbeddings, ChatOpenAI\n",
        "from langchain.document_loaders import PyMuPDFLoader\n",
        "from langchain.tools.retriever import create_retriever_tool\n",
        "from langchain.agents import create_tool_calling_agent, AgentExecutor\n",
        "from langchain_core.runnables.history import RunnableWithMessageHistory\n",
        "from langchain_teddynote.messages import AgentStreamParser\n",
        "\n",
        "########## 1. 도구를 정의 ##########\n",
        "### 1-1. Search 도구 ###\n",
        "def search_web():\n",
        "    search = SerpAPIWrapper()\n",
        "\n",
        "    def run_with_source(query: str) -> str:\n",
        "        results = search.results(query)\n",
        "        organic = results.get(\"organic_results\", [])\n",
        "        formatted = []\n",
        "        for r in organic[:5]:\n",
        "            title = r.get(\"title\")\n",
        "            link = r.get(\"link\")\n",
        "            source = r.get(\"source\")\n",
        "            snippet = r.get(\"snippet\")  # ✅ snippet 추가\n",
        "            if link:\n",
        "                formatted.append(f\"- [{title}]({link}) ({source})\\n  {snippet}\")\n",
        "            else:\n",
        "                formatted.append(f\"- {title} (출처: {source})\\n  {snippet}\")\n",
        "        return \"\\n\".join(formatted) if formatted else \"검색 결과가 없습니다.\"\n",
        "\n",
        "    return Tool(\n",
        "        name=\"web_search\",\n",
        "        func=run_with_source,\n",
        "        description=\"실시간 뉴스 및 웹 정보를 검색할 때 사용합니다. 결과는 제목+출처+링크+간단요약(snippet) 형태로 반환됩니다.\"\n",
        "    )\n",
        "\n",
        "### 1-2. PDF 문서 검색 도구 (Retriever) ###\n",
        "# PDF 파일 로드. 파일의 경로 입력\n",
        "loader = PyMuPDFLoader(\"./----.pdf\")\n",
        "\n",
        "# 텍스트 분할기를 사용하여 문서를 분할\n",
        "text_splitter = RecursiveCharacterTextSplitter(chunk_size=1000, chunk_overlap=100)\n",
        "\n",
        "# 문서를 로드하고 분할\n",
        "split_docs = loader.load_and_split(text_splitter)\n",
        "\n",
        "# VectorStore를 생성\n",
        "vector = FAISS.from_documents(split_docs, OpenAIEmbeddings())\n",
        "\n",
        "# Retriever를 생성\n",
        "retriever = vector.as_retriever()\n",
        "\n",
        "\n",
        "retriever_tool = create_retriever_tool(\n",
        "    retriever,\n",
        "    name=\"pdf_search\",  # 도구의 이름을 입력\n",
        "    description=\"use this tool to search information from the PDF document\",  # 도구에 대한 설명을 자세히 기입해야 합니다!!\n",
        ")\n",
        "\n",
        "### 1-3. tools 리스트에 도구 목록을 추가 ###\n",
        "# tools 리스트에 search와 retriever_tool을 추가\n",
        "tools = [search_web(), retriever_tool]\n",
        "\n",
        "########## 2. LLM 을 정의  ##########\n",
        "# LLM 모델을 생성\n",
        "llm = ChatOpenAI(model=\"gpt-4o\", temperature=0)\n",
        "\n",
        "########## 3. Prompt 를 정의##########\n",
        "\n",
        "# Prompt 정의\n",
        "prompt = ChatPromptTemplate.from_messages(\n",
        "    [\n",
        "        (\n",
        "            \"system\",\n",
        "            \"You are a helpful assistant. \"\n",
        "            \"Make sure to use the `pdf_search` tool for searching information from the PDF document. \"\n",
        "            \"If you can't find the information from the PDF document, use the `search` tool for searching information from the web.\",\n",
        "        ),\n",
        "        (\"placeholder\", \"{chat_history}\"),\n",
        "        (\"human\", \"{input}\"),\n",
        "        (\"placeholder\", \"{agent_scratchpad}\"),\n",
        "    ]\n",
        ")\n",
        "\n",
        "########## 4. Agent 를 정의 ##########\n",
        "\n",
        "# 에이전트를 생성\n",
        "# llm, tools, prompt를 인자로 사용\n",
        "agent = create_tool_calling_agent(llm, tools, prompt)\n",
        "\n",
        "########## 5. AgentExecutor 를 정의 ##########\n",
        "\n",
        "# AgentExecutor 클래스를 사용하여 agent와 tools를 설정하고, 상세한 로그를 출력하도록 verbose를 True로 설정\n",
        "agent_executor = AgentExecutor(agent=agent, tools=tools, verbose=False)\n",
        "\n",
        "########## 6. 채팅 기록을 수행하는 메모리를 추가 ##########\n",
        "\n",
        "# session_id 를 저장할 딕셔너리 생성\n",
        "store = {}\n",
        "\n",
        "\n",
        "# session_id 를 기반으로 세션 기록을 가져오는 함수\n",
        "def get_session_history(session_ids):\n",
        "    if session_ids not in store:  # session_id 가 store에 없는 경우\n",
        "        # 새로운 ChatMessageHistory 객체를 생성하여 store에 저장\n",
        "        store[session_ids] = ChatMessageHistory()\n",
        "    return store[session_ids]  # 해당 세션 ID에 대한 세션 기록 반환\n",
        "\n",
        "\n",
        "# 채팅 메시지 기록이 추가된 에이전트를 생성\n",
        "agent_with_chat_history = RunnableWithMessageHistory(\n",
        "    agent_executor,\n",
        "    # 대화 session_id\n",
        "    get_session_history,\n",
        "    # 프롬프트의 질문이 입력되는 key: \"input\"\n",
        "    input_messages_key=\"input\",\n",
        "    # 프롬프트의 메시지가 입력되는 key: \"chat_history\"\n",
        "    history_messages_key=\"chat_history\",\n",
        ")\n",
        "\n",
        "########## 7. Agent 파서를 정의합니다. ##########\n",
        "agent_stream_parser = AgentStreamParser()"
      ]
    }
  ],
  "metadata": {
    "colab": {
      "provenance": []
    },
    "kernelspec": {
      "display_name": "Python 3",
      "language": "python",
      "name": "python3"
    },
    "language_info": {
      "codemirror_mode": {
        "name": "ipython",
        "version": 3
      },
      "file_extension": ".py",
      "mimetype": "text/x-python",
      "name": "python",
      "nbconvert_exporter": "python",
      "pygments_lexer": "ipython3",
      "version": "3.12.3"
    }
  },
  "nbformat": 4,
  "nbformat_minor": 5
}
